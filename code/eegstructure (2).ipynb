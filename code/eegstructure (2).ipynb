{
 "cells": [
  {
   "cell_type": "code",
   "execution_count": 1,
   "metadata": {
    "scrolled": false
   },
   "outputs": [],
   "source": [
    "import matplotlib.pyplot as plt # plotting library\n",
    "import mne\n",
    "import h5py\n",
    "import numpy as np \n",
    "import pandas as pd \n",
    "import random \n",
    "import torch\n",
    "import torchvision\n",
    "from torchvision import transforms\n",
    "from torch.utils.data import DataLoader,random_split\n",
    "from torch import nn\n",
    "import torch.nn.functional as F\n",
    "import torch.optim as optim\n",
    "from tqdm import tqdm\n",
    "import glob\n",
    "import random\n",
    "import os\n",
    "\n",
    "\n"
   ]
  },
  {
   "cell_type": "code",
   "execution_count": 2,
   "metadata": {
    "scrolled": false
   },
   "outputs": [],
   "source": [
    "import glob\n",
    "train_path = r'C:\\Users\\jerem\\eeg_proj\\eeg_env\\train_set\\*'\n",
    "train_files = glob.glob(train_path)"
   ]
  },
  {
   "cell_type": "code",
   "execution_count": 3,
   "metadata": {},
   "outputs": [
    {
     "data": {
      "text/plain": [
       "16743"
      ]
     },
     "execution_count": 3,
     "metadata": {},
     "output_type": "execute_result"
    }
   ],
   "source": [
    "len(train_files)"
   ]
  },
  {
   "cell_type": "code",
   "execution_count": 4,
   "metadata": {},
   "outputs": [
    {
     "name": "stdout",
     "output_type": "stream",
     "text": [
      "Extracting parameters from C:\\Users\\jerem\\Downloads\\segments_test\\100_Skateboard_NP_CCW_Standards.set...\n",
      "Not setting metadata\n",
      "240 matching events found\n",
      "No baseline correction applied\n",
      "0 projection items activated\n",
      "Ready.\n"
     ]
    },
    {
     "name": "stderr",
     "output_type": "stream",
     "text": [
      "C:\\Users\\jerem\\AppData\\Local\\Temp\\ipykernel_14404\\4205727171.py:4: RuntimeWarning: At least one epoch has multiple events. Only the latency of the first event will be retained.\n",
      "  epochs = mne.io.read_epochs_eeglab(traindata[i])\n"
     ]
    },
    {
     "name": "stdout",
     "output_type": "stream",
     "text": [
      "Extracting parameters from C:\\Users\\jerem\\Downloads\\segments_test\\100_Skateboard_NP_CCW_Targets.set...\n",
      "Not setting metadata\n",
      "86 matching events found\n",
      "No baseline correction applied\n",
      "0 projection items activated\n",
      "Ready.\n"
     ]
    },
    {
     "name": "stderr",
     "output_type": "stream",
     "text": [
      "C:\\Users\\jerem\\AppData\\Local\\Temp\\ipykernel_14404\\4205727171.py:4: RuntimeWarning: At least one epoch has multiple events. Only the latency of the first event will be retained.\n",
      "  epochs = mne.io.read_epochs_eeglab(traindata[i])\n"
     ]
    },
    {
     "name": "stdout",
     "output_type": "stream",
     "text": [
      "Extracting parameters from C:\\Users\\jerem\\Downloads\\segments_test\\100_Skateboard_NP_CW_Standards.set...\n",
      "Not setting metadata\n",
      "237 matching events found\n",
      "No baseline correction applied\n",
      "0 projection items activated\n",
      "Ready.\n"
     ]
    },
    {
     "name": "stderr",
     "output_type": "stream",
     "text": [
      "C:\\Users\\jerem\\AppData\\Local\\Temp\\ipykernel_14404\\4205727171.py:4: RuntimeWarning: At least one epoch has multiple events. Only the latency of the first event will be retained.\n",
      "  epochs = mne.io.read_epochs_eeglab(traindata[i])\n"
     ]
    },
    {
     "name": "stdout",
     "output_type": "stream",
     "text": [
      "Extracting parameters from C:\\Users\\jerem\\Downloads\\segments_test\\100_Skateboard_NP_CW_Targets.set...\n",
      "Not setting metadata\n",
      "89 matching events found\n",
      "No baseline correction applied\n",
      "0 projection items activated\n",
      "Ready.\n"
     ]
    },
    {
     "name": "stderr",
     "output_type": "stream",
     "text": [
      "C:\\Users\\jerem\\AppData\\Local\\Temp\\ipykernel_14404\\4205727171.py:4: RuntimeWarning: At least one epoch has multiple events. Only the latency of the first event will be retained.\n",
      "  epochs = mne.io.read_epochs_eeglab(traindata[i])\n"
     ]
    },
    {
     "name": "stdout",
     "output_type": "stream",
     "text": [
      "Extracting parameters from C:\\Users\\jerem\\Downloads\\segments_test\\100_Skateboard_P_CCW_Standards.set...\n",
      "Not setting metadata\n",
      "235 matching events found\n",
      "No baseline correction applied\n",
      "0 projection items activated\n",
      "Ready.\n"
     ]
    },
    {
     "name": "stderr",
     "output_type": "stream",
     "text": [
      "C:\\Users\\jerem\\AppData\\Local\\Temp\\ipykernel_14404\\4205727171.py:4: RuntimeWarning: At least one epoch has multiple events. Only the latency of the first event will be retained.\n",
      "  epochs = mne.io.read_epochs_eeglab(traindata[i])\n"
     ]
    },
    {
     "name": "stdout",
     "output_type": "stream",
     "text": [
      "Extracting parameters from C:\\Users\\jerem\\Downloads\\segments_test\\100_Skateboard_P_CCW_Targets.set...\n",
      "Not setting metadata\n",
      "87 matching events found\n",
      "No baseline correction applied\n",
      "0 projection items activated\n",
      "Ready.\n"
     ]
    },
    {
     "name": "stderr",
     "output_type": "stream",
     "text": [
      "C:\\Users\\jerem\\AppData\\Local\\Temp\\ipykernel_14404\\4205727171.py:4: RuntimeWarning: At least one epoch has multiple events. Only the latency of the first event will be retained.\n",
      "  epochs = mne.io.read_epochs_eeglab(traindata[i])\n"
     ]
    },
    {
     "name": "stdout",
     "output_type": "stream",
     "text": [
      "Extracting parameters from C:\\Users\\jerem\\Downloads\\segments_test\\100_Skateboard_P_CW_Standards.set...\n",
      "Not setting metadata\n",
      "242 matching events found\n",
      "No baseline correction applied\n",
      "0 projection items activated\n",
      "Ready.\n"
     ]
    },
    {
     "name": "stderr",
     "output_type": "stream",
     "text": [
      "C:\\Users\\jerem\\AppData\\Local\\Temp\\ipykernel_14404\\4205727171.py:4: RuntimeWarning: At least one epoch has multiple events. Only the latency of the first event will be retained.\n",
      "  epochs = mne.io.read_epochs_eeglab(traindata[i])\n"
     ]
    },
    {
     "name": "stdout",
     "output_type": "stream",
     "text": [
      "Extracting parameters from C:\\Users\\jerem\\Downloads\\segments_test\\100_Skateboard_P_CW_Targets.set...\n",
      "Not setting metadata\n",
      "91 matching events found\n",
      "No baseline correction applied\n",
      "0 projection items activated\n",
      "Ready.\n"
     ]
    },
    {
     "name": "stderr",
     "output_type": "stream",
     "text": [
      "C:\\Users\\jerem\\AppData\\Local\\Temp\\ipykernel_14404\\4205727171.py:4: RuntimeWarning: At least one epoch has multiple events. Only the latency of the first event will be retained.\n",
      "  epochs = mne.io.read_epochs_eeglab(traindata[i])\n"
     ]
    },
    {
     "name": "stdout",
     "output_type": "stream",
     "text": [
      "Extracting parameters from C:\\Users\\jerem\\Downloads\\segments_test\\101_Skateboard_NP_CCW_Standards.set...\n",
      "Not setting metadata\n",
      "229 matching events found\n",
      "No baseline correction applied\n",
      "0 projection items activated\n",
      "Ready.\n"
     ]
    },
    {
     "name": "stderr",
     "output_type": "stream",
     "text": [
      "C:\\Users\\jerem\\AppData\\Local\\Temp\\ipykernel_14404\\4205727171.py:4: RuntimeWarning: At least one epoch has multiple events. Only the latency of the first event will be retained.\n",
      "  epochs = mne.io.read_epochs_eeglab(traindata[i])\n"
     ]
    },
    {
     "name": "stdout",
     "output_type": "stream",
     "text": [
      "Extracting parameters from C:\\Users\\jerem\\Downloads\\segments_test\\101_Skateboard_NP_CCW_Targets.set...\n",
      "Not setting metadata\n",
      "85 matching events found\n",
      "No baseline correction applied\n",
      "0 projection items activated\n",
      "Ready.\n"
     ]
    },
    {
     "name": "stderr",
     "output_type": "stream",
     "text": [
      "C:\\Users\\jerem\\AppData\\Local\\Temp\\ipykernel_14404\\4205727171.py:4: RuntimeWarning: At least one epoch has multiple events. Only the latency of the first event will be retained.\n",
      "  epochs = mne.io.read_epochs_eeglab(traindata[i])\n"
     ]
    },
    {
     "name": "stdout",
     "output_type": "stream",
     "text": [
      "Extracting parameters from C:\\Users\\jerem\\Downloads\\segments_test\\101_Skateboard_NP_CW_Standards.set...\n",
      "Not setting metadata\n",
      "236 matching events found\n",
      "No baseline correction applied\n",
      "0 projection items activated\n",
      "Ready.\n"
     ]
    },
    {
     "name": "stderr",
     "output_type": "stream",
     "text": [
      "C:\\Users\\jerem\\AppData\\Local\\Temp\\ipykernel_14404\\4205727171.py:4: RuntimeWarning: At least one epoch has multiple events. Only the latency of the first event will be retained.\n",
      "  epochs = mne.io.read_epochs_eeglab(traindata[i])\n"
     ]
    },
    {
     "name": "stdout",
     "output_type": "stream",
     "text": [
      "Extracting parameters from C:\\Users\\jerem\\Downloads\\segments_test\\101_Skateboard_NP_CW_Targets.set...\n",
      "Not setting metadata\n",
      "89 matching events found\n",
      "No baseline correction applied\n",
      "0 projection items activated\n",
      "Ready.\n"
     ]
    },
    {
     "name": "stderr",
     "output_type": "stream",
     "text": [
      "C:\\Users\\jerem\\AppData\\Local\\Temp\\ipykernel_14404\\4205727171.py:4: RuntimeWarning: At least one epoch has multiple events. Only the latency of the first event will be retained.\n",
      "  epochs = mne.io.read_epochs_eeglab(traindata[i])\n"
     ]
    },
    {
     "name": "stdout",
     "output_type": "stream",
     "text": [
      "Extracting parameters from C:\\Users\\jerem\\Downloads\\segments_test\\101_Skateboard_P_CCW_Standards.set...\n",
      "Not setting metadata\n",
      "224 matching events found\n",
      "No baseline correction applied\n",
      "0 projection items activated\n",
      "Ready.\n"
     ]
    },
    {
     "name": "stderr",
     "output_type": "stream",
     "text": [
      "C:\\Users\\jerem\\AppData\\Local\\Temp\\ipykernel_14404\\4205727171.py:4: RuntimeWarning: At least one epoch has multiple events. Only the latency of the first event will be retained.\n",
      "  epochs = mne.io.read_epochs_eeglab(traindata[i])\n"
     ]
    },
    {
     "name": "stdout",
     "output_type": "stream",
     "text": [
      "Extracting parameters from C:\\Users\\jerem\\Downloads\\segments_test\\101_Skateboard_P_CCW_Targets.set...\n",
      "Not setting metadata\n",
      "81 matching events found\n",
      "No baseline correction applied\n",
      "0 projection items activated\n",
      "Ready.\n"
     ]
    },
    {
     "name": "stderr",
     "output_type": "stream",
     "text": [
      "C:\\Users\\jerem\\AppData\\Local\\Temp\\ipykernel_14404\\4205727171.py:4: RuntimeWarning: At least one epoch has multiple events. Only the latency of the first event will be retained.\n",
      "  epochs = mne.io.read_epochs_eeglab(traindata[i])\n"
     ]
    },
    {
     "name": "stdout",
     "output_type": "stream",
     "text": [
      "Extracting parameters from C:\\Users\\jerem\\Downloads\\segments_test\\101_Skateboard_P_CW_Standards.set...\n",
      "Not setting metadata\n",
      "205 matching events found\n",
      "No baseline correction applied\n",
      "0 projection items activated\n",
      "Ready.\n"
     ]
    },
    {
     "name": "stderr",
     "output_type": "stream",
     "text": [
      "C:\\Users\\jerem\\AppData\\Local\\Temp\\ipykernel_14404\\4205727171.py:4: RuntimeWarning: At least one epoch has multiple events. Only the latency of the first event will be retained.\n",
      "  epochs = mne.io.read_epochs_eeglab(traindata[i])\n"
     ]
    },
    {
     "name": "stdout",
     "output_type": "stream",
     "text": [
      "Extracting parameters from C:\\Users\\jerem\\Downloads\\segments_test\\101_Skateboard_P_CW_Targets.set...\n",
      "Not setting metadata\n",
      "79 matching events found\n",
      "No baseline correction applied\n",
      "0 projection items activated\n",
      "Ready.\n"
     ]
    },
    {
     "name": "stderr",
     "output_type": "stream",
     "text": [
      "C:\\Users\\jerem\\AppData\\Local\\Temp\\ipykernel_14404\\4205727171.py:4: RuntimeWarning: At least one epoch has multiple events. Only the latency of the first event will be retained.\n",
      "  epochs = mne.io.read_epochs_eeglab(traindata[i])\n"
     ]
    },
    {
     "name": "stdout",
     "output_type": "stream",
     "text": [
      "Extracting parameters from C:\\Users\\jerem\\Downloads\\segments_test\\102_Skateboard_NP_CCW_Standards.set...\n",
      "Not setting metadata\n",
      "215 matching events found\n",
      "No baseline correction applied\n",
      "0 projection items activated\n",
      "Ready.\n"
     ]
    },
    {
     "name": "stderr",
     "output_type": "stream",
     "text": [
      "C:\\Users\\jerem\\AppData\\Local\\Temp\\ipykernel_14404\\4205727171.py:4: RuntimeWarning: At least one epoch has multiple events. Only the latency of the first event will be retained.\n",
      "  epochs = mne.io.read_epochs_eeglab(traindata[i])\n"
     ]
    },
    {
     "name": "stdout",
     "output_type": "stream",
     "text": [
      "Extracting parameters from C:\\Users\\jerem\\Downloads\\segments_test\\102_Skateboard_NP_CCW_Targets.set...\n",
      "Not setting metadata\n",
      "84 matching events found\n",
      "No baseline correction applied\n",
      "0 projection items activated\n",
      "Ready.\n"
     ]
    },
    {
     "name": "stderr",
     "output_type": "stream",
     "text": [
      "C:\\Users\\jerem\\AppData\\Local\\Temp\\ipykernel_14404\\4205727171.py:4: RuntimeWarning: At least one epoch has multiple events. Only the latency of the first event will be retained.\n",
      "  epochs = mne.io.read_epochs_eeglab(traindata[i])\n"
     ]
    },
    {
     "name": "stdout",
     "output_type": "stream",
     "text": [
      "Extracting parameters from C:\\Users\\jerem\\Downloads\\segments_test\\102_Skateboard_NP_CW_Standards.set...\n",
      "Not setting metadata\n",
      "227 matching events found\n",
      "No baseline correction applied\n",
      "0 projection items activated\n",
      "Ready.\n"
     ]
    },
    {
     "name": "stderr",
     "output_type": "stream",
     "text": [
      "C:\\Users\\jerem\\AppData\\Local\\Temp\\ipykernel_14404\\4205727171.py:4: RuntimeWarning: At least one epoch has multiple events. Only the latency of the first event will be retained.\n",
      "  epochs = mne.io.read_epochs_eeglab(traindata[i])\n"
     ]
    },
    {
     "name": "stdout",
     "output_type": "stream",
     "text": [
      "Extracting parameters from C:\\Users\\jerem\\Downloads\\segments_test\\102_Skateboard_NP_CW_Targets.set...\n",
      "Not setting metadata\n",
      "87 matching events found\n",
      "No baseline correction applied\n",
      "0 projection items activated\n",
      "Ready.\n"
     ]
    },
    {
     "name": "stderr",
     "output_type": "stream",
     "text": [
      "C:\\Users\\jerem\\AppData\\Local\\Temp\\ipykernel_14404\\4205727171.py:4: RuntimeWarning: At least one epoch has multiple events. Only the latency of the first event will be retained.\n",
      "  epochs = mne.io.read_epochs_eeglab(traindata[i])\n"
     ]
    },
    {
     "name": "stdout",
     "output_type": "stream",
     "text": [
      "Extracting parameters from C:\\Users\\jerem\\Downloads\\segments_test\\102_Skateboard_P_CCW_Standards.set...\n",
      "Not setting metadata\n",
      "241 matching events found\n",
      "No baseline correction applied\n",
      "0 projection items activated\n",
      "Ready.\n"
     ]
    },
    {
     "name": "stderr",
     "output_type": "stream",
     "text": [
      "C:\\Users\\jerem\\AppData\\Local\\Temp\\ipykernel_14404\\4205727171.py:4: RuntimeWarning: At least one epoch has multiple events. Only the latency of the first event will be retained.\n",
      "  epochs = mne.io.read_epochs_eeglab(traindata[i])\n"
     ]
    },
    {
     "name": "stdout",
     "output_type": "stream",
     "text": [
      "Extracting parameters from C:\\Users\\jerem\\Downloads\\segments_test\\102_Skateboard_P_CCW_Targets.set...\n",
      "Not setting metadata\n",
      "87 matching events found\n",
      "No baseline correction applied\n",
      "0 projection items activated\n",
      "Ready.\n"
     ]
    },
    {
     "name": "stderr",
     "output_type": "stream",
     "text": [
      "C:\\Users\\jerem\\AppData\\Local\\Temp\\ipykernel_14404\\4205727171.py:4: RuntimeWarning: At least one epoch has multiple events. Only the latency of the first event will be retained.\n",
      "  epochs = mne.io.read_epochs_eeglab(traindata[i])\n"
     ]
    },
    {
     "name": "stdout",
     "output_type": "stream",
     "text": [
      "Extracting parameters from C:\\Users\\jerem\\Downloads\\segments_test\\102_Skateboard_P_CW_Standards.set...\n",
      "Not setting metadata\n",
      "239 matching events found\n",
      "No baseline correction applied\n",
      "0 projection items activated\n",
      "Ready.\n"
     ]
    },
    {
     "name": "stderr",
     "output_type": "stream",
     "text": [
      "C:\\Users\\jerem\\AppData\\Local\\Temp\\ipykernel_14404\\4205727171.py:4: RuntimeWarning: At least one epoch has multiple events. Only the latency of the first event will be retained.\n",
      "  epochs = mne.io.read_epochs_eeglab(traindata[i])\n"
     ]
    },
    {
     "name": "stdout",
     "output_type": "stream",
     "text": [
      "Extracting parameters from C:\\Users\\jerem\\Downloads\\segments_test\\102_Skateboard_P_CW_Targets.set...\n",
      "Not setting metadata\n",
      "88 matching events found\n",
      "No baseline correction applied\n",
      "0 projection items activated\n",
      "Ready.\n"
     ]
    },
    {
     "name": "stderr",
     "output_type": "stream",
     "text": [
      "C:\\Users\\jerem\\AppData\\Local\\Temp\\ipykernel_14404\\4205727171.py:4: RuntimeWarning: At least one epoch has multiple events. Only the latency of the first event will be retained.\n",
      "  epochs = mne.io.read_epochs_eeglab(traindata[i])\n"
     ]
    },
    {
     "name": "stdout",
     "output_type": "stream",
     "text": [
      "Extracting parameters from C:\\Users\\jerem\\Downloads\\segments_test\\103_Skateboard_NP_CCW_Standards.set...\n",
      "Not setting metadata\n",
      "236 matching events found\n",
      "No baseline correction applied\n",
      "0 projection items activated\n",
      "Ready.\n"
     ]
    },
    {
     "name": "stderr",
     "output_type": "stream",
     "text": [
      "C:\\Users\\jerem\\AppData\\Local\\Temp\\ipykernel_14404\\4205727171.py:4: RuntimeWarning: At least one epoch has multiple events. Only the latency of the first event will be retained.\n",
      "  epochs = mne.io.read_epochs_eeglab(traindata[i])\n"
     ]
    },
    {
     "name": "stdout",
     "output_type": "stream",
     "text": [
      "Extracting parameters from C:\\Users\\jerem\\Downloads\\segments_test\\103_Skateboard_NP_CCW_Targets.set...\n",
      "Not setting metadata\n",
      "81 matching events found\n",
      "No baseline correction applied\n",
      "0 projection items activated\n",
      "Ready.\n"
     ]
    },
    {
     "name": "stderr",
     "output_type": "stream",
     "text": [
      "C:\\Users\\jerem\\AppData\\Local\\Temp\\ipykernel_14404\\4205727171.py:4: RuntimeWarning: At least one epoch has multiple events. Only the latency of the first event will be retained.\n",
      "  epochs = mne.io.read_epochs_eeglab(traindata[i])\n"
     ]
    },
    {
     "name": "stdout",
     "output_type": "stream",
     "text": [
      "Extracting parameters from C:\\Users\\jerem\\Downloads\\segments_test\\103_Skateboard_NP_CW_Standards.set...\n",
      "Not setting metadata\n",
      "236 matching events found\n",
      "No baseline correction applied\n",
      "0 projection items activated\n",
      "Ready.\n"
     ]
    },
    {
     "name": "stderr",
     "output_type": "stream",
     "text": [
      "C:\\Users\\jerem\\AppData\\Local\\Temp\\ipykernel_14404\\4205727171.py:4: RuntimeWarning: At least one epoch has multiple events. Only the latency of the first event will be retained.\n",
      "  epochs = mne.io.read_epochs_eeglab(traindata[i])\n"
     ]
    },
    {
     "name": "stdout",
     "output_type": "stream",
     "text": [
      "Extracting parameters from C:\\Users\\jerem\\Downloads\\segments_test\\103_Skateboard_NP_CW_Targets.set...\n",
      "Not setting metadata\n",
      "86 matching events found\n",
      "No baseline correction applied\n",
      "0 projection items activated\n",
      "Ready.\n"
     ]
    },
    {
     "name": "stderr",
     "output_type": "stream",
     "text": [
      "C:\\Users\\jerem\\AppData\\Local\\Temp\\ipykernel_14404\\4205727171.py:4: RuntimeWarning: At least one epoch has multiple events. Only the latency of the first event will be retained.\n",
      "  epochs = mne.io.read_epochs_eeglab(traindata[i])\n"
     ]
    },
    {
     "name": "stdout",
     "output_type": "stream",
     "text": [
      "Extracting parameters from C:\\Users\\jerem\\Downloads\\segments_test\\103_Skateboard_P_CCW_Standards.set...\n",
      "Not setting metadata\n",
      "236 matching events found\n",
      "No baseline correction applied\n",
      "0 projection items activated\n",
      "Ready.\n"
     ]
    },
    {
     "name": "stderr",
     "output_type": "stream",
     "text": [
      "C:\\Users\\jerem\\AppData\\Local\\Temp\\ipykernel_14404\\4205727171.py:4: RuntimeWarning: At least one epoch has multiple events. Only the latency of the first event will be retained.\n",
      "  epochs = mne.io.read_epochs_eeglab(traindata[i])\n"
     ]
    },
    {
     "name": "stdout",
     "output_type": "stream",
     "text": [
      "Extracting parameters from C:\\Users\\jerem\\Downloads\\segments_test\\103_Skateboard_P_CCW_Targets.set...\n",
      "Not setting metadata\n",
      "87 matching events found\n",
      "No baseline correction applied\n",
      "0 projection items activated\n",
      "Ready.\n"
     ]
    },
    {
     "name": "stderr",
     "output_type": "stream",
     "text": [
      "C:\\Users\\jerem\\AppData\\Local\\Temp\\ipykernel_14404\\4205727171.py:4: RuntimeWarning: At least one epoch has multiple events. Only the latency of the first event will be retained.\n",
      "  epochs = mne.io.read_epochs_eeglab(traindata[i])\n"
     ]
    },
    {
     "name": "stdout",
     "output_type": "stream",
     "text": [
      "Extracting parameters from C:\\Users\\jerem\\Downloads\\segments_test\\103_Skateboard_P_CW_Standards.set...\n",
      "Not setting metadata\n",
      "235 matching events found\n",
      "No baseline correction applied\n",
      "0 projection items activated\n",
      "Ready.\n"
     ]
    },
    {
     "name": "stderr",
     "output_type": "stream",
     "text": [
      "C:\\Users\\jerem\\AppData\\Local\\Temp\\ipykernel_14404\\4205727171.py:4: RuntimeWarning: At least one epoch has multiple events. Only the latency of the first event will be retained.\n",
      "  epochs = mne.io.read_epochs_eeglab(traindata[i])\n"
     ]
    },
    {
     "name": "stdout",
     "output_type": "stream",
     "text": [
      "Extracting parameters from C:\\Users\\jerem\\Downloads\\segments_test\\103_Skateboard_P_CW_Targets.set...\n",
      "Not setting metadata\n",
      "88 matching events found\n",
      "No baseline correction applied\n",
      "0 projection items activated\n",
      "Ready.\n"
     ]
    },
    {
     "name": "stderr",
     "output_type": "stream",
     "text": [
      "C:\\Users\\jerem\\AppData\\Local\\Temp\\ipykernel_14404\\4205727171.py:4: RuntimeWarning: At least one epoch has multiple events. Only the latency of the first event will be retained.\n",
      "  epochs = mne.io.read_epochs_eeglab(traindata[i])\n"
     ]
    },
    {
     "name": "stdout",
     "output_type": "stream",
     "text": [
      "Extracting parameters from C:\\Users\\jerem\\Downloads\\segments_test\\104_Skateboard_NP_CCW_Standards.set...\n",
      "Not setting metadata\n",
      "187 matching events found\n",
      "No baseline correction applied\n",
      "0 projection items activated\n",
      "Ready.\n"
     ]
    },
    {
     "name": "stderr",
     "output_type": "stream",
     "text": [
      "C:\\Users\\jerem\\AppData\\Local\\Temp\\ipykernel_14404\\4205727171.py:4: RuntimeWarning: At least one epoch has multiple events. Only the latency of the first event will be retained.\n",
      "  epochs = mne.io.read_epochs_eeglab(traindata[i])\n"
     ]
    },
    {
     "name": "stdout",
     "output_type": "stream",
     "text": [
      "Extracting parameters from C:\\Users\\jerem\\Downloads\\segments_test\\104_Skateboard_NP_CCW_Targets.set...\n",
      "Not setting metadata\n",
      "71 matching events found\n",
      "No baseline correction applied\n",
      "0 projection items activated\n",
      "Ready.\n"
     ]
    },
    {
     "name": "stderr",
     "output_type": "stream",
     "text": [
      "C:\\Users\\jerem\\AppData\\Local\\Temp\\ipykernel_14404\\4205727171.py:4: RuntimeWarning: At least one epoch has multiple events. Only the latency of the first event will be retained.\n",
      "  epochs = mne.io.read_epochs_eeglab(traindata[i])\n"
     ]
    },
    {
     "name": "stdout",
     "output_type": "stream",
     "text": [
      "Extracting parameters from C:\\Users\\jerem\\Downloads\\segments_test\\104_Skateboard_NP_CW_Standards.set...\n",
      "Not setting metadata\n",
      "241 matching events found\n",
      "No baseline correction applied\n",
      "0 projection items activated\n",
      "Ready.\n"
     ]
    },
    {
     "name": "stderr",
     "output_type": "stream",
     "text": [
      "C:\\Users\\jerem\\AppData\\Local\\Temp\\ipykernel_14404\\4205727171.py:4: RuntimeWarning: At least one epoch has multiple events. Only the latency of the first event will be retained.\n",
      "  epochs = mne.io.read_epochs_eeglab(traindata[i])\n"
     ]
    },
    {
     "name": "stdout",
     "output_type": "stream",
     "text": [
      "Extracting parameters from C:\\Users\\jerem\\Downloads\\segments_test\\104_Skateboard_NP_CW_Targets.set...\n",
      "Not setting metadata\n",
      "88 matching events found\n",
      "No baseline correction applied\n",
      "0 projection items activated\n",
      "Ready.\n"
     ]
    },
    {
     "name": "stderr",
     "output_type": "stream",
     "text": [
      "C:\\Users\\jerem\\AppData\\Local\\Temp\\ipykernel_14404\\4205727171.py:4: RuntimeWarning: At least one epoch has multiple events. Only the latency of the first event will be retained.\n",
      "  epochs = mne.io.read_epochs_eeglab(traindata[i])\n"
     ]
    },
    {
     "name": "stdout",
     "output_type": "stream",
     "text": [
      "Extracting parameters from C:\\Users\\jerem\\Downloads\\segments_test\\104_Skateboard_P_CCW_Standards.set...\n",
      "Not setting metadata\n",
      "237 matching events found\n",
      "No baseline correction applied\n",
      "0 projection items activated\n",
      "Ready.\n"
     ]
    },
    {
     "name": "stderr",
     "output_type": "stream",
     "text": [
      "C:\\Users\\jerem\\AppData\\Local\\Temp\\ipykernel_14404\\4205727171.py:4: RuntimeWarning: At least one epoch has multiple events. Only the latency of the first event will be retained.\n",
      "  epochs = mne.io.read_epochs_eeglab(traindata[i])\n"
     ]
    },
    {
     "name": "stdout",
     "output_type": "stream",
     "text": [
      "Extracting parameters from C:\\Users\\jerem\\Downloads\\segments_test\\104_Skateboard_P_CCW_Targets.set...\n",
      "Not setting metadata\n",
      "86 matching events found\n",
      "No baseline correction applied\n",
      "0 projection items activated\n",
      "Ready.\n"
     ]
    },
    {
     "name": "stderr",
     "output_type": "stream",
     "text": [
      "C:\\Users\\jerem\\AppData\\Local\\Temp\\ipykernel_14404\\4205727171.py:4: RuntimeWarning: At least one epoch has multiple events. Only the latency of the first event will be retained.\n",
      "  epochs = mne.io.read_epochs_eeglab(traindata[i])\n"
     ]
    },
    {
     "name": "stdout",
     "output_type": "stream",
     "text": [
      "Extracting parameters from C:\\Users\\jerem\\Downloads\\segments_test\\104_Skateboard_P_CW_Standards.set...\n",
      "Not setting metadata\n",
      "217 matching events found\n",
      "No baseline correction applied\n",
      "0 projection items activated\n",
      "Ready.\n"
     ]
    },
    {
     "name": "stderr",
     "output_type": "stream",
     "text": [
      "C:\\Users\\jerem\\AppData\\Local\\Temp\\ipykernel_14404\\4205727171.py:4: RuntimeWarning: At least one epoch has multiple events. Only the latency of the first event will be retained.\n",
      "  epochs = mne.io.read_epochs_eeglab(traindata[i])\n"
     ]
    },
    {
     "name": "stdout",
     "output_type": "stream",
     "text": [
      "Extracting parameters from C:\\Users\\jerem\\Downloads\\segments_test\\104_Skateboard_P_CW_Targets.set...\n",
      "Not setting metadata\n",
      "89 matching events found\n",
      "No baseline correction applied\n",
      "0 projection items activated\n",
      "Ready.\n"
     ]
    },
    {
     "name": "stderr",
     "output_type": "stream",
     "text": [
      "C:\\Users\\jerem\\AppData\\Local\\Temp\\ipykernel_14404\\4205727171.py:4: RuntimeWarning: At least one epoch has multiple events. Only the latency of the first event will be retained.\n",
      "  epochs = mne.io.read_epochs_eeglab(traindata[i])\n"
     ]
    },
    {
     "name": "stdout",
     "output_type": "stream",
     "text": [
      "Extracting parameters from C:\\Users\\jerem\\Downloads\\segments_test\\106_Skateboard_NP_CCW_Standards.set...\n",
      "Not setting metadata\n",
      "239 matching events found\n",
      "No baseline correction applied\n",
      "0 projection items activated\n",
      "Ready.\n"
     ]
    },
    {
     "name": "stderr",
     "output_type": "stream",
     "text": [
      "C:\\Users\\jerem\\AppData\\Local\\Temp\\ipykernel_14404\\4205727171.py:4: RuntimeWarning: At least one epoch has multiple events. Only the latency of the first event will be retained.\n",
      "  epochs = mne.io.read_epochs_eeglab(traindata[i])\n"
     ]
    },
    {
     "name": "stdout",
     "output_type": "stream",
     "text": [
      "Extracting parameters from C:\\Users\\jerem\\Downloads\\segments_test\\106_Skateboard_NP_CCW_Targets.set...\n",
      "Not setting metadata\n",
      "88 matching events found\n",
      "No baseline correction applied\n",
      "0 projection items activated\n",
      "Ready.\n"
     ]
    },
    {
     "name": "stderr",
     "output_type": "stream",
     "text": [
      "C:\\Users\\jerem\\AppData\\Local\\Temp\\ipykernel_14404\\4205727171.py:4: RuntimeWarning: At least one epoch has multiple events. Only the latency of the first event will be retained.\n",
      "  epochs = mne.io.read_epochs_eeglab(traindata[i])\n"
     ]
    },
    {
     "name": "stdout",
     "output_type": "stream",
     "text": [
      "Extracting parameters from C:\\Users\\jerem\\Downloads\\segments_test\\106_Skateboard_NP_CW_Standards.set...\n",
      "Not setting metadata\n",
      "232 matching events found\n",
      "No baseline correction applied\n",
      "0 projection items activated\n",
      "Ready.\n"
     ]
    },
    {
     "name": "stderr",
     "output_type": "stream",
     "text": [
      "C:\\Users\\jerem\\AppData\\Local\\Temp\\ipykernel_14404\\4205727171.py:4: RuntimeWarning: At least one epoch has multiple events. Only the latency of the first event will be retained.\n",
      "  epochs = mne.io.read_epochs_eeglab(traindata[i])\n"
     ]
    },
    {
     "name": "stdout",
     "output_type": "stream",
     "text": [
      "Extracting parameters from C:\\Users\\jerem\\Downloads\\segments_test\\106_Skateboard_NP_CW_Targets.set...\n",
      "Not setting metadata\n",
      "87 matching events found\n",
      "No baseline correction applied\n",
      "0 projection items activated\n",
      "Ready.\n"
     ]
    },
    {
     "name": "stderr",
     "output_type": "stream",
     "text": [
      "C:\\Users\\jerem\\AppData\\Local\\Temp\\ipykernel_14404\\4205727171.py:4: RuntimeWarning: At least one epoch has multiple events. Only the latency of the first event will be retained.\n",
      "  epochs = mne.io.read_epochs_eeglab(traindata[i])\n"
     ]
    },
    {
     "name": "stdout",
     "output_type": "stream",
     "text": [
      "Extracting parameters from C:\\Users\\jerem\\Downloads\\segments_test\\106_Skateboard_P_CCW_Standards.set...\n",
      "Not setting metadata\n",
      "235 matching events found\n",
      "No baseline correction applied\n",
      "0 projection items activated\n",
      "Ready.\n"
     ]
    },
    {
     "name": "stderr",
     "output_type": "stream",
     "text": [
      "C:\\Users\\jerem\\AppData\\Local\\Temp\\ipykernel_14404\\4205727171.py:4: RuntimeWarning: At least one epoch has multiple events. Only the latency of the first event will be retained.\n",
      "  epochs = mne.io.read_epochs_eeglab(traindata[i])\n"
     ]
    },
    {
     "name": "stdout",
     "output_type": "stream",
     "text": [
      "Extracting parameters from C:\\Users\\jerem\\Downloads\\segments_test\\106_Skateboard_P_CCW_Targets.set...\n",
      "Not setting metadata\n",
      "88 matching events found\n",
      "No baseline correction applied\n",
      "0 projection items activated\n",
      "Ready.\n"
     ]
    },
    {
     "name": "stderr",
     "output_type": "stream",
     "text": [
      "C:\\Users\\jerem\\AppData\\Local\\Temp\\ipykernel_14404\\4205727171.py:4: RuntimeWarning: At least one epoch has multiple events. Only the latency of the first event will be retained.\n",
      "  epochs = mne.io.read_epochs_eeglab(traindata[i])\n"
     ]
    },
    {
     "name": "stdout",
     "output_type": "stream",
     "text": [
      "Extracting parameters from C:\\Users\\jerem\\Downloads\\segments_test\\106_Skateboard_P_CW_Standards.set...\n",
      "Not setting metadata\n",
      "238 matching events found\n",
      "No baseline correction applied\n",
      "0 projection items activated\n",
      "Ready.\n"
     ]
    },
    {
     "name": "stderr",
     "output_type": "stream",
     "text": [
      "C:\\Users\\jerem\\AppData\\Local\\Temp\\ipykernel_14404\\4205727171.py:4: RuntimeWarning: At least one epoch has multiple events. Only the latency of the first event will be retained.\n",
      "  epochs = mne.io.read_epochs_eeglab(traindata[i])\n"
     ]
    },
    {
     "name": "stdout",
     "output_type": "stream",
     "text": [
      "Extracting parameters from C:\\Users\\jerem\\Downloads\\segments_test\\106_Skateboard_P_CW_Targets.set...\n",
      "Not setting metadata\n",
      "87 matching events found\n",
      "No baseline correction applied\n",
      "0 projection items activated\n",
      "Ready.\n"
     ]
    },
    {
     "name": "stderr",
     "output_type": "stream",
     "text": [
      "C:\\Users\\jerem\\AppData\\Local\\Temp\\ipykernel_14404\\4205727171.py:4: RuntimeWarning: At least one epoch has multiple events. Only the latency of the first event will be retained.\n",
      "  epochs = mne.io.read_epochs_eeglab(traindata[i])\n"
     ]
    },
    {
     "name": "stdout",
     "output_type": "stream",
     "text": [
      "Extracting parameters from C:\\Users\\jerem\\Downloads\\segments_test\\108_Skateboard_NP_CCW_Standards.set...\n",
      "Not setting metadata\n",
      "233 matching events found\n",
      "No baseline correction applied\n",
      "0 projection items activated\n",
      "Ready.\n"
     ]
    },
    {
     "name": "stderr",
     "output_type": "stream",
     "text": [
      "C:\\Users\\jerem\\AppData\\Local\\Temp\\ipykernel_14404\\4205727171.py:4: RuntimeWarning: At least one epoch has multiple events. Only the latency of the first event will be retained.\n",
      "  epochs = mne.io.read_epochs_eeglab(traindata[i])\n"
     ]
    },
    {
     "name": "stdout",
     "output_type": "stream",
     "text": [
      "Extracting parameters from C:\\Users\\jerem\\Downloads\\segments_test\\108_Skateboard_NP_CCW_Targets.set...\n",
      "Not setting metadata\n",
      "86 matching events found\n",
      "No baseline correction applied\n",
      "0 projection items activated\n",
      "Ready.\n"
     ]
    },
    {
     "name": "stderr",
     "output_type": "stream",
     "text": [
      "C:\\Users\\jerem\\AppData\\Local\\Temp\\ipykernel_14404\\4205727171.py:4: RuntimeWarning: At least one epoch has multiple events. Only the latency of the first event will be retained.\n",
      "  epochs = mne.io.read_epochs_eeglab(traindata[i])\n"
     ]
    },
    {
     "name": "stdout",
     "output_type": "stream",
     "text": [
      "Extracting parameters from C:\\Users\\jerem\\Downloads\\segments_test\\108_Skateboard_NP_CW_Standards.set...\n",
      "Not setting metadata\n",
      "234 matching events found\n",
      "No baseline correction applied\n",
      "0 projection items activated\n",
      "Ready.\n"
     ]
    },
    {
     "name": "stderr",
     "output_type": "stream",
     "text": [
      "C:\\Users\\jerem\\AppData\\Local\\Temp\\ipykernel_14404\\4205727171.py:4: RuntimeWarning: At least one epoch has multiple events. Only the latency of the first event will be retained.\n",
      "  epochs = mne.io.read_epochs_eeglab(traindata[i])\n"
     ]
    },
    {
     "name": "stdout",
     "output_type": "stream",
     "text": [
      "Extracting parameters from C:\\Users\\jerem\\Downloads\\segments_test\\108_Skateboard_NP_CW_Targets.set...\n",
      "Not setting metadata\n",
      "87 matching events found\n",
      "No baseline correction applied\n",
      "0 projection items activated\n",
      "Ready.\n"
     ]
    },
    {
     "name": "stderr",
     "output_type": "stream",
     "text": [
      "C:\\Users\\jerem\\AppData\\Local\\Temp\\ipykernel_14404\\4205727171.py:4: RuntimeWarning: At least one epoch has multiple events. Only the latency of the first event will be retained.\n",
      "  epochs = mne.io.read_epochs_eeglab(traindata[i])\n"
     ]
    },
    {
     "name": "stdout",
     "output_type": "stream",
     "text": [
      "Extracting parameters from C:\\Users\\jerem\\Downloads\\segments_test\\108_Skateboard_P_CCW_Standards.set...\n",
      "Not setting metadata\n",
      "237 matching events found\n",
      "No baseline correction applied\n",
      "0 projection items activated\n",
      "Ready.\n"
     ]
    },
    {
     "name": "stderr",
     "output_type": "stream",
     "text": [
      "C:\\Users\\jerem\\AppData\\Local\\Temp\\ipykernel_14404\\4205727171.py:4: RuntimeWarning: At least one epoch has multiple events. Only the latency of the first event will be retained.\n",
      "  epochs = mne.io.read_epochs_eeglab(traindata[i])\n"
     ]
    },
    {
     "name": "stdout",
     "output_type": "stream",
     "text": [
      "Extracting parameters from C:\\Users\\jerem\\Downloads\\segments_test\\108_Skateboard_P_CCW_Targets.set...\n",
      "Not setting metadata\n",
      "84 matching events found\n",
      "No baseline correction applied\n",
      "0 projection items activated\n",
      "Ready.\n"
     ]
    },
    {
     "name": "stderr",
     "output_type": "stream",
     "text": [
      "C:\\Users\\jerem\\AppData\\Local\\Temp\\ipykernel_14404\\4205727171.py:4: RuntimeWarning: At least one epoch has multiple events. Only the latency of the first event will be retained.\n",
      "  epochs = mne.io.read_epochs_eeglab(traindata[i])\n"
     ]
    },
    {
     "name": "stdout",
     "output_type": "stream",
     "text": [
      "Extracting parameters from C:\\Users\\jerem\\Downloads\\segments_test\\108_Skateboard_P_CW_Standards.set...\n",
      "Not setting metadata\n",
      "241 matching events found\n",
      "No baseline correction applied\n",
      "0 projection items activated\n",
      "Ready.\n"
     ]
    },
    {
     "name": "stderr",
     "output_type": "stream",
     "text": [
      "C:\\Users\\jerem\\AppData\\Local\\Temp\\ipykernel_14404\\4205727171.py:4: RuntimeWarning: At least one epoch has multiple events. Only the latency of the first event will be retained.\n",
      "  epochs = mne.io.read_epochs_eeglab(traindata[i])\n"
     ]
    },
    {
     "name": "stdout",
     "output_type": "stream",
     "text": [
      "Extracting parameters from C:\\Users\\jerem\\Downloads\\segments_test\\108_Skateboard_P_CW_Targets.set...\n",
      "Not setting metadata\n",
      "90 matching events found\n",
      "No baseline correction applied\n",
      "0 projection items activated\n",
      "Ready.\n"
     ]
    },
    {
     "name": "stderr",
     "output_type": "stream",
     "text": [
      "C:\\Users\\jerem\\AppData\\Local\\Temp\\ipykernel_14404\\4205727171.py:4: RuntimeWarning: At least one epoch has multiple events. Only the latency of the first event will be retained.\n",
      "  epochs = mne.io.read_epochs_eeglab(traindata[i])\n"
     ]
    },
    {
     "name": "stdout",
     "output_type": "stream",
     "text": [
      "Extracting parameters from C:\\Users\\jerem\\Downloads\\segments_test\\109_Skateboard_NP_CCW_Standards.set...\n",
      "Not setting metadata\n",
      "235 matching events found\n",
      "No baseline correction applied\n",
      "0 projection items activated\n",
      "Ready.\n"
     ]
    },
    {
     "name": "stderr",
     "output_type": "stream",
     "text": [
      "C:\\Users\\jerem\\AppData\\Local\\Temp\\ipykernel_14404\\4205727171.py:4: RuntimeWarning: At least one epoch has multiple events. Only the latency of the first event will be retained.\n",
      "  epochs = mne.io.read_epochs_eeglab(traindata[i])\n"
     ]
    },
    {
     "name": "stdout",
     "output_type": "stream",
     "text": [
      "Extracting parameters from C:\\Users\\jerem\\Downloads\\segments_test\\109_Skateboard_NP_CCW_Targets.set...\n",
      "Not setting metadata\n",
      "86 matching events found\n",
      "No baseline correction applied\n",
      "0 projection items activated\n",
      "Ready.\n"
     ]
    },
    {
     "name": "stderr",
     "output_type": "stream",
     "text": [
      "C:\\Users\\jerem\\AppData\\Local\\Temp\\ipykernel_14404\\4205727171.py:4: RuntimeWarning: At least one epoch has multiple events. Only the latency of the first event will be retained.\n",
      "  epochs = mne.io.read_epochs_eeglab(traindata[i])\n"
     ]
    },
    {
     "name": "stdout",
     "output_type": "stream",
     "text": [
      "Extracting parameters from C:\\Users\\jerem\\Downloads\\segments_test\\109_Skateboard_NP_CW_Standards.set...\n",
      "Not setting metadata\n",
      "237 matching events found\n",
      "No baseline correction applied\n",
      "0 projection items activated\n",
      "Ready.\n"
     ]
    },
    {
     "name": "stderr",
     "output_type": "stream",
     "text": [
      "C:\\Users\\jerem\\AppData\\Local\\Temp\\ipykernel_14404\\4205727171.py:4: RuntimeWarning: At least one epoch has multiple events. Only the latency of the first event will be retained.\n",
      "  epochs = mne.io.read_epochs_eeglab(traindata[i])\n"
     ]
    },
    {
     "name": "stdout",
     "output_type": "stream",
     "text": [
      "Extracting parameters from C:\\Users\\jerem\\Downloads\\segments_test\\109_Skateboard_NP_CW_Targets.set...\n",
      "Not setting metadata\n",
      "85 matching events found\n",
      "No baseline correction applied\n",
      "0 projection items activated\n",
      "Ready.\n"
     ]
    },
    {
     "name": "stderr",
     "output_type": "stream",
     "text": [
      "C:\\Users\\jerem\\AppData\\Local\\Temp\\ipykernel_14404\\4205727171.py:4: RuntimeWarning: At least one epoch has multiple events. Only the latency of the first event will be retained.\n",
      "  epochs = mne.io.read_epochs_eeglab(traindata[i])\n"
     ]
    },
    {
     "name": "stdout",
     "output_type": "stream",
     "text": [
      "Extracting parameters from C:\\Users\\jerem\\Downloads\\segments_test\\109_Skateboard_P_CCW_Standards.set...\n",
      "Not setting metadata\n",
      "236 matching events found\n",
      "No baseline correction applied\n",
      "0 projection items activated\n",
      "Ready.\n"
     ]
    },
    {
     "name": "stderr",
     "output_type": "stream",
     "text": [
      "C:\\Users\\jerem\\AppData\\Local\\Temp\\ipykernel_14404\\4205727171.py:4: RuntimeWarning: At least one epoch has multiple events. Only the latency of the first event will be retained.\n",
      "  epochs = mne.io.read_epochs_eeglab(traindata[i])\n"
     ]
    },
    {
     "name": "stdout",
     "output_type": "stream",
     "text": [
      "Extracting parameters from C:\\Users\\jerem\\Downloads\\segments_test\\109_Skateboard_P_CCW_Targets.set...\n",
      "Not setting metadata\n",
      "86 matching events found\n",
      "No baseline correction applied\n",
      "0 projection items activated\n",
      "Ready.\n"
     ]
    },
    {
     "name": "stderr",
     "output_type": "stream",
     "text": [
      "C:\\Users\\jerem\\AppData\\Local\\Temp\\ipykernel_14404\\4205727171.py:4: RuntimeWarning: At least one epoch has multiple events. Only the latency of the first event will be retained.\n",
      "  epochs = mne.io.read_epochs_eeglab(traindata[i])\n"
     ]
    },
    {
     "name": "stdout",
     "output_type": "stream",
     "text": [
      "Extracting parameters from C:\\Users\\jerem\\Downloads\\segments_test\\109_Skateboard_P_CW_Standards.set...\n",
      "Not setting metadata\n",
      "244 matching events found\n",
      "No baseline correction applied\n",
      "0 projection items activated\n",
      "Ready.\n"
     ]
    },
    {
     "name": "stderr",
     "output_type": "stream",
     "text": [
      "C:\\Users\\jerem\\AppData\\Local\\Temp\\ipykernel_14404\\4205727171.py:4: RuntimeWarning: At least one epoch has multiple events. Only the latency of the first event will be retained.\n",
      "  epochs = mne.io.read_epochs_eeglab(traindata[i])\n"
     ]
    },
    {
     "name": "stdout",
     "output_type": "stream",
     "text": [
      "Extracting parameters from C:\\Users\\jerem\\Downloads\\segments_test\\109_Skateboard_P_CW_Targets.set...\n",
      "Not setting metadata\n",
      "94 matching events found\n",
      "No baseline correction applied\n",
      "0 projection items activated\n",
      "Ready.\n"
     ]
    },
    {
     "name": "stderr",
     "output_type": "stream",
     "text": [
      "C:\\Users\\jerem\\AppData\\Local\\Temp\\ipykernel_14404\\4205727171.py:4: RuntimeWarning: At least one epoch has multiple events. Only the latency of the first event will be retained.\n",
      "  epochs = mne.io.read_epochs_eeglab(traindata[i])\n"
     ]
    },
    {
     "name": "stdout",
     "output_type": "stream",
     "text": [
      "Extracting parameters from C:\\Users\\jerem\\Downloads\\segments_test\\110_Skateboard_NP_CCW_Standards.set...\n",
      "Not setting metadata\n",
      "207 matching events found\n",
      "No baseline correction applied\n",
      "0 projection items activated\n",
      "Ready.\n"
     ]
    },
    {
     "name": "stderr",
     "output_type": "stream",
     "text": [
      "C:\\Users\\jerem\\AppData\\Local\\Temp\\ipykernel_14404\\4205727171.py:4: RuntimeWarning: At least one epoch has multiple events. Only the latency of the first event will be retained.\n",
      "  epochs = mne.io.read_epochs_eeglab(traindata[i])\n"
     ]
    },
    {
     "name": "stdout",
     "output_type": "stream",
     "text": [
      "Extracting parameters from C:\\Users\\jerem\\Downloads\\segments_test\\110_Skateboard_NP_CCW_Targets.set...\n",
      "Not setting metadata\n",
      "71 matching events found\n",
      "No baseline correction applied\n",
      "0 projection items activated\n",
      "Ready.\n"
     ]
    },
    {
     "name": "stderr",
     "output_type": "stream",
     "text": [
      "C:\\Users\\jerem\\AppData\\Local\\Temp\\ipykernel_14404\\4205727171.py:4: RuntimeWarning: At least one epoch has multiple events. Only the latency of the first event will be retained.\n",
      "  epochs = mne.io.read_epochs_eeglab(traindata[i])\n"
     ]
    },
    {
     "name": "stdout",
     "output_type": "stream",
     "text": [
      "Extracting parameters from C:\\Users\\jerem\\Downloads\\segments_test\\110_Skateboard_NP_CW_Standards.set...\n",
      "Not setting metadata\n",
      "160 matching events found\n",
      "No baseline correction applied\n",
      "0 projection items activated\n",
      "Ready.\n"
     ]
    },
    {
     "name": "stderr",
     "output_type": "stream",
     "text": [
      "C:\\Users\\jerem\\AppData\\Local\\Temp\\ipykernel_14404\\4205727171.py:4: RuntimeWarning: At least one epoch has multiple events. Only the latency of the first event will be retained.\n",
      "  epochs = mne.io.read_epochs_eeglab(traindata[i])\n"
     ]
    },
    {
     "name": "stdout",
     "output_type": "stream",
     "text": [
      "Extracting parameters from C:\\Users\\jerem\\Downloads\\segments_test\\110_Skateboard_NP_CW_Targets.set...\n",
      "Not setting metadata\n",
      "64 matching events found\n",
      "No baseline correction applied\n",
      "0 projection items activated\n",
      "Ready.\n"
     ]
    },
    {
     "name": "stderr",
     "output_type": "stream",
     "text": [
      "C:\\Users\\jerem\\AppData\\Local\\Temp\\ipykernel_14404\\4205727171.py:4: RuntimeWarning: At least one epoch has multiple events. Only the latency of the first event will be retained.\n",
      "  epochs = mne.io.read_epochs_eeglab(traindata[i])\n"
     ]
    },
    {
     "name": "stdout",
     "output_type": "stream",
     "text": [
      "Extracting parameters from C:\\Users\\jerem\\Downloads\\segments_test\\110_Skateboard_P_CCW_Standards.set...\n",
      "Not setting metadata\n",
      "102 matching events found\n",
      "No baseline correction applied\n",
      "0 projection items activated\n",
      "Ready.\n"
     ]
    },
    {
     "name": "stderr",
     "output_type": "stream",
     "text": [
      "C:\\Users\\jerem\\AppData\\Local\\Temp\\ipykernel_14404\\4205727171.py:4: RuntimeWarning: At least one epoch has multiple events. Only the latency of the first event will be retained.\n",
      "  epochs = mne.io.read_epochs_eeglab(traindata[i])\n"
     ]
    },
    {
     "name": "stdout",
     "output_type": "stream",
     "text": [
      "Extracting parameters from C:\\Users\\jerem\\Downloads\\segments_test\\110_Skateboard_P_CCW_Targets.set...\n",
      "Not setting metadata\n",
      "34 matching events found\n",
      "No baseline correction applied\n",
      "0 projection items activated\n",
      "Ready.\n",
      "Extracting parameters from C:\\Users\\jerem\\Downloads\\segments_test\\110_Skateboard_P_CW_Standards.set...\n"
     ]
    },
    {
     "name": "stderr",
     "output_type": "stream",
     "text": [
      "C:\\Users\\jerem\\AppData\\Local\\Temp\\ipykernel_14404\\4205727171.py:4: RuntimeWarning: At least one epoch has multiple events. Only the latency of the first event will be retained.\n",
      "  epochs = mne.io.read_epochs_eeglab(traindata[i])\n",
      "C:\\Users\\jerem\\AppData\\Local\\Temp\\ipykernel_14404\\4205727171.py:4: RuntimeWarning: At least one epoch has multiple events. Only the latency of the first event will be retained.\n",
      "  epochs = mne.io.read_epochs_eeglab(traindata[i])\n"
     ]
    },
    {
     "name": "stdout",
     "output_type": "stream",
     "text": [
      "Not setting metadata\n",
      "225 matching events found\n",
      "No baseline correction applied\n",
      "0 projection items activated\n",
      "Ready.\n",
      "Extracting parameters from C:\\Users\\jerem\\Downloads\\segments_test\\110_Skateboard_P_CW_Targets.set...\n",
      "Not setting metadata\n",
      "85 matching events found\n",
      "No baseline correction applied\n",
      "0 projection items activated\n",
      "Ready.\n"
     ]
    },
    {
     "name": "stderr",
     "output_type": "stream",
     "text": [
      "C:\\Users\\jerem\\AppData\\Local\\Temp\\ipykernel_14404\\4205727171.py:4: RuntimeWarning: At least one epoch has multiple events. Only the latency of the first event will be retained.\n",
      "  epochs = mne.io.read_epochs_eeglab(traindata[i])\n"
     ]
    },
    {
     "name": "stdout",
     "output_type": "stream",
     "text": [
      "Extracting parameters from C:\\Users\\jerem\\Downloads\\segments_test\\111_Skateboard_NP_CCW_Standards.set...\n",
      "Not setting metadata\n",
      "234 matching events found\n",
      "No baseline correction applied\n",
      "0 projection items activated\n",
      "Ready.\n"
     ]
    },
    {
     "name": "stderr",
     "output_type": "stream",
     "text": [
      "C:\\Users\\jerem\\AppData\\Local\\Temp\\ipykernel_14404\\4205727171.py:4: RuntimeWarning: At least one epoch has multiple events. Only the latency of the first event will be retained.\n",
      "  epochs = mne.io.read_epochs_eeglab(traindata[i])\n"
     ]
    },
    {
     "name": "stdout",
     "output_type": "stream",
     "text": [
      "Extracting parameters from C:\\Users\\jerem\\Downloads\\segments_test\\111_Skateboard_NP_CCW_Targets.set...\n",
      "Not setting metadata\n",
      "85 matching events found\n",
      "No baseline correction applied\n",
      "0 projection items activated\n",
      "Ready.\n"
     ]
    },
    {
     "name": "stderr",
     "output_type": "stream",
     "text": [
      "C:\\Users\\jerem\\AppData\\Local\\Temp\\ipykernel_14404\\4205727171.py:4: RuntimeWarning: At least one epoch has multiple events. Only the latency of the first event will be retained.\n",
      "  epochs = mne.io.read_epochs_eeglab(traindata[i])\n"
     ]
    },
    {
     "name": "stdout",
     "output_type": "stream",
     "text": [
      "Extracting parameters from C:\\Users\\jerem\\Downloads\\segments_test\\111_Skateboard_NP_CW_Standards.set...\n",
      "Not setting metadata\n",
      "235 matching events found\n",
      "No baseline correction applied\n",
      "0 projection items activated\n",
      "Ready.\n"
     ]
    },
    {
     "name": "stderr",
     "output_type": "stream",
     "text": [
      "C:\\Users\\jerem\\AppData\\Local\\Temp\\ipykernel_14404\\4205727171.py:4: RuntimeWarning: At least one epoch has multiple events. Only the latency of the first event will be retained.\n",
      "  epochs = mne.io.read_epochs_eeglab(traindata[i])\n"
     ]
    },
    {
     "name": "stdout",
     "output_type": "stream",
     "text": [
      "Extracting parameters from C:\\Users\\jerem\\Downloads\\segments_test\\111_Skateboard_NP_CW_Targets.set...\n",
      "Not setting metadata\n",
      "87 matching events found\n",
      "No baseline correction applied\n",
      "0 projection items activated\n",
      "Ready.\n"
     ]
    },
    {
     "name": "stderr",
     "output_type": "stream",
     "text": [
      "C:\\Users\\jerem\\AppData\\Local\\Temp\\ipykernel_14404\\4205727171.py:4: RuntimeWarning: At least one epoch has multiple events. Only the latency of the first event will be retained.\n",
      "  epochs = mne.io.read_epochs_eeglab(traindata[i])\n"
     ]
    },
    {
     "name": "stdout",
     "output_type": "stream",
     "text": [
      "Extracting parameters from C:\\Users\\jerem\\Downloads\\segments_test\\111_Skateboard_P_CCW_Standards.set...\n",
      "Not setting metadata\n",
      "240 matching events found\n",
      "No baseline correction applied\n",
      "0 projection items activated\n",
      "Ready.\n"
     ]
    },
    {
     "name": "stderr",
     "output_type": "stream",
     "text": [
      "C:\\Users\\jerem\\AppData\\Local\\Temp\\ipykernel_14404\\4205727171.py:4: RuntimeWarning: At least one epoch has multiple events. Only the latency of the first event will be retained.\n",
      "  epochs = mne.io.read_epochs_eeglab(traindata[i])\n"
     ]
    },
    {
     "name": "stdout",
     "output_type": "stream",
     "text": [
      "Extracting parameters from C:\\Users\\jerem\\Downloads\\segments_test\\111_Skateboard_P_CCW_Targets.set...\n",
      "Not setting metadata\n",
      "91 matching events found\n",
      "No baseline correction applied\n",
      "0 projection items activated\n",
      "Ready.\n"
     ]
    },
    {
     "name": "stderr",
     "output_type": "stream",
     "text": [
      "C:\\Users\\jerem\\AppData\\Local\\Temp\\ipykernel_14404\\4205727171.py:4: RuntimeWarning: At least one epoch has multiple events. Only the latency of the first event will be retained.\n",
      "  epochs = mne.io.read_epochs_eeglab(traindata[i])\n"
     ]
    },
    {
     "name": "stdout",
     "output_type": "stream",
     "text": [
      "Extracting parameters from C:\\Users\\jerem\\Downloads\\segments_test\\111_Skateboard_P_CW_Standards.set...\n",
      "Not setting metadata\n",
      "236 matching events found\n",
      "No baseline correction applied\n",
      "0 projection items activated\n",
      "Ready.\n"
     ]
    },
    {
     "name": "stderr",
     "output_type": "stream",
     "text": [
      "C:\\Users\\jerem\\AppData\\Local\\Temp\\ipykernel_14404\\4205727171.py:4: RuntimeWarning: At least one epoch has multiple events. Only the latency of the first event will be retained.\n",
      "  epochs = mne.io.read_epochs_eeglab(traindata[i])\n"
     ]
    },
    {
     "name": "stdout",
     "output_type": "stream",
     "text": [
      "Extracting parameters from C:\\Users\\jerem\\Downloads\\segments_test\\111_Skateboard_P_CW_Targets.set...\n",
      "Not setting metadata\n",
      "83 matching events found\n",
      "No baseline correction applied\n",
      "0 projection items activated\n",
      "Ready.\n"
     ]
    },
    {
     "name": "stderr",
     "output_type": "stream",
     "text": [
      "C:\\Users\\jerem\\AppData\\Local\\Temp\\ipykernel_14404\\4205727171.py:4: RuntimeWarning: At least one epoch has multiple events. Only the latency of the first event will be retained.\n",
      "  epochs = mne.io.read_epochs_eeglab(traindata[i])\n"
     ]
    },
    {
     "name": "stdout",
     "output_type": "stream",
     "text": [
      "Extracting parameters from C:\\Users\\jerem\\Downloads\\segments_test\\112_Skateboard_NP_CCW_Standards.set...\n",
      "Not setting metadata\n",
      "236 matching events found\n",
      "No baseline correction applied\n",
      "0 projection items activated\n",
      "Ready.\n"
     ]
    },
    {
     "name": "stderr",
     "output_type": "stream",
     "text": [
      "C:\\Users\\jerem\\AppData\\Local\\Temp\\ipykernel_14404\\4205727171.py:4: RuntimeWarning: At least one epoch has multiple events. Only the latency of the first event will be retained.\n",
      "  epochs = mne.io.read_epochs_eeglab(traindata[i])\n"
     ]
    },
    {
     "name": "stdout",
     "output_type": "stream",
     "text": [
      "Extracting parameters from C:\\Users\\jerem\\Downloads\\segments_test\\112_Skateboard_NP_CCW_Targets.set...\n",
      "Not setting metadata\n",
      "88 matching events found\n",
      "No baseline correction applied\n",
      "0 projection items activated\n",
      "Ready.\n"
     ]
    },
    {
     "name": "stderr",
     "output_type": "stream",
     "text": [
      "C:\\Users\\jerem\\AppData\\Local\\Temp\\ipykernel_14404\\4205727171.py:4: RuntimeWarning: At least one epoch has multiple events. Only the latency of the first event will be retained.\n",
      "  epochs = mne.io.read_epochs_eeglab(traindata[i])\n"
     ]
    },
    {
     "name": "stdout",
     "output_type": "stream",
     "text": [
      "Extracting parameters from C:\\Users\\jerem\\Downloads\\segments_test\\112_Skateboard_NP_CW_Standards.set...\n",
      "Not setting metadata\n",
      "237 matching events found\n",
      "No baseline correction applied\n",
      "0 projection items activated\n",
      "Ready.\n"
     ]
    },
    {
     "name": "stderr",
     "output_type": "stream",
     "text": [
      "C:\\Users\\jerem\\AppData\\Local\\Temp\\ipykernel_14404\\4205727171.py:4: RuntimeWarning: At least one epoch has multiple events. Only the latency of the first event will be retained.\n",
      "  epochs = mne.io.read_epochs_eeglab(traindata[i])\n"
     ]
    },
    {
     "name": "stdout",
     "output_type": "stream",
     "text": [
      "Extracting parameters from C:\\Users\\jerem\\Downloads\\segments_test\\112_Skateboard_NP_CW_Targets.set...\n",
      "Not setting metadata\n",
      "88 matching events found\n",
      "No baseline correction applied\n",
      "0 projection items activated\n",
      "Ready.\n"
     ]
    },
    {
     "name": "stderr",
     "output_type": "stream",
     "text": [
      "C:\\Users\\jerem\\AppData\\Local\\Temp\\ipykernel_14404\\4205727171.py:4: RuntimeWarning: At least one epoch has multiple events. Only the latency of the first event will be retained.\n",
      "  epochs = mne.io.read_epochs_eeglab(traindata[i])\n"
     ]
    },
    {
     "name": "stdout",
     "output_type": "stream",
     "text": [
      "Extracting parameters from C:\\Users\\jerem\\Downloads\\segments_test\\112_Skateboard_P_CCW_Standards.set...\n",
      "Not setting metadata\n",
      "236 matching events found\n",
      "No baseline correction applied\n",
      "0 projection items activated\n",
      "Ready.\n"
     ]
    },
    {
     "name": "stderr",
     "output_type": "stream",
     "text": [
      "C:\\Users\\jerem\\AppData\\Local\\Temp\\ipykernel_14404\\4205727171.py:4: RuntimeWarning: At least one epoch has multiple events. Only the latency of the first event will be retained.\n",
      "  epochs = mne.io.read_epochs_eeglab(traindata[i])\n"
     ]
    },
    {
     "name": "stdout",
     "output_type": "stream",
     "text": [
      "Extracting parameters from C:\\Users\\jerem\\Downloads\\segments_test\\112_Skateboard_P_CCW_Targets.set...\n",
      "Not setting metadata\n",
      "91 matching events found\n",
      "No baseline correction applied\n",
      "0 projection items activated\n",
      "Ready.\n"
     ]
    },
    {
     "name": "stderr",
     "output_type": "stream",
     "text": [
      "C:\\Users\\jerem\\AppData\\Local\\Temp\\ipykernel_14404\\4205727171.py:4: RuntimeWarning: At least one epoch has multiple events. Only the latency of the first event will be retained.\n",
      "  epochs = mne.io.read_epochs_eeglab(traindata[i])\n"
     ]
    },
    {
     "name": "stdout",
     "output_type": "stream",
     "text": [
      "Extracting parameters from C:\\Users\\jerem\\Downloads\\segments_test\\112_Skateboard_P_CW_Standards.set...\n",
      "Not setting metadata\n",
      "233 matching events found\n"
     ]
    },
    {
     "name": "stderr",
     "output_type": "stream",
     "text": [
      "C:\\Users\\jerem\\AppData\\Local\\Temp\\ipykernel_14404\\4205727171.py:4: RuntimeWarning: At least one epoch has multiple events. Only the latency of the first event will be retained.\n",
      "  epochs = mne.io.read_epochs_eeglab(traindata[i])\n"
     ]
    },
    {
     "name": "stdout",
     "output_type": "stream",
     "text": [
      "No baseline correction applied\n",
      "0 projection items activated\n",
      "Ready.\n",
      "Extracting parameters from C:\\Users\\jerem\\Downloads\\segments_test\\112_Skateboard_P_CW_Targets.set...\n",
      "Not setting metadata\n",
      "89 matching events found\n",
      "No baseline correction applied\n",
      "0 projection items activated\n",
      "Ready.\n"
     ]
    },
    {
     "name": "stderr",
     "output_type": "stream",
     "text": [
      "C:\\Users\\jerem\\AppData\\Local\\Temp\\ipykernel_14404\\4205727171.py:4: RuntimeWarning: At least one epoch has multiple events. Only the latency of the first event will be retained.\n",
      "  epochs = mne.io.read_epochs_eeglab(traindata[i])\n"
     ]
    },
    {
     "name": "stdout",
     "output_type": "stream",
     "text": [
      "Extracting parameters from C:\\Users\\jerem\\Downloads\\segments_test\\113_Skateboard_NP_CCW_Standards.set...\n"
     ]
    },
    {
     "name": "stderr",
     "output_type": "stream",
     "text": [
      "C:\\Users\\jerem\\AppData\\Local\\Temp\\ipykernel_14404\\4205727171.py:4: RuntimeWarning: At least one epoch has multiple events. Only the latency of the first event will be retained.\n",
      "  epochs = mne.io.read_epochs_eeglab(traindata[i])\n"
     ]
    },
    {
     "name": "stdout",
     "output_type": "stream",
     "text": [
      "Not setting metadata\n",
      "231 matching events found\n",
      "No baseline correction applied\n",
      "0 projection items activated\n",
      "Ready.\n",
      "Extracting parameters from C:\\Users\\jerem\\Downloads\\segments_test\\113_Skateboard_NP_CCW_Targets.set...\n",
      "Not setting metadata\n",
      "86 matching events found\n",
      "No baseline correction applied\n",
      "0 projection items activated\n",
      "Ready.\n"
     ]
    },
    {
     "name": "stderr",
     "output_type": "stream",
     "text": [
      "C:\\Users\\jerem\\AppData\\Local\\Temp\\ipykernel_14404\\4205727171.py:4: RuntimeWarning: At least one epoch has multiple events. Only the latency of the first event will be retained.\n",
      "  epochs = mne.io.read_epochs_eeglab(traindata[i])\n"
     ]
    },
    {
     "name": "stdout",
     "output_type": "stream",
     "text": [
      "Extracting parameters from C:\\Users\\jerem\\Downloads\\segments_test\\113_Skateboard_NP_CW_Standards.set...\n",
      "Not setting metadata\n",
      "236 matching events found\n"
     ]
    },
    {
     "name": "stderr",
     "output_type": "stream",
     "text": [
      "C:\\Users\\jerem\\AppData\\Local\\Temp\\ipykernel_14404\\4205727171.py:4: RuntimeWarning: At least one epoch has multiple events. Only the latency of the first event will be retained.\n",
      "  epochs = mne.io.read_epochs_eeglab(traindata[i])\n"
     ]
    },
    {
     "name": "stdout",
     "output_type": "stream",
     "text": [
      "No baseline correction applied\n",
      "0 projection items activated\n",
      "Ready.\n",
      "Extracting parameters from C:\\Users\\jerem\\Downloads\\segments_test\\113_Skateboard_NP_CW_Targets.set...\n",
      "Not setting metadata\n",
      "88 matching events found\n",
      "No baseline correction applied\n",
      "0 projection items activated\n",
      "Ready.\n"
     ]
    },
    {
     "name": "stderr",
     "output_type": "stream",
     "text": [
      "C:\\Users\\jerem\\AppData\\Local\\Temp\\ipykernel_14404\\4205727171.py:4: RuntimeWarning: At least one epoch has multiple events. Only the latency of the first event will be retained.\n",
      "  epochs = mne.io.read_epochs_eeglab(traindata[i])\n"
     ]
    },
    {
     "name": "stdout",
     "output_type": "stream",
     "text": [
      "Extracting parameters from C:\\Users\\jerem\\Downloads\\segments_test\\113_Skateboard_P_CCW_Standards.set...\n",
      "Not setting metadata\n",
      "229 matching events found\n",
      "No baseline correction applied\n",
      "0 projection items activated\n",
      "Ready.\n"
     ]
    },
    {
     "name": "stderr",
     "output_type": "stream",
     "text": [
      "C:\\Users\\jerem\\AppData\\Local\\Temp\\ipykernel_14404\\4205727171.py:4: RuntimeWarning: At least one epoch has multiple events. Only the latency of the first event will be retained.\n",
      "  epochs = mne.io.read_epochs_eeglab(traindata[i])\n"
     ]
    },
    {
     "name": "stdout",
     "output_type": "stream",
     "text": [
      "Extracting parameters from C:\\Users\\jerem\\Downloads\\segments_test\\113_Skateboard_P_CCW_Targets.set...\n",
      "Not setting metadata\n",
      "85 matching events found\n",
      "No baseline correction applied\n",
      "0 projection items activated\n",
      "Ready.\n"
     ]
    },
    {
     "name": "stderr",
     "output_type": "stream",
     "text": [
      "C:\\Users\\jerem\\AppData\\Local\\Temp\\ipykernel_14404\\4205727171.py:4: RuntimeWarning: At least one epoch has multiple events. Only the latency of the first event will be retained.\n",
      "  epochs = mne.io.read_epochs_eeglab(traindata[i])\n"
     ]
    },
    {
     "name": "stdout",
     "output_type": "stream",
     "text": [
      "Extracting parameters from C:\\Users\\jerem\\Downloads\\segments_test\\113_Skateboard_P_CW_Standards.set...\n",
      "Not setting metadata\n",
      "215 matching events found\n",
      "No baseline correction applied\n",
      "0 projection items activated\n",
      "Ready.\n"
     ]
    },
    {
     "name": "stderr",
     "output_type": "stream",
     "text": [
      "C:\\Users\\jerem\\AppData\\Local\\Temp\\ipykernel_14404\\4205727171.py:4: RuntimeWarning: At least one epoch has multiple events. Only the latency of the first event will be retained.\n",
      "  epochs = mne.io.read_epochs_eeglab(traindata[i])\n"
     ]
    },
    {
     "name": "stdout",
     "output_type": "stream",
     "text": [
      "Extracting parameters from C:\\Users\\jerem\\Downloads\\segments_test\\113_Skateboard_P_CW_Targets.set...\n",
      "Not setting metadata\n",
      "73 matching events found\n",
      "No baseline correction applied\n",
      "0 projection items activated\n",
      "Ready.\n"
     ]
    },
    {
     "name": "stderr",
     "output_type": "stream",
     "text": [
      "C:\\Users\\jerem\\AppData\\Local\\Temp\\ipykernel_14404\\4205727171.py:4: RuntimeWarning: At least one epoch has multiple events. Only the latency of the first event will be retained.\n",
      "  epochs = mne.io.read_epochs_eeglab(traindata[i])\n"
     ]
    },
    {
     "name": "stdout",
     "output_type": "stream",
     "text": [
      "Extracting parameters from C:\\Users\\jerem\\Downloads\\segments_test\\115_Skateboard_NP_CCW_Standards.set...\n",
      "Not setting metadata\n",
      "232 matching events found\n",
      "No baseline correction applied\n",
      "0 projection items activated\n",
      "Ready.\n"
     ]
    },
    {
     "name": "stderr",
     "output_type": "stream",
     "text": [
      "C:\\Users\\jerem\\AppData\\Local\\Temp\\ipykernel_14404\\4205727171.py:4: RuntimeWarning: At least one epoch has multiple events. Only the latency of the first event will be retained.\n",
      "  epochs = mne.io.read_epochs_eeglab(traindata[i])\n"
     ]
    },
    {
     "name": "stdout",
     "output_type": "stream",
     "text": [
      "Extracting parameters from C:\\Users\\jerem\\Downloads\\segments_test\\115_Skateboard_NP_CCW_Targets.set...\n",
      "Not setting metadata\n",
      "84 matching events found\n",
      "No baseline correction applied\n",
      "0 projection items activated\n",
      "Ready.\n"
     ]
    },
    {
     "name": "stderr",
     "output_type": "stream",
     "text": [
      "C:\\Users\\jerem\\AppData\\Local\\Temp\\ipykernel_14404\\4205727171.py:4: RuntimeWarning: At least one epoch has multiple events. Only the latency of the first event will be retained.\n",
      "  epochs = mne.io.read_epochs_eeglab(traindata[i])\n"
     ]
    },
    {
     "name": "stdout",
     "output_type": "stream",
     "text": [
      "Extracting parameters from C:\\Users\\jerem\\Downloads\\segments_test\\115_Skateboard_NP_CW_Standards.set...\n",
      "Not setting metadata\n",
      "237 matching events found\n",
      "No baseline correction applied\n",
      "0 projection items activated\n",
      "Ready.\n"
     ]
    },
    {
     "name": "stderr",
     "output_type": "stream",
     "text": [
      "C:\\Users\\jerem\\AppData\\Local\\Temp\\ipykernel_14404\\4205727171.py:4: RuntimeWarning: At least one epoch has multiple events. Only the latency of the first event will be retained.\n",
      "  epochs = mne.io.read_epochs_eeglab(traindata[i])\n"
     ]
    },
    {
     "name": "stdout",
     "output_type": "stream",
     "text": [
      "Extracting parameters from C:\\Users\\jerem\\Downloads\\segments_test\\115_Skateboard_NP_CW_Targets.set...\n",
      "Not setting metadata\n",
      "91 matching events found\n",
      "No baseline correction applied\n",
      "0 projection items activated\n",
      "Ready.\n"
     ]
    },
    {
     "name": "stderr",
     "output_type": "stream",
     "text": [
      "C:\\Users\\jerem\\AppData\\Local\\Temp\\ipykernel_14404\\4205727171.py:4: RuntimeWarning: At least one epoch has multiple events. Only the latency of the first event will be retained.\n",
      "  epochs = mne.io.read_epochs_eeglab(traindata[i])\n"
     ]
    },
    {
     "name": "stdout",
     "output_type": "stream",
     "text": [
      "Extracting parameters from C:\\Users\\jerem\\Downloads\\segments_test\\115_Skateboard_P_CCW_Standards.set...\n",
      "Not setting metadata\n",
      "234 matching events found\n",
      "No baseline correction applied\n",
      "0 projection items activated\n",
      "Ready.\n"
     ]
    },
    {
     "name": "stderr",
     "output_type": "stream",
     "text": [
      "C:\\Users\\jerem\\AppData\\Local\\Temp\\ipykernel_14404\\4205727171.py:4: RuntimeWarning: At least one epoch has multiple events. Only the latency of the first event will be retained.\n",
      "  epochs = mne.io.read_epochs_eeglab(traindata[i])\n"
     ]
    },
    {
     "name": "stdout",
     "output_type": "stream",
     "text": [
      "Extracting parameters from C:\\Users\\jerem\\Downloads\\segments_test\\115_Skateboard_P_CCW_Targets.set...\n",
      "Not setting metadata\n",
      "87 matching events found\n",
      "No baseline correction applied\n",
      "0 projection items activated\n",
      "Ready.\n"
     ]
    },
    {
     "name": "stderr",
     "output_type": "stream",
     "text": [
      "C:\\Users\\jerem\\AppData\\Local\\Temp\\ipykernel_14404\\4205727171.py:4: RuntimeWarning: At least one epoch has multiple events. Only the latency of the first event will be retained.\n",
      "  epochs = mne.io.read_epochs_eeglab(traindata[i])\n"
     ]
    },
    {
     "name": "stdout",
     "output_type": "stream",
     "text": [
      "Extracting parameters from C:\\Users\\jerem\\Downloads\\segments_test\\115_Skateboard_P_CW_Standards.set...\n",
      "Not setting metadata\n",
      "235 matching events found\n",
      "No baseline correction applied\n",
      "0 projection items activated\n",
      "Ready.\n"
     ]
    },
    {
     "name": "stderr",
     "output_type": "stream",
     "text": [
      "C:\\Users\\jerem\\AppData\\Local\\Temp\\ipykernel_14404\\4205727171.py:4: RuntimeWarning: At least one epoch has multiple events. Only the latency of the first event will be retained.\n",
      "  epochs = mne.io.read_epochs_eeglab(traindata[i])\n"
     ]
    },
    {
     "name": "stdout",
     "output_type": "stream",
     "text": [
      "Extracting parameters from C:\\Users\\jerem\\Downloads\\segments_test\\115_Skateboard_P_CW_Targets.set...\n",
      "Not setting metadata\n",
      "87 matching events found\n",
      "No baseline correction applied\n",
      "0 projection items activated\n",
      "Ready.\n"
     ]
    },
    {
     "name": "stderr",
     "output_type": "stream",
     "text": [
      "C:\\Users\\jerem\\AppData\\Local\\Temp\\ipykernel_14404\\4205727171.py:4: RuntimeWarning: At least one epoch has multiple events. Only the latency of the first event will be retained.\n",
      "  epochs = mne.io.read_epochs_eeglab(traindata[i])\n"
     ]
    },
    {
     "name": "stdout",
     "output_type": "stream",
     "text": [
      "Extracting parameters from C:\\Users\\jerem\\Downloads\\segments_test\\116_Skateboard_NP_CCW_Standards.set...\n",
      "Not setting metadata\n",
      "242 matching events found\n",
      "No baseline correction applied\n",
      "0 projection items activated\n",
      "Ready.\n"
     ]
    },
    {
     "name": "stderr",
     "output_type": "stream",
     "text": [
      "C:\\Users\\jerem\\AppData\\Local\\Temp\\ipykernel_14404\\4205727171.py:4: RuntimeWarning: At least one epoch has multiple events. Only the latency of the first event will be retained.\n",
      "  epochs = mne.io.read_epochs_eeglab(traindata[i])\n"
     ]
    },
    {
     "name": "stdout",
     "output_type": "stream",
     "text": [
      "Extracting parameters from C:\\Users\\jerem\\Downloads\\segments_test\\116_Skateboard_NP_CCW_Targets.set...\n",
      "Not setting metadata\n",
      "89 matching events found\n",
      "No baseline correction applied\n",
      "0 projection items activated\n",
      "Ready.\n"
     ]
    },
    {
     "name": "stderr",
     "output_type": "stream",
     "text": [
      "C:\\Users\\jerem\\AppData\\Local\\Temp\\ipykernel_14404\\4205727171.py:4: RuntimeWarning: At least one epoch has multiple events. Only the latency of the first event will be retained.\n",
      "  epochs = mne.io.read_epochs_eeglab(traindata[i])\n"
     ]
    },
    {
     "name": "stdout",
     "output_type": "stream",
     "text": [
      "Extracting parameters from C:\\Users\\jerem\\Downloads\\segments_test\\116_Skateboard_NP_CW_Standards.set...\n",
      "Not setting metadata\n",
      "236 matching events found\n",
      "No baseline correction applied\n",
      "0 projection items activated\n",
      "Ready.\n"
     ]
    },
    {
     "name": "stderr",
     "output_type": "stream",
     "text": [
      "C:\\Users\\jerem\\AppData\\Local\\Temp\\ipykernel_14404\\4205727171.py:4: RuntimeWarning: At least one epoch has multiple events. Only the latency of the first event will be retained.\n",
      "  epochs = mne.io.read_epochs_eeglab(traindata[i])\n"
     ]
    },
    {
     "name": "stdout",
     "output_type": "stream",
     "text": [
      "Extracting parameters from C:\\Users\\jerem\\Downloads\\segments_test\\116_Skateboard_NP_CW_Targets.set...\n",
      "Not setting metadata\n",
      "87 matching events found\n",
      "No baseline correction applied\n",
      "0 projection items activated\n",
      "Ready.\n"
     ]
    },
    {
     "name": "stderr",
     "output_type": "stream",
     "text": [
      "C:\\Users\\jerem\\AppData\\Local\\Temp\\ipykernel_14404\\4205727171.py:4: RuntimeWarning: At least one epoch has multiple events. Only the latency of the first event will be retained.\n",
      "  epochs = mne.io.read_epochs_eeglab(traindata[i])\n"
     ]
    },
    {
     "name": "stdout",
     "output_type": "stream",
     "text": [
      "Extracting parameters from C:\\Users\\jerem\\Downloads\\segments_test\\116_Skateboard_P_CCW_Standards.set...\n",
      "Not setting metadata\n",
      "238 matching events found\n",
      "No baseline correction applied\n",
      "0 projection items activated\n",
      "Ready.\n"
     ]
    },
    {
     "name": "stderr",
     "output_type": "stream",
     "text": [
      "C:\\Users\\jerem\\AppData\\Local\\Temp\\ipykernel_14404\\4205727171.py:4: RuntimeWarning: At least one epoch has multiple events. Only the latency of the first event will be retained.\n",
      "  epochs = mne.io.read_epochs_eeglab(traindata[i])\n"
     ]
    },
    {
     "name": "stdout",
     "output_type": "stream",
     "text": [
      "Extracting parameters from C:\\Users\\jerem\\Downloads\\segments_test\\116_Skateboard_P_CCW_Targets.set...\n",
      "Not setting metadata\n",
      "89 matching events found\n",
      "No baseline correction applied\n",
      "0 projection items activated\n",
      "Ready.\n"
     ]
    },
    {
     "name": "stderr",
     "output_type": "stream",
     "text": [
      "C:\\Users\\jerem\\AppData\\Local\\Temp\\ipykernel_14404\\4205727171.py:4: RuntimeWarning: At least one epoch has multiple events. Only the latency of the first event will be retained.\n",
      "  epochs = mne.io.read_epochs_eeglab(traindata[i])\n"
     ]
    },
    {
     "name": "stdout",
     "output_type": "stream",
     "text": [
      "Extracting parameters from C:\\Users\\jerem\\Downloads\\segments_test\\116_Skateboard_P_CW_Standards.set...\n",
      "Not setting metadata\n",
      "229 matching events found\n",
      "No baseline correction applied\n",
      "0 projection items activated\n",
      "Ready.\n"
     ]
    },
    {
     "name": "stderr",
     "output_type": "stream",
     "text": [
      "C:\\Users\\jerem\\AppData\\Local\\Temp\\ipykernel_14404\\4205727171.py:4: RuntimeWarning: At least one epoch has multiple events. Only the latency of the first event will be retained.\n",
      "  epochs = mne.io.read_epochs_eeglab(traindata[i])\n"
     ]
    },
    {
     "name": "stdout",
     "output_type": "stream",
     "text": [
      "Extracting parameters from C:\\Users\\jerem\\Downloads\\segments_test\\116_Skateboard_P_CW_Targets.set...\n",
      "Not setting metadata\n",
      "81 matching events found\n",
      "No baseline correction applied\n",
      "0 projection items activated\n",
      "Ready.\n"
     ]
    },
    {
     "name": "stderr",
     "output_type": "stream",
     "text": [
      "C:\\Users\\jerem\\AppData\\Local\\Temp\\ipykernel_14404\\4205727171.py:4: RuntimeWarning: At least one epoch has multiple events. Only the latency of the first event will be retained.\n",
      "  epochs = mne.io.read_epochs_eeglab(traindata[i])\n"
     ]
    },
    {
     "name": "stdout",
     "output_type": "stream",
     "text": [
      "Extracting parameters from C:\\Users\\jerem\\Downloads\\segments_test\\117_Skateboard_NP_CCW_Standards.set...\n",
      "Not setting metadata\n",
      "242 matching events found\n",
      "No baseline correction applied\n",
      "0 projection items activated\n",
      "Ready.\n"
     ]
    },
    {
     "name": "stderr",
     "output_type": "stream",
     "text": [
      "C:\\Users\\jerem\\AppData\\Local\\Temp\\ipykernel_14404\\4205727171.py:4: RuntimeWarning: At least one epoch has multiple events. Only the latency of the first event will be retained.\n",
      "  epochs = mne.io.read_epochs_eeglab(traindata[i])\n"
     ]
    },
    {
     "name": "stdout",
     "output_type": "stream",
     "text": [
      "Extracting parameters from C:\\Users\\jerem\\Downloads\\segments_test\\117_Skateboard_NP_CCW_Targets.set...\n",
      "Not setting metadata\n",
      "90 matching events found\n",
      "No baseline correction applied\n",
      "0 projection items activated\n",
      "Ready.\n"
     ]
    },
    {
     "name": "stderr",
     "output_type": "stream",
     "text": [
      "C:\\Users\\jerem\\AppData\\Local\\Temp\\ipykernel_14404\\4205727171.py:4: RuntimeWarning: At least one epoch has multiple events. Only the latency of the first event will be retained.\n",
      "  epochs = mne.io.read_epochs_eeglab(traindata[i])\n"
     ]
    },
    {
     "name": "stdout",
     "output_type": "stream",
     "text": [
      "Extracting parameters from C:\\Users\\jerem\\Downloads\\segments_test\\117_Skateboard_NP_CW_Standards.set...\n",
      "Not setting metadata\n",
      "237 matching events found\n",
      "No baseline correction applied\n",
      "0 projection items activated\n",
      "Ready.\n"
     ]
    },
    {
     "name": "stderr",
     "output_type": "stream",
     "text": [
      "C:\\Users\\jerem\\AppData\\Local\\Temp\\ipykernel_14404\\4205727171.py:4: RuntimeWarning: At least one epoch has multiple events. Only the latency of the first event will be retained.\n",
      "  epochs = mne.io.read_epochs_eeglab(traindata[i])\n"
     ]
    },
    {
     "name": "stdout",
     "output_type": "stream",
     "text": [
      "Extracting parameters from C:\\Users\\jerem\\Downloads\\segments_test\\117_Skateboard_NP_CW_Targets.set...\n",
      "Not setting metadata\n",
      "87 matching events found\n",
      "No baseline correction applied\n",
      "0 projection items activated\n",
      "Ready.\n"
     ]
    },
    {
     "name": "stderr",
     "output_type": "stream",
     "text": [
      "C:\\Users\\jerem\\AppData\\Local\\Temp\\ipykernel_14404\\4205727171.py:4: RuntimeWarning: At least one epoch has multiple events. Only the latency of the first event will be retained.\n",
      "  epochs = mne.io.read_epochs_eeglab(traindata[i])\n"
     ]
    },
    {
     "name": "stdout",
     "output_type": "stream",
     "text": [
      "Extracting parameters from C:\\Users\\jerem\\Downloads\\segments_test\\117_Skateboard_P_CCW_Standards.set...\n",
      "Not setting metadata\n",
      "234 matching events found\n",
      "No baseline correction applied\n",
      "0 projection items activated\n",
      "Ready.\n"
     ]
    },
    {
     "name": "stderr",
     "output_type": "stream",
     "text": [
      "C:\\Users\\jerem\\AppData\\Local\\Temp\\ipykernel_14404\\4205727171.py:4: RuntimeWarning: At least one epoch has multiple events. Only the latency of the first event will be retained.\n",
      "  epochs = mne.io.read_epochs_eeglab(traindata[i])\n"
     ]
    },
    {
     "name": "stdout",
     "output_type": "stream",
     "text": [
      "Extracting parameters from C:\\Users\\jerem\\Downloads\\segments_test\\117_Skateboard_P_CCW_Targets.set...\n",
      "Not setting metadata\n",
      "85 matching events found\n",
      "No baseline correction applied\n",
      "0 projection items activated\n",
      "Ready.\n"
     ]
    },
    {
     "name": "stderr",
     "output_type": "stream",
     "text": [
      "C:\\Users\\jerem\\AppData\\Local\\Temp\\ipykernel_14404\\4205727171.py:4: RuntimeWarning: At least one epoch has multiple events. Only the latency of the first event will be retained.\n",
      "  epochs = mne.io.read_epochs_eeglab(traindata[i])\n"
     ]
    },
    {
     "name": "stdout",
     "output_type": "stream",
     "text": [
      "Extracting parameters from C:\\Users\\jerem\\Downloads\\segments_test\\117_Skateboard_P_CW_Standards.set...\n",
      "Not setting metadata\n",
      "235 matching events found\n",
      "No baseline correction applied\n",
      "0 projection items activated\n",
      "Ready.\n"
     ]
    },
    {
     "name": "stderr",
     "output_type": "stream",
     "text": [
      "C:\\Users\\jerem\\AppData\\Local\\Temp\\ipykernel_14404\\4205727171.py:4: RuntimeWarning: At least one epoch has multiple events. Only the latency of the first event will be retained.\n",
      "  epochs = mne.io.read_epochs_eeglab(traindata[i])\n"
     ]
    },
    {
     "name": "stdout",
     "output_type": "stream",
     "text": [
      "Extracting parameters from C:\\Users\\jerem\\Downloads\\segments_test\\117_Skateboard_P_CW_Targets.set...\n",
      "Not setting metadata\n",
      "89 matching events found\n",
      "No baseline correction applied\n",
      "0 projection items activated\n",
      "Ready.\n"
     ]
    },
    {
     "name": "stderr",
     "output_type": "stream",
     "text": [
      "C:\\Users\\jerem\\AppData\\Local\\Temp\\ipykernel_14404\\4205727171.py:4: RuntimeWarning: At least one epoch has multiple events. Only the latency of the first event will be retained.\n",
      "  epochs = mne.io.read_epochs_eeglab(traindata[i])\n"
     ]
    },
    {
     "name": "stdout",
     "output_type": "stream",
     "text": [
      "Extracting parameters from C:\\Users\\jerem\\Downloads\\segments_test\\119_Skateboard_NP_CCW_Standards.set...\n",
      "Not setting metadata\n",
      "236 matching events found\n",
      "No baseline correction applied\n",
      "0 projection items activated\n",
      "Ready.\n"
     ]
    },
    {
     "name": "stderr",
     "output_type": "stream",
     "text": [
      "C:\\Users\\jerem\\AppData\\Local\\Temp\\ipykernel_14404\\4205727171.py:4: RuntimeWarning: At least one epoch has multiple events. Only the latency of the first event will be retained.\n",
      "  epochs = mne.io.read_epochs_eeglab(traindata[i])\n"
     ]
    },
    {
     "name": "stdout",
     "output_type": "stream",
     "text": [
      "Extracting parameters from C:\\Users\\jerem\\Downloads\\segments_test\\119_Skateboard_NP_CCW_Targets.set...\n",
      "Not setting metadata\n",
      "84 matching events found\n",
      "No baseline correction applied\n",
      "0 projection items activated\n",
      "Ready.\n"
     ]
    },
    {
     "name": "stderr",
     "output_type": "stream",
     "text": [
      "C:\\Users\\jerem\\AppData\\Local\\Temp\\ipykernel_14404\\4205727171.py:4: RuntimeWarning: At least one epoch has multiple events. Only the latency of the first event will be retained.\n",
      "  epochs = mne.io.read_epochs_eeglab(traindata[i])\n"
     ]
    },
    {
     "name": "stdout",
     "output_type": "stream",
     "text": [
      "Extracting parameters from C:\\Users\\jerem\\Downloads\\segments_test\\119_Skateboard_NP_CW_Standards.set...\n",
      "Not setting metadata\n",
      "236 matching events found\n",
      "No baseline correction applied\n",
      "0 projection items activated\n",
      "Ready.\n"
     ]
    },
    {
     "name": "stderr",
     "output_type": "stream",
     "text": [
      "C:\\Users\\jerem\\AppData\\Local\\Temp\\ipykernel_14404\\4205727171.py:4: RuntimeWarning: At least one epoch has multiple events. Only the latency of the first event will be retained.\n",
      "  epochs = mne.io.read_epochs_eeglab(traindata[i])\n"
     ]
    },
    {
     "name": "stdout",
     "output_type": "stream",
     "text": [
      "Extracting parameters from C:\\Users\\jerem\\Downloads\\segments_test\\119_Skateboard_NP_CW_Targets.set...\n",
      "Not setting metadata\n",
      "86 matching events found\n",
      "No baseline correction applied\n",
      "0 projection items activated\n",
      "Ready.\n"
     ]
    },
    {
     "name": "stderr",
     "output_type": "stream",
     "text": [
      "C:\\Users\\jerem\\AppData\\Local\\Temp\\ipykernel_14404\\4205727171.py:4: RuntimeWarning: At least one epoch has multiple events. Only the latency of the first event will be retained.\n",
      "  epochs = mne.io.read_epochs_eeglab(traindata[i])\n"
     ]
    },
    {
     "name": "stdout",
     "output_type": "stream",
     "text": [
      "Extracting parameters from C:\\Users\\jerem\\Downloads\\segments_test\\119_Skateboard_P_CCW_Standards.set...\n",
      "Not setting metadata\n",
      "237 matching events found\n",
      "No baseline correction applied\n",
      "0 projection items activated\n",
      "Ready.\n"
     ]
    },
    {
     "name": "stderr",
     "output_type": "stream",
     "text": [
      "C:\\Users\\jerem\\AppData\\Local\\Temp\\ipykernel_14404\\4205727171.py:4: RuntimeWarning: At least one epoch has multiple events. Only the latency of the first event will be retained.\n",
      "  epochs = mne.io.read_epochs_eeglab(traindata[i])\n"
     ]
    },
    {
     "name": "stdout",
     "output_type": "stream",
     "text": [
      "Extracting parameters from C:\\Users\\jerem\\Downloads\\segments_test\\119_Skateboard_P_CCW_Targets.set...\n",
      "Not setting metadata\n",
      "91 matching events found\n",
      "No baseline correction applied\n",
      "0 projection items activated\n",
      "Ready.\n"
     ]
    },
    {
     "name": "stderr",
     "output_type": "stream",
     "text": [
      "C:\\Users\\jerem\\AppData\\Local\\Temp\\ipykernel_14404\\4205727171.py:4: RuntimeWarning: At least one epoch has multiple events. Only the latency of the first event will be retained.\n",
      "  epochs = mne.io.read_epochs_eeglab(traindata[i])\n"
     ]
    },
    {
     "name": "stdout",
     "output_type": "stream",
     "text": [
      "Extracting parameters from C:\\Users\\jerem\\Downloads\\segments_test\\119_Skateboard_P_CW_Standards.set...\n",
      "Not setting metadata\n",
      "239 matching events found\n",
      "No baseline correction applied\n",
      "0 projection items activated\n",
      "Ready.\n"
     ]
    },
    {
     "name": "stderr",
     "output_type": "stream",
     "text": [
      "C:\\Users\\jerem\\AppData\\Local\\Temp\\ipykernel_14404\\4205727171.py:4: RuntimeWarning: At least one epoch has multiple events. Only the latency of the first event will be retained.\n",
      "  epochs = mne.io.read_epochs_eeglab(traindata[i])\n"
     ]
    },
    {
     "name": "stdout",
     "output_type": "stream",
     "text": [
      "Extracting parameters from C:\\Users\\jerem\\Downloads\\segments_test\\119_Skateboard_P_CW_Targets.set...\n",
      "Not setting metadata\n",
      "91 matching events found\n",
      "No baseline correction applied\n",
      "0 projection items activated\n",
      "Ready.\n"
     ]
    },
    {
     "name": "stderr",
     "output_type": "stream",
     "text": [
      "C:\\Users\\jerem\\AppData\\Local\\Temp\\ipykernel_14404\\4205727171.py:4: RuntimeWarning: At least one epoch has multiple events. Only the latency of the first event will be retained.\n",
      "  epochs = mne.io.read_epochs_eeglab(traindata[i])\n"
     ]
    },
    {
     "name": "stdout",
     "output_type": "stream",
     "text": [
      "Extracting parameters from C:\\Users\\jerem\\Downloads\\segments_test\\120_Skateboard_NP_CCW_Standards.set...\n",
      "Not setting metadata\n",
      "212 matching events found\n",
      "No baseline correction applied\n",
      "0 projection items activated\n",
      "Ready.\n"
     ]
    },
    {
     "name": "stderr",
     "output_type": "stream",
     "text": [
      "C:\\Users\\jerem\\AppData\\Local\\Temp\\ipykernel_14404\\4205727171.py:4: RuntimeWarning: At least one epoch has multiple events. Only the latency of the first event will be retained.\n",
      "  epochs = mne.io.read_epochs_eeglab(traindata[i])\n"
     ]
    },
    {
     "name": "stdout",
     "output_type": "stream",
     "text": [
      "Extracting parameters from C:\\Users\\jerem\\Downloads\\segments_test\\120_Skateboard_NP_CCW_Targets.set...\n",
      "Not setting metadata\n",
      "80 matching events found\n",
      "No baseline correction applied\n",
      "0 projection items activated\n",
      "Ready.\n"
     ]
    },
    {
     "name": "stderr",
     "output_type": "stream",
     "text": [
      "C:\\Users\\jerem\\AppData\\Local\\Temp\\ipykernel_14404\\4205727171.py:4: RuntimeWarning: At least one epoch has multiple events. Only the latency of the first event will be retained.\n",
      "  epochs = mne.io.read_epochs_eeglab(traindata[i])\n"
     ]
    },
    {
     "name": "stdout",
     "output_type": "stream",
     "text": [
      "Extracting parameters from C:\\Users\\jerem\\Downloads\\segments_test\\120_Skateboard_NP_CW_Standards.set...\n",
      "Not setting metadata\n",
      "188 matching events found\n",
      "No baseline correction applied\n",
      "0 projection items activated\n",
      "Ready.\n"
     ]
    },
    {
     "name": "stderr",
     "output_type": "stream",
     "text": [
      "C:\\Users\\jerem\\AppData\\Local\\Temp\\ipykernel_14404\\4205727171.py:4: RuntimeWarning: At least one epoch has multiple events. Only the latency of the first event will be retained.\n",
      "  epochs = mne.io.read_epochs_eeglab(traindata[i])\n"
     ]
    },
    {
     "name": "stdout",
     "output_type": "stream",
     "text": [
      "Extracting parameters from C:\\Users\\jerem\\Downloads\\segments_test\\120_Skateboard_NP_CW_Targets.set...\n",
      "Not setting metadata\n",
      "70 matching events found\n",
      "No baseline correction applied\n",
      "0 projection items activated\n",
      "Ready.\n"
     ]
    },
    {
     "name": "stderr",
     "output_type": "stream",
     "text": [
      "C:\\Users\\jerem\\AppData\\Local\\Temp\\ipykernel_14404\\4205727171.py:4: RuntimeWarning: At least one epoch has multiple events. Only the latency of the first event will be retained.\n",
      "  epochs = mne.io.read_epochs_eeglab(traindata[i])\n"
     ]
    },
    {
     "name": "stdout",
     "output_type": "stream",
     "text": [
      "Extracting parameters from C:\\Users\\jerem\\Downloads\\segments_test\\120_Skateboard_P_CCW_Standards.set...\n",
      "Not setting metadata\n",
      "186 matching events found\n",
      "No baseline correction applied\n",
      "0 projection items activated\n",
      "Ready.\n"
     ]
    },
    {
     "name": "stderr",
     "output_type": "stream",
     "text": [
      "C:\\Users\\jerem\\AppData\\Local\\Temp\\ipykernel_14404\\4205727171.py:4: RuntimeWarning: At least one epoch has multiple events. Only the latency of the first event will be retained.\n",
      "  epochs = mne.io.read_epochs_eeglab(traindata[i])\n"
     ]
    },
    {
     "name": "stdout",
     "output_type": "stream",
     "text": [
      "Extracting parameters from C:\\Users\\jerem\\Downloads\\segments_test\\120_Skateboard_P_CCW_Targets.set...\n",
      "Not setting metadata\n",
      "67 matching events found\n",
      "No baseline correction applied\n",
      "0 projection items activated\n",
      "Ready.\n"
     ]
    },
    {
     "name": "stderr",
     "output_type": "stream",
     "text": [
      "C:\\Users\\jerem\\AppData\\Local\\Temp\\ipykernel_14404\\4205727171.py:4: RuntimeWarning: At least one epoch has multiple events. Only the latency of the first event will be retained.\n",
      "  epochs = mne.io.read_epochs_eeglab(traindata[i])\n"
     ]
    },
    {
     "name": "stdout",
     "output_type": "stream",
     "text": [
      "Extracting parameters from C:\\Users\\jerem\\Downloads\\segments_test\\120_Skateboard_P_CW_Standards.set...\n",
      "Not setting metadata\n",
      "164 matching events found\n",
      "No baseline correction applied\n",
      "0 projection items activated\n",
      "Ready.\n"
     ]
    },
    {
     "name": "stderr",
     "output_type": "stream",
     "text": [
      "C:\\Users\\jerem\\AppData\\Local\\Temp\\ipykernel_14404\\4205727171.py:4: RuntimeWarning: At least one epoch has multiple events. Only the latency of the first event will be retained.\n",
      "  epochs = mne.io.read_epochs_eeglab(traindata[i])\n"
     ]
    },
    {
     "name": "stdout",
     "output_type": "stream",
     "text": [
      "Extracting parameters from C:\\Users\\jerem\\Downloads\\segments_test\\120_Skateboard_P_CW_Targets.set...\n",
      "Not setting metadata\n",
      "64 matching events found\n",
      "No baseline correction applied\n",
      "0 projection items activated\n",
      "Ready.\n"
     ]
    },
    {
     "name": "stderr",
     "output_type": "stream",
     "text": [
      "C:\\Users\\jerem\\AppData\\Local\\Temp\\ipykernel_14404\\4205727171.py:4: RuntimeWarning: At least one epoch has multiple events. Only the latency of the first event will be retained.\n",
      "  epochs = mne.io.read_epochs_eeglab(traindata[i])\n"
     ]
    },
    {
     "name": "stdout",
     "output_type": "stream",
     "text": [
      "Extracting parameters from C:\\Users\\jerem\\Downloads\\segments_test\\122_Skateboard_NP_CCW_Standards.set...\n",
      "Not setting metadata\n",
      "243 matching events found\n",
      "No baseline correction applied\n",
      "0 projection items activated\n",
      "Ready.\n"
     ]
    },
    {
     "name": "stderr",
     "output_type": "stream",
     "text": [
      "C:\\Users\\jerem\\AppData\\Local\\Temp\\ipykernel_14404\\4205727171.py:4: RuntimeWarning: At least one epoch has multiple events. Only the latency of the first event will be retained.\n",
      "  epochs = mne.io.read_epochs_eeglab(traindata[i])\n"
     ]
    },
    {
     "name": "stdout",
     "output_type": "stream",
     "text": [
      "Extracting parameters from C:\\Users\\jerem\\Downloads\\segments_test\\122_Skateboard_NP_CCW_Targets.set...\n",
      "Not setting metadata\n",
      "90 matching events found\n",
      "No baseline correction applied\n",
      "0 projection items activated\n",
      "Ready.\n"
     ]
    },
    {
     "name": "stderr",
     "output_type": "stream",
     "text": [
      "C:\\Users\\jerem\\AppData\\Local\\Temp\\ipykernel_14404\\4205727171.py:4: RuntimeWarning: At least one epoch has multiple events. Only the latency of the first event will be retained.\n",
      "  epochs = mne.io.read_epochs_eeglab(traindata[i])\n"
     ]
    },
    {
     "name": "stdout",
     "output_type": "stream",
     "text": [
      "Extracting parameters from C:\\Users\\jerem\\Downloads\\segments_test\\122_Skateboard_NP_CW_Standards.set...\n",
      "Not setting metadata\n",
      "229 matching events found\n",
      "No baseline correction applied\n",
      "0 projection items activated\n",
      "Ready.\n"
     ]
    },
    {
     "name": "stderr",
     "output_type": "stream",
     "text": [
      "C:\\Users\\jerem\\AppData\\Local\\Temp\\ipykernel_14404\\4205727171.py:4: RuntimeWarning: At least one epoch has multiple events. Only the latency of the first event will be retained.\n",
      "  epochs = mne.io.read_epochs_eeglab(traindata[i])\n"
     ]
    },
    {
     "name": "stdout",
     "output_type": "stream",
     "text": [
      "Extracting parameters from C:\\Users\\jerem\\Downloads\\segments_test\\122_Skateboard_NP_CW_Targets.set...\n",
      "Not setting metadata\n",
      "84 matching events found\n",
      "No baseline correction applied\n",
      "0 projection items activated\n",
      "Ready.\n"
     ]
    },
    {
     "name": "stderr",
     "output_type": "stream",
     "text": [
      "C:\\Users\\jerem\\AppData\\Local\\Temp\\ipykernel_14404\\4205727171.py:4: RuntimeWarning: At least one epoch has multiple events. Only the latency of the first event will be retained.\n",
      "  epochs = mne.io.read_epochs_eeglab(traindata[i])\n"
     ]
    },
    {
     "name": "stdout",
     "output_type": "stream",
     "text": [
      "Extracting parameters from C:\\Users\\jerem\\Downloads\\segments_test\\122_Skateboard_P_CCW_Standards.set...\n",
      "Not setting metadata\n",
      "239 matching events found\n",
      "No baseline correction applied\n",
      "0 projection items activated\n",
      "Ready.\n"
     ]
    },
    {
     "name": "stderr",
     "output_type": "stream",
     "text": [
      "C:\\Users\\jerem\\AppData\\Local\\Temp\\ipykernel_14404\\4205727171.py:4: RuntimeWarning: At least one epoch has multiple events. Only the latency of the first event will be retained.\n",
      "  epochs = mne.io.read_epochs_eeglab(traindata[i])\n"
     ]
    },
    {
     "name": "stdout",
     "output_type": "stream",
     "text": [
      "Extracting parameters from C:\\Users\\jerem\\Downloads\\segments_test\\122_Skateboard_P_CCW_Targets.set...\n",
      "Not setting metadata\n",
      "86 matching events found\n",
      "No baseline correction applied\n",
      "0 projection items activated\n",
      "Ready.\n"
     ]
    },
    {
     "name": "stderr",
     "output_type": "stream",
     "text": [
      "C:\\Users\\jerem\\AppData\\Local\\Temp\\ipykernel_14404\\4205727171.py:4: RuntimeWarning: At least one epoch has multiple events. Only the latency of the first event will be retained.\n",
      "  epochs = mne.io.read_epochs_eeglab(traindata[i])\n"
     ]
    },
    {
     "name": "stdout",
     "output_type": "stream",
     "text": [
      "Extracting parameters from C:\\Users\\jerem\\Downloads\\segments_test\\122_Skateboard_P_CW_Standards.set...\n",
      "Not setting metadata\n",
      "192 matching events found\n",
      "No baseline correction applied\n",
      "0 projection items activated\n",
      "Ready.\n"
     ]
    },
    {
     "name": "stderr",
     "output_type": "stream",
     "text": [
      "C:\\Users\\jerem\\AppData\\Local\\Temp\\ipykernel_14404\\4205727171.py:4: RuntimeWarning: At least one epoch has multiple events. Only the latency of the first event will be retained.\n",
      "  epochs = mne.io.read_epochs_eeglab(traindata[i])\n"
     ]
    },
    {
     "name": "stdout",
     "output_type": "stream",
     "text": [
      "Extracting parameters from C:\\Users\\jerem\\Downloads\\segments_test\\122_Skateboard_P_CW_Targets.set...\n",
      "Not setting metadata\n",
      "66 matching events found\n",
      "No baseline correction applied\n",
      "0 projection items activated\n",
      "Ready.\n"
     ]
    },
    {
     "name": "stderr",
     "output_type": "stream",
     "text": [
      "C:\\Users\\jerem\\AppData\\Local\\Temp\\ipykernel_14404\\4205727171.py:4: RuntimeWarning: At least one epoch has multiple events. Only the latency of the first event will be retained.\n",
      "  epochs = mne.io.read_epochs_eeglab(traindata[i])\n"
     ]
    },
    {
     "name": "stdout",
     "output_type": "stream",
     "text": [
      "Extracting parameters from C:\\Users\\jerem\\Downloads\\segments_test\\123_Skateboard_NP_CCW_Standards.set...\n",
      "Not setting metadata\n",
      "232 matching events found\n",
      "No baseline correction applied\n",
      "0 projection items activated\n",
      "Ready.\n"
     ]
    },
    {
     "name": "stderr",
     "output_type": "stream",
     "text": [
      "C:\\Users\\jerem\\AppData\\Local\\Temp\\ipykernel_14404\\4205727171.py:4: RuntimeWarning: At least one epoch has multiple events. Only the latency of the first event will be retained.\n",
      "  epochs = mne.io.read_epochs_eeglab(traindata[i])\n"
     ]
    },
    {
     "name": "stdout",
     "output_type": "stream",
     "text": [
      "Extracting parameters from C:\\Users\\jerem\\Downloads\\segments_test\\123_Skateboard_NP_CCW_Targets.set...\n",
      "Not setting metadata\n",
      "87 matching events found\n",
      "No baseline correction applied\n",
      "0 projection items activated\n",
      "Ready.\n"
     ]
    },
    {
     "name": "stderr",
     "output_type": "stream",
     "text": [
      "C:\\Users\\jerem\\AppData\\Local\\Temp\\ipykernel_14404\\4205727171.py:4: RuntimeWarning: At least one epoch has multiple events. Only the latency of the first event will be retained.\n",
      "  epochs = mne.io.read_epochs_eeglab(traindata[i])\n"
     ]
    },
    {
     "name": "stdout",
     "output_type": "stream",
     "text": [
      "Extracting parameters from C:\\Users\\jerem\\Downloads\\segments_test\\123_Skateboard_NP_CW_Standards.set...\n",
      "Not setting metadata\n",
      "236 matching events found\n",
      "No baseline correction applied\n",
      "0 projection items activated\n",
      "Ready.\n"
     ]
    },
    {
     "name": "stderr",
     "output_type": "stream",
     "text": [
      "C:\\Users\\jerem\\AppData\\Local\\Temp\\ipykernel_14404\\4205727171.py:4: RuntimeWarning: At least one epoch has multiple events. Only the latency of the first event will be retained.\n",
      "  epochs = mne.io.read_epochs_eeglab(traindata[i])\n"
     ]
    },
    {
     "name": "stdout",
     "output_type": "stream",
     "text": [
      "Extracting parameters from C:\\Users\\jerem\\Downloads\\segments_test\\123_Skateboard_NP_CW_Targets.set...\n",
      "Not setting metadata\n",
      "88 matching events found\n",
      "No baseline correction applied\n"
     ]
    },
    {
     "name": "stderr",
     "output_type": "stream",
     "text": [
      "C:\\Users\\jerem\\AppData\\Local\\Temp\\ipykernel_14404\\4205727171.py:4: RuntimeWarning: At least one epoch has multiple events. Only the latency of the first event will be retained.\n",
      "  epochs = mne.io.read_epochs_eeglab(traindata[i])\n"
     ]
    },
    {
     "name": "stdout",
     "output_type": "stream",
     "text": [
      "0 projection items activated\n",
      "Ready.\n",
      "Extracting parameters from C:\\Users\\jerem\\Downloads\\segments_test\\123_Skateboard_P_CCW_Standards.set...\n",
      "Not setting metadata\n",
      "232 matching events found\n",
      "No baseline correction applied\n",
      "0 projection items activated\n",
      "Ready.\n"
     ]
    },
    {
     "name": "stderr",
     "output_type": "stream",
     "text": [
      "C:\\Users\\jerem\\AppData\\Local\\Temp\\ipykernel_14404\\4205727171.py:4: RuntimeWarning: At least one epoch has multiple events. Only the latency of the first event will be retained.\n",
      "  epochs = mne.io.read_epochs_eeglab(traindata[i])\n"
     ]
    },
    {
     "name": "stdout",
     "output_type": "stream",
     "text": [
      "Extracting parameters from C:\\Users\\jerem\\Downloads\\segments_test\\123_Skateboard_P_CCW_Targets.set...\n",
      "Not setting metadata\n",
      "82 matching events found\n",
      "No baseline correction applied\n",
      "0 projection items activated\n",
      "Ready.\n"
     ]
    },
    {
     "name": "stderr",
     "output_type": "stream",
     "text": [
      "C:\\Users\\jerem\\AppData\\Local\\Temp\\ipykernel_14404\\4205727171.py:4: RuntimeWarning: At least one epoch has multiple events. Only the latency of the first event will be retained.\n",
      "  epochs = mne.io.read_epochs_eeglab(traindata[i])\n"
     ]
    },
    {
     "name": "stdout",
     "output_type": "stream",
     "text": [
      "Extracting parameters from C:\\Users\\jerem\\Downloads\\segments_test\\123_Skateboard_P_CW_Standards.set...\n",
      "Not setting metadata\n",
      "231 matching events found\n",
      "No baseline correction applied\n",
      "0 projection items activated\n",
      "Ready.\n"
     ]
    },
    {
     "name": "stderr",
     "output_type": "stream",
     "text": [
      "C:\\Users\\jerem\\AppData\\Local\\Temp\\ipykernel_14404\\4205727171.py:4: RuntimeWarning: At least one epoch has multiple events. Only the latency of the first event will be retained.\n",
      "  epochs = mne.io.read_epochs_eeglab(traindata[i])\n"
     ]
    },
    {
     "name": "stdout",
     "output_type": "stream",
     "text": [
      "Extracting parameters from C:\\Users\\jerem\\Downloads\\segments_test\\123_Skateboard_P_CW_Targets.set...\n",
      "Not setting metadata\n",
      "86 matching events found\n",
      "No baseline correction applied\n",
      "0 projection items activated\n",
      "Ready.\n"
     ]
    },
    {
     "name": "stderr",
     "output_type": "stream",
     "text": [
      "C:\\Users\\jerem\\AppData\\Local\\Temp\\ipykernel_14404\\4205727171.py:4: RuntimeWarning: At least one epoch has multiple events. Only the latency of the first event will be retained.\n",
      "  epochs = mne.io.read_epochs_eeglab(traindata[i])\n"
     ]
    },
    {
     "name": "stdout",
     "output_type": "stream",
     "text": [
      "Extracting parameters from C:\\Users\\jerem\\Downloads\\segments_test\\125_Skateboard_NP_CCW_Standards.set...\n",
      "Not setting metadata\n",
      "219 matching events found\n",
      "No baseline correction applied\n",
      "0 projection items activated\n",
      "Ready.\n"
     ]
    },
    {
     "name": "stderr",
     "output_type": "stream",
     "text": [
      "C:\\Users\\jerem\\AppData\\Local\\Temp\\ipykernel_14404\\4205727171.py:4: RuntimeWarning: At least one epoch has multiple events. Only the latency of the first event will be retained.\n",
      "  epochs = mne.io.read_epochs_eeglab(traindata[i])\n"
     ]
    },
    {
     "name": "stdout",
     "output_type": "stream",
     "text": [
      "Extracting parameters from C:\\Users\\jerem\\Downloads\\segments_test\\125_Skateboard_NP_CCW_Targets.set...\n",
      "Not setting metadata\n",
      "82 matching events found\n",
      "No baseline correction applied\n",
      "0 projection items activated\n",
      "Ready.\n"
     ]
    },
    {
     "name": "stderr",
     "output_type": "stream",
     "text": [
      "C:\\Users\\jerem\\AppData\\Local\\Temp\\ipykernel_14404\\4205727171.py:4: RuntimeWarning: At least one epoch has multiple events. Only the latency of the first event will be retained.\n",
      "  epochs = mne.io.read_epochs_eeglab(traindata[i])\n"
     ]
    },
    {
     "name": "stdout",
     "output_type": "stream",
     "text": [
      "Extracting parameters from C:\\Users\\jerem\\Downloads\\segments_test\\125_Skateboard_NP_CW_Standards.set...\n",
      "Not setting metadata\n",
      "231 matching events found\n",
      "No baseline correction applied\n",
      "0 projection items activated\n",
      "Ready.\n"
     ]
    },
    {
     "name": "stderr",
     "output_type": "stream",
     "text": [
      "C:\\Users\\jerem\\AppData\\Local\\Temp\\ipykernel_14404\\4205727171.py:4: RuntimeWarning: At least one epoch has multiple events. Only the latency of the first event will be retained.\n",
      "  epochs = mne.io.read_epochs_eeglab(traindata[i])\n"
     ]
    },
    {
     "name": "stdout",
     "output_type": "stream",
     "text": [
      "Extracting parameters from C:\\Users\\jerem\\Downloads\\segments_test\\125_Skateboard_NP_CW_Targets.set...\n",
      "Not setting metadata\n",
      "84 matching events found\n",
      "No baseline correction applied\n",
      "0 projection items activated\n",
      "Ready.\n"
     ]
    },
    {
     "name": "stderr",
     "output_type": "stream",
     "text": [
      "C:\\Users\\jerem\\AppData\\Local\\Temp\\ipykernel_14404\\4205727171.py:4: RuntimeWarning: At least one epoch has multiple events. Only the latency of the first event will be retained.\n",
      "  epochs = mne.io.read_epochs_eeglab(traindata[i])\n"
     ]
    },
    {
     "name": "stdout",
     "output_type": "stream",
     "text": [
      "Extracting parameters from C:\\Users\\jerem\\Downloads\\segments_test\\125_Skateboard_P_CCW_Standards.set...\n",
      "Not setting metadata\n",
      "232 matching events found\n",
      "No baseline correction applied\n",
      "0 projection items activated\n",
      "Ready.\n"
     ]
    },
    {
     "name": "stderr",
     "output_type": "stream",
     "text": [
      "C:\\Users\\jerem\\AppData\\Local\\Temp\\ipykernel_14404\\4205727171.py:4: RuntimeWarning: At least one epoch has multiple events. Only the latency of the first event will be retained.\n",
      "  epochs = mne.io.read_epochs_eeglab(traindata[i])\n"
     ]
    },
    {
     "name": "stdout",
     "output_type": "stream",
     "text": [
      "Extracting parameters from C:\\Users\\jerem\\Downloads\\segments_test\\125_Skateboard_P_CCW_Targets.set...\n",
      "Not setting metadata\n",
      "83 matching events found\n",
      "No baseline correction applied\n",
      "0 projection items activated\n",
      "Ready.\n"
     ]
    },
    {
     "name": "stderr",
     "output_type": "stream",
     "text": [
      "C:\\Users\\jerem\\AppData\\Local\\Temp\\ipykernel_14404\\4205727171.py:4: RuntimeWarning: At least one epoch has multiple events. Only the latency of the first event will be retained.\n",
      "  epochs = mne.io.read_epochs_eeglab(traindata[i])\n"
     ]
    },
    {
     "name": "stdout",
     "output_type": "stream",
     "text": [
      "Extracting parameters from C:\\Users\\jerem\\Downloads\\segments_test\\125_Skateboard_P_CW_Standards.set...\n",
      "Not setting metadata\n",
      "229 matching events found\n",
      "No baseline correction applied\n",
      "0 projection items activated\n",
      "Ready.\n"
     ]
    },
    {
     "name": "stderr",
     "output_type": "stream",
     "text": [
      "C:\\Users\\jerem\\AppData\\Local\\Temp\\ipykernel_14404\\4205727171.py:4: RuntimeWarning: At least one epoch has multiple events. Only the latency of the first event will be retained.\n",
      "  epochs = mne.io.read_epochs_eeglab(traindata[i])\n"
     ]
    },
    {
     "name": "stdout",
     "output_type": "stream",
     "text": [
      "Extracting parameters from C:\\Users\\jerem\\Downloads\\segments_test\\125_Skateboard_P_CW_Targets.set...\n",
      "Not setting metadata\n",
      "86 matching events found\n",
      "No baseline correction applied\n",
      "0 projection items activated\n",
      "Ready.\n"
     ]
    },
    {
     "name": "stderr",
     "output_type": "stream",
     "text": [
      "C:\\Users\\jerem\\AppData\\Local\\Temp\\ipykernel_14404\\4205727171.py:4: RuntimeWarning: At least one epoch has multiple events. Only the latency of the first event will be retained.\n",
      "  epochs = mne.io.read_epochs_eeglab(traindata[i])\n"
     ]
    },
    {
     "name": "stdout",
     "output_type": "stream",
     "text": [
      "Extracting parameters from C:\\Users\\jerem\\Downloads\\segments_test\\126_Skateboard_NP_CCW_Standards.set...\n",
      "Not setting metadata\n",
      "232 matching events found\n",
      "No baseline correction applied\n",
      "0 projection items activated\n",
      "Ready.\n"
     ]
    },
    {
     "name": "stderr",
     "output_type": "stream",
     "text": [
      "C:\\Users\\jerem\\AppData\\Local\\Temp\\ipykernel_14404\\4205727171.py:4: RuntimeWarning: At least one epoch has multiple events. Only the latency of the first event will be retained.\n",
      "  epochs = mne.io.read_epochs_eeglab(traindata[i])\n"
     ]
    },
    {
     "name": "stdout",
     "output_type": "stream",
     "text": [
      "Extracting parameters from C:\\Users\\jerem\\Downloads\\segments_test\\126_Skateboard_NP_CCW_Targets.set...\n",
      "Not setting metadata\n",
      "85 matching events found\n",
      "No baseline correction applied\n",
      "0 projection items activated\n",
      "Ready.\n"
     ]
    },
    {
     "name": "stderr",
     "output_type": "stream",
     "text": [
      "C:\\Users\\jerem\\AppData\\Local\\Temp\\ipykernel_14404\\4205727171.py:4: RuntimeWarning: At least one epoch has multiple events. Only the latency of the first event will be retained.\n",
      "  epochs = mne.io.read_epochs_eeglab(traindata[i])\n"
     ]
    },
    {
     "name": "stdout",
     "output_type": "stream",
     "text": [
      "Extracting parameters from C:\\Users\\jerem\\Downloads\\segments_test\\126_Skateboard_NP_CW_Standards.set...\n",
      "Not setting metadata\n",
      "241 matching events found\n",
      "No baseline correction applied\n",
      "0 projection items activated\n",
      "Ready.\n"
     ]
    },
    {
     "name": "stderr",
     "output_type": "stream",
     "text": [
      "C:\\Users\\jerem\\AppData\\Local\\Temp\\ipykernel_14404\\4205727171.py:4: RuntimeWarning: At least one epoch has multiple events. Only the latency of the first event will be retained.\n",
      "  epochs = mne.io.read_epochs_eeglab(traindata[i])\n"
     ]
    },
    {
     "name": "stdout",
     "output_type": "stream",
     "text": [
      "Extracting parameters from C:\\Users\\jerem\\Downloads\\segments_test\\126_Skateboard_NP_CW_Targets.set...\n",
      "Not setting metadata\n",
      "89 matching events found\n",
      "No baseline correction applied\n",
      "0 projection items activated\n",
      "Ready.\n"
     ]
    },
    {
     "name": "stderr",
     "output_type": "stream",
     "text": [
      "C:\\Users\\jerem\\AppData\\Local\\Temp\\ipykernel_14404\\4205727171.py:4: RuntimeWarning: At least one epoch has multiple events. Only the latency of the first event will be retained.\n",
      "  epochs = mne.io.read_epochs_eeglab(traindata[i])\n"
     ]
    },
    {
     "name": "stdout",
     "output_type": "stream",
     "text": [
      "Extracting parameters from C:\\Users\\jerem\\Downloads\\segments_test\\126_Skateboard_P_CCW_Standards.set...\n",
      "Not setting metadata\n",
      "236 matching events found\n",
      "No baseline correction applied\n",
      "0 projection items activated\n",
      "Ready.\n"
     ]
    },
    {
     "name": "stderr",
     "output_type": "stream",
     "text": [
      "C:\\Users\\jerem\\AppData\\Local\\Temp\\ipykernel_14404\\4205727171.py:4: RuntimeWarning: At least one epoch has multiple events. Only the latency of the first event will be retained.\n",
      "  epochs = mne.io.read_epochs_eeglab(traindata[i])\n"
     ]
    },
    {
     "name": "stdout",
     "output_type": "stream",
     "text": [
      "Extracting parameters from C:\\Users\\jerem\\Downloads\\segments_test\\126_Skateboard_P_CCW_Targets.set...\n",
      "Not setting metadata\n",
      "85 matching events found\n",
      "No baseline correction applied\n",
      "0 projection items activated\n",
      "Ready.\n"
     ]
    },
    {
     "name": "stderr",
     "output_type": "stream",
     "text": [
      "C:\\Users\\jerem\\AppData\\Local\\Temp\\ipykernel_14404\\4205727171.py:4: RuntimeWarning: At least one epoch has multiple events. Only the latency of the first event will be retained.\n",
      "  epochs = mne.io.read_epochs_eeglab(traindata[i])\n"
     ]
    },
    {
     "name": "stdout",
     "output_type": "stream",
     "text": [
      "Extracting parameters from C:\\Users\\jerem\\Downloads\\segments_test\\126_Skateboard_P_CW_Standards.set...\n",
      "Not setting metadata\n",
      "236 matching events found\n",
      "No baseline correction applied\n",
      "0 projection items activated\n",
      "Ready.\n"
     ]
    },
    {
     "name": "stderr",
     "output_type": "stream",
     "text": [
      "C:\\Users\\jerem\\AppData\\Local\\Temp\\ipykernel_14404\\4205727171.py:4: RuntimeWarning: At least one epoch has multiple events. Only the latency of the first event will be retained.\n",
      "  epochs = mne.io.read_epochs_eeglab(traindata[i])\n"
     ]
    },
    {
     "name": "stdout",
     "output_type": "stream",
     "text": [
      "Extracting parameters from C:\\Users\\jerem\\Downloads\\segments_test\\126_Skateboard_P_CW_Targets.set...\n",
      "Not setting metadata\n",
      "89 matching events found\n",
      "No baseline correction applied\n",
      "0 projection items activated\n",
      "Ready.\n"
     ]
    },
    {
     "name": "stderr",
     "output_type": "stream",
     "text": [
      "C:\\Users\\jerem\\AppData\\Local\\Temp\\ipykernel_14404\\4205727171.py:4: RuntimeWarning: At least one epoch has multiple events. Only the latency of the first event will be retained.\n",
      "  epochs = mne.io.read_epochs_eeglab(traindata[i])\n"
     ]
    },
    {
     "name": "stdout",
     "output_type": "stream",
     "text": [
      "Extracting parameters from C:\\Users\\jerem\\Downloads\\segments_test\\127_Skateboard_NP_CCW_Standards.set...\n",
      "Not setting metadata\n",
      "228 matching events found\n",
      "No baseline correction applied\n",
      "0 projection items activated\n",
      "Ready.\n"
     ]
    },
    {
     "name": "stderr",
     "output_type": "stream",
     "text": [
      "C:\\Users\\jerem\\AppData\\Local\\Temp\\ipykernel_14404\\4205727171.py:4: RuntimeWarning: At least one epoch has multiple events. Only the latency of the first event will be retained.\n",
      "  epochs = mne.io.read_epochs_eeglab(traindata[i])\n"
     ]
    },
    {
     "name": "stdout",
     "output_type": "stream",
     "text": [
      "Extracting parameters from C:\\Users\\jerem\\Downloads\\segments_test\\127_Skateboard_NP_CCW_Targets.set...\n",
      "Not setting metadata\n",
      "84 matching events found\n",
      "No baseline correction applied\n",
      "0 projection items activated\n",
      "Ready.\n"
     ]
    },
    {
     "name": "stderr",
     "output_type": "stream",
     "text": [
      "C:\\Users\\jerem\\AppData\\Local\\Temp\\ipykernel_14404\\4205727171.py:4: RuntimeWarning: At least one epoch has multiple events. Only the latency of the first event will be retained.\n",
      "  epochs = mne.io.read_epochs_eeglab(traindata[i])\n"
     ]
    },
    {
     "name": "stdout",
     "output_type": "stream",
     "text": [
      "Extracting parameters from C:\\Users\\jerem\\Downloads\\segments_test\\127_Skateboard_NP_CW_Standards.set...\n",
      "Not setting metadata\n",
      "217 matching events found\n",
      "No baseline correction applied\n",
      "0 projection items activated\n",
      "Ready.\n"
     ]
    },
    {
     "name": "stderr",
     "output_type": "stream",
     "text": [
      "C:\\Users\\jerem\\AppData\\Local\\Temp\\ipykernel_14404\\4205727171.py:4: RuntimeWarning: At least one epoch has multiple events. Only the latency of the first event will be retained.\n",
      "  epochs = mne.io.read_epochs_eeglab(traindata[i])\n"
     ]
    },
    {
     "name": "stdout",
     "output_type": "stream",
     "text": [
      "Extracting parameters from C:\\Users\\jerem\\Downloads\\segments_test\\127_Skateboard_NP_CW_Targets.set...\n",
      "Not setting metadata\n",
      "80 matching events found\n",
      "No baseline correction applied\n",
      "0 projection items activated\n",
      "Ready.\n"
     ]
    },
    {
     "name": "stderr",
     "output_type": "stream",
     "text": [
      "C:\\Users\\jerem\\AppData\\Local\\Temp\\ipykernel_14404\\4205727171.py:4: RuntimeWarning: At least one epoch has multiple events. Only the latency of the first event will be retained.\n",
      "  epochs = mne.io.read_epochs_eeglab(traindata[i])\n"
     ]
    },
    {
     "name": "stdout",
     "output_type": "stream",
     "text": [
      "Extracting parameters from C:\\Users\\jerem\\Downloads\\segments_test\\127_Skateboard_P_CCW_Standards.set...\n",
      "Not setting metadata\n",
      "207 matching events found\n",
      "No baseline correction applied\n",
      "0 projection items activated\n",
      "Ready.\n"
     ]
    },
    {
     "name": "stderr",
     "output_type": "stream",
     "text": [
      "C:\\Users\\jerem\\AppData\\Local\\Temp\\ipykernel_14404\\4205727171.py:4: RuntimeWarning: At least one epoch has multiple events. Only the latency of the first event will be retained.\n",
      "  epochs = mne.io.read_epochs_eeglab(traindata[i])\n"
     ]
    },
    {
     "name": "stdout",
     "output_type": "stream",
     "text": [
      "Extracting parameters from C:\\Users\\jerem\\Downloads\\segments_test\\127_Skateboard_P_CCW_Targets.set...\n",
      "Not setting metadata\n",
      "79 matching events found\n",
      "No baseline correction applied\n",
      "0 projection items activated\n",
      "Ready.\n"
     ]
    },
    {
     "name": "stderr",
     "output_type": "stream",
     "text": [
      "C:\\Users\\jerem\\AppData\\Local\\Temp\\ipykernel_14404\\4205727171.py:4: RuntimeWarning: At least one epoch has multiple events. Only the latency of the first event will be retained.\n",
      "  epochs = mne.io.read_epochs_eeglab(traindata[i])\n"
     ]
    },
    {
     "name": "stdout",
     "output_type": "stream",
     "text": [
      "Extracting parameters from C:\\Users\\jerem\\Downloads\\segments_test\\127_Skateboard_P_CW_Standards.set...\n",
      "Not setting metadata\n",
      "222 matching events found\n",
      "No baseline correction applied\n",
      "0 projection items activated\n",
      "Ready.\n"
     ]
    },
    {
     "name": "stderr",
     "output_type": "stream",
     "text": [
      "C:\\Users\\jerem\\AppData\\Local\\Temp\\ipykernel_14404\\4205727171.py:4: RuntimeWarning: At least one epoch has multiple events. Only the latency of the first event will be retained.\n",
      "  epochs = mne.io.read_epochs_eeglab(traindata[i])\n"
     ]
    },
    {
     "name": "stdout",
     "output_type": "stream",
     "text": [
      "Extracting parameters from C:\\Users\\jerem\\Downloads\\segments_test\\127_Skateboard_P_CW_Targets.set...\n",
      "Not setting metadata\n",
      "81 matching events found\n",
      "No baseline correction applied\n",
      "0 projection items activated\n",
      "Ready.\n"
     ]
    },
    {
     "name": "stderr",
     "output_type": "stream",
     "text": [
      "C:\\Users\\jerem\\AppData\\Local\\Temp\\ipykernel_14404\\4205727171.py:4: RuntimeWarning: At least one epoch has multiple events. Only the latency of the first event will be retained.\n",
      "  epochs = mne.io.read_epochs_eeglab(traindata[i])\n"
     ]
    },
    {
     "name": "stdout",
     "output_type": "stream",
     "text": [
      "Extracting parameters from C:\\Users\\jerem\\Downloads\\segments_test\\129_Skateboard_NP_CCW_Standards.set...\n",
      "Not setting metadata\n",
      "214 matching events found\n",
      "No baseline correction applied\n",
      "0 projection items activated\n",
      "Ready.\n"
     ]
    },
    {
     "name": "stderr",
     "output_type": "stream",
     "text": [
      "C:\\Users\\jerem\\AppData\\Local\\Temp\\ipykernel_14404\\4205727171.py:4: RuntimeWarning: At least one epoch has multiple events. Only the latency of the first event will be retained.\n",
      "  epochs = mne.io.read_epochs_eeglab(traindata[i])\n"
     ]
    },
    {
     "name": "stdout",
     "output_type": "stream",
     "text": [
      "Extracting parameters from C:\\Users\\jerem\\Downloads\\segments_test\\129_Skateboard_NP_CCW_Targets.set...\n",
      "Not setting metadata\n",
      "83 matching events found\n",
      "No baseline correction applied\n",
      "0 projection items activated\n",
      "Ready.\n"
     ]
    },
    {
     "name": "stderr",
     "output_type": "stream",
     "text": [
      "C:\\Users\\jerem\\AppData\\Local\\Temp\\ipykernel_14404\\4205727171.py:4: RuntimeWarning: At least one epoch has multiple events. Only the latency of the first event will be retained.\n",
      "  epochs = mne.io.read_epochs_eeglab(traindata[i])\n"
     ]
    },
    {
     "name": "stdout",
     "output_type": "stream",
     "text": [
      "Extracting parameters from C:\\Users\\jerem\\Downloads\\segments_test\\129_Skateboard_NP_CW_Standards.set...\n",
      "Not setting metadata\n",
      "186 matching events found\n",
      "No baseline correction applied\n",
      "0 projection items activated\n",
      "Ready.\n"
     ]
    },
    {
     "name": "stderr",
     "output_type": "stream",
     "text": [
      "C:\\Users\\jerem\\AppData\\Local\\Temp\\ipykernel_14404\\4205727171.py:4: RuntimeWarning: At least one epoch has multiple events. Only the latency of the first event will be retained.\n",
      "  epochs = mne.io.read_epochs_eeglab(traindata[i])\n"
     ]
    },
    {
     "name": "stdout",
     "output_type": "stream",
     "text": [
      "Extracting parameters from C:\\Users\\jerem\\Downloads\\segments_test\\129_Skateboard_NP_CW_Targets.set...\n",
      "Not setting metadata\n",
      "73 matching events found\n",
      "No baseline correction applied\n",
      "0 projection items activated\n",
      "Ready.\n"
     ]
    },
    {
     "name": "stderr",
     "output_type": "stream",
     "text": [
      "C:\\Users\\jerem\\AppData\\Local\\Temp\\ipykernel_14404\\4205727171.py:4: RuntimeWarning: At least one epoch has multiple events. Only the latency of the first event will be retained.\n",
      "  epochs = mne.io.read_epochs_eeglab(traindata[i])\n"
     ]
    },
    {
     "name": "stdout",
     "output_type": "stream",
     "text": [
      "Extracting parameters from C:\\Users\\jerem\\Downloads\\segments_test\\129_Skateboard_P_CCW_Standards.set...\n",
      "Not setting metadata\n",
      "221 matching events found\n",
      "No baseline correction applied\n",
      "0 projection items activated\n",
      "Ready.\n"
     ]
    },
    {
     "name": "stderr",
     "output_type": "stream",
     "text": [
      "C:\\Users\\jerem\\AppData\\Local\\Temp\\ipykernel_14404\\4205727171.py:4: RuntimeWarning: At least one epoch has multiple events. Only the latency of the first event will be retained.\n",
      "  epochs = mne.io.read_epochs_eeglab(traindata[i])\n"
     ]
    },
    {
     "name": "stdout",
     "output_type": "stream",
     "text": [
      "Extracting parameters from C:\\Users\\jerem\\Downloads\\segments_test\\129_Skateboard_P_CCW_Targets.set...\n",
      "Not setting metadata\n",
      "81 matching events found\n",
      "No baseline correction applied\n",
      "0 projection items activated\n",
      "Ready.\n"
     ]
    },
    {
     "name": "stderr",
     "output_type": "stream",
     "text": [
      "C:\\Users\\jerem\\AppData\\Local\\Temp\\ipykernel_14404\\4205727171.py:4: RuntimeWarning: At least one epoch has multiple events. Only the latency of the first event will be retained.\n",
      "  epochs = mne.io.read_epochs_eeglab(traindata[i])\n"
     ]
    },
    {
     "name": "stdout",
     "output_type": "stream",
     "text": [
      "Extracting parameters from C:\\Users\\jerem\\Downloads\\segments_test\\129_Skateboard_P_CW_Standards.set...\n",
      "Not setting metadata\n",
      "109 matching events found\n",
      "No baseline correction applied\n",
      "0 projection items activated\n",
      "Ready.\n"
     ]
    },
    {
     "name": "stderr",
     "output_type": "stream",
     "text": [
      "C:\\Users\\jerem\\AppData\\Local\\Temp\\ipykernel_14404\\4205727171.py:4: RuntimeWarning: At least one epoch has multiple events. Only the latency of the first event will be retained.\n",
      "  epochs = mne.io.read_epochs_eeglab(traindata[i])\n"
     ]
    },
    {
     "name": "stdout",
     "output_type": "stream",
     "text": [
      "Extracting parameters from C:\\Users\\jerem\\Downloads\\segments_test\\129_Skateboard_P_CW_Targets.set...\n",
      "Not setting metadata\n",
      "39 matching events found\n",
      "No baseline correction applied\n",
      "0 projection items activated\n",
      "Ready.\n"
     ]
    },
    {
     "name": "stderr",
     "output_type": "stream",
     "text": [
      "C:\\Users\\jerem\\AppData\\Local\\Temp\\ipykernel_14404\\4205727171.py:4: RuntimeWarning: At least one epoch has multiple events. Only the latency of the first event will be retained.\n",
      "  epochs = mne.io.read_epochs_eeglab(traindata[i])\n"
     ]
    },
    {
     "name": "stdout",
     "output_type": "stream",
     "text": [
      "Extracting parameters from C:\\Users\\jerem\\Downloads\\segments_test\\131_Skateboard_NP_CCW_Standards.set...\n",
      "Not setting metadata\n",
      "199 matching events found\n",
      "No baseline correction applied\n",
      "0 projection items activated\n",
      "Ready.\n",
      "Extracting parameters from C:\\Users\\jerem\\Downloads\\segments_test\\131_Skateboard_NP_CCW_Targets.set...\n",
      "Not setting metadata\n",
      "50 matching events found\n",
      "No baseline correction applied\n",
      "0 projection items activated\n",
      "Ready.\n",
      "Extracting parameters from C:\\Users\\jerem\\Downloads\\segments_test\\131_Skateboard_NP_CW_Standards.set...\n",
      "Not setting metadata\n",
      "198 matching events found\n",
      "No baseline correction applied\n",
      "0 projection items activated\n",
      "Ready.\n",
      "Extracting parameters from C:\\Users\\jerem\\Downloads\\segments_test\\131_Skateboard_NP_CW_Targets.set...\n",
      "Not setting metadata\n",
      "50 matching events found\n",
      "No baseline correction applied\n",
      "0 projection items activated\n",
      "Ready.\n",
      "Extracting parameters from C:\\Users\\jerem\\Downloads\\segments_test\\131_Skateboard_P_CCW_Standards.set...\n",
      "Not setting metadata\n",
      "200 matching events found\n",
      "No baseline correction applied\n",
      "0 projection items activated\n",
      "Ready.\n",
      "Extracting parameters from C:\\Users\\jerem\\Downloads\\segments_test\\131_Skateboard_P_CCW_Targets.set...\n",
      "Not setting metadata\n",
      "50 matching events found\n",
      "No baseline correction applied\n",
      "0 projection items activated\n",
      "Ready.\n",
      "Extracting parameters from C:\\Users\\jerem\\Downloads\\segments_test\\131_Skateboard_P_CW_Standards.set...\n",
      "Not setting metadata\n",
      "200 matching events found\n",
      "No baseline correction applied\n",
      "0 projection items activated\n",
      "Ready.\n",
      "Extracting parameters from C:\\Users\\jerem\\Downloads\\segments_test\\131_Skateboard_P_CW_Targets.set...\n",
      "Not setting metadata\n",
      "49 matching events found\n",
      "No baseline correction applied\n",
      "0 projection items activated\n",
      "Ready.\n",
      "Extracting parameters from C:\\Users\\jerem\\Downloads\\segments_test\\132_Skateboard_NP_CCW_Standards.set...\n",
      "Not setting metadata\n",
      "157 matching events found\n",
      "No baseline correction applied\n",
      "0 projection items activated\n",
      "Ready.\n",
      "Extracting parameters from C:\\Users\\jerem\\Downloads\\segments_test\\132_Skateboard_NP_CCW_Targets.set...\n",
      "Not setting metadata\n",
      "33 matching events found\n",
      "No baseline correction applied\n",
      "0 projection items activated\n",
      "Ready.\n",
      "Extracting parameters from C:\\Users\\jerem\\Downloads\\segments_test\\132_Skateboard_NP_CW_Standards.set...\n",
      "Not setting metadata\n",
      "180 matching events found\n",
      "No baseline correction applied\n",
      "0 projection items activated\n",
      "Ready.\n",
      "Extracting parameters from C:\\Users\\jerem\\Downloads\\segments_test\\132_Skateboard_NP_CW_Targets.set...\n",
      "Not setting metadata\n",
      "43 matching events found\n",
      "No baseline correction applied\n",
      "0 projection items activated\n",
      "Ready.\n",
      "Extracting parameters from C:\\Users\\jerem\\Downloads\\segments_test\\132_Skateboard_P_CCW_Standards.set...\n",
      "Not setting metadata\n",
      "198 matching events found\n",
      "No baseline correction applied\n",
      "0 projection items activated\n",
      "Ready.\n",
      "Extracting parameters from C:\\Users\\jerem\\Downloads\\segments_test\\132_Skateboard_P_CCW_Targets.set...\n",
      "Not setting metadata\n",
      "49 matching events found\n",
      "No baseline correction applied\n",
      "0 projection items activated\n",
      "Ready.\n",
      "Extracting parameters from C:\\Users\\jerem\\Downloads\\segments_test\\132_Skateboard_P_CW_Standards.set...\n",
      "Not setting metadata\n",
      "138 matching events found\n",
      "No baseline correction applied\n",
      "0 projection items activated\n",
      "Ready.\n",
      "Extracting parameters from C:\\Users\\jerem\\Downloads\\segments_test\\132_Skateboard_P_CW_Targets.set...\n",
      "Not setting metadata\n",
      "31 matching events found\n",
      "No baseline correction applied\n",
      "0 projection items activated\n",
      "Ready.\n",
      "Extracting parameters from C:\\Users\\jerem\\Downloads\\segments_test\\133_Skateboard_NP_CCW_Standards.set...\n",
      "Not setting metadata\n",
      "197 matching events found\n",
      "No baseline correction applied\n",
      "0 projection items activated\n",
      "Ready.\n",
      "Extracting parameters from C:\\Users\\jerem\\Downloads\\segments_test\\133_Skateboard_NP_CCW_Targets.set...\n",
      "Not setting metadata\n",
      "50 matching events found\n",
      "No baseline correction applied\n",
      "0 projection items activated\n",
      "Ready.\n",
      "Extracting parameters from C:\\Users\\jerem\\Downloads\\segments_test\\133_Skateboard_NP_CW_Standards.set...\n",
      "Not setting metadata\n",
      "195 matching events found\n",
      "No baseline correction applied\n",
      "0 projection items activated\n",
      "Ready.\n",
      "Extracting parameters from C:\\Users\\jerem\\Downloads\\segments_test\\133_Skateboard_NP_CW_Targets.set...\n",
      "Not setting metadata\n",
      "48 matching events found\n",
      "No baseline correction applied\n",
      "0 projection items activated\n",
      "Ready.\n",
      "Extracting parameters from C:\\Users\\jerem\\Downloads\\segments_test\\133_Skateboard_P_CCW_Standards.set...\n",
      "Not setting metadata\n",
      "173 matching events found\n",
      "No baseline correction applied\n",
      "0 projection items activated\n",
      "Ready.\n",
      "Extracting parameters from C:\\Users\\jerem\\Downloads\\segments_test\\133_Skateboard_P_CCW_Targets.set...\n",
      "Not setting metadata\n",
      "43 matching events found\n",
      "No baseline correction applied\n",
      "0 projection items activated\n",
      "Ready.\n",
      "Extracting parameters from C:\\Users\\jerem\\Downloads\\segments_test\\133_Skateboard_P_CW_Standards.set...\n",
      "Not setting metadata\n",
      "138 matching events found\n",
      "No baseline correction applied\n",
      "0 projection items activated\n",
      "Ready.\n",
      "Extracting parameters from C:\\Users\\jerem\\Downloads\\segments_test\\133_Skateboard_P_CW_Targets.set...\n",
      "Not setting metadata\n",
      "39 matching events found\n",
      "No baseline correction applied\n",
      "0 projection items activated\n",
      "Ready.\n",
      "Extracting parameters from C:\\Users\\jerem\\Downloads\\segments_test\\134_Skateboard_NP_CCW_Standards.set...\n",
      "Not setting metadata\n",
      "182 matching events found\n",
      "No baseline correction applied\n",
      "0 projection items activated\n",
      "Ready.\n",
      "Extracting parameters from C:\\Users\\jerem\\Downloads\\segments_test\\134_Skateboard_NP_CCW_Targets.set...\n",
      "Not setting metadata\n",
      "46 matching events found\n",
      "No baseline correction applied\n",
      "0 projection items activated\n",
      "Ready.\n",
      "Extracting parameters from C:\\Users\\jerem\\Downloads\\segments_test\\134_Skateboard_NP_CW_Standards.set...\n",
      "Not setting metadata\n",
      "171 matching events found\n",
      "No baseline correction applied\n",
      "0 projection items activated\n",
      "Ready.\n",
      "Extracting parameters from C:\\Users\\jerem\\Downloads\\segments_test\\134_Skateboard_NP_CW_Targets.set...\n",
      "Not setting metadata\n",
      "49 matching events found\n",
      "No baseline correction applied\n",
      "0 projection items activated\n",
      "Ready.\n",
      "Extracting parameters from C:\\Users\\jerem\\Downloads\\segments_test\\134_Skateboard_P_CCW_Standards.set...\n",
      "Not setting metadata\n",
      "185 matching events found\n",
      "No baseline correction applied\n",
      "0 projection items activated\n",
      "Ready.\n",
      "Extracting parameters from C:\\Users\\jerem\\Downloads\\segments_test\\134_Skateboard_P_CCW_Targets.set...\n",
      "Not setting metadata\n",
      "44 matching events found\n",
      "No baseline correction applied\n",
      "0 projection items activated\n",
      "Ready.\n",
      "Extracting parameters from C:\\Users\\jerem\\Downloads\\segments_test\\134_Skateboard_P_CW_Standards.set...\n",
      "Not setting metadata\n",
      "194 matching events found\n",
      "No baseline correction applied\n",
      "0 projection items activated\n",
      "Ready.\n",
      "Extracting parameters from C:\\Users\\jerem\\Downloads\\segments_test\\134_Skateboard_P_CW_Targets.set...\n",
      "Not setting metadata\n",
      "49 matching events found\n",
      "No baseline correction applied\n",
      "0 projection items activated\n",
      "Ready.\n",
      "Extracting parameters from C:\\Users\\jerem\\Downloads\\segments_test\\136_Skateboard_NP_CCW_Standards.set...\n",
      "Not setting metadata\n",
      "76 matching events found\n",
      "No baseline correction applied\n",
      "0 projection items activated\n",
      "Ready.\n",
      "Extracting parameters from C:\\Users\\jerem\\Downloads\\segments_test\\136_Skateboard_NP_CCW_Targets.set...\n",
      "Not setting metadata\n",
      "24 matching events found\n",
      "No baseline correction applied\n",
      "0 projection items activated\n",
      "Ready.\n",
      "Extracting parameters from C:\\Users\\jerem\\Downloads\\segments_test\\136_Skateboard_NP_CW_Standards.set...\n",
      "Not setting metadata\n",
      "99 matching events found\n",
      "No baseline correction applied\n",
      "0 projection items activated\n",
      "Ready.\n",
      "Extracting parameters from C:\\Users\\jerem\\Downloads\\segments_test\\136_Skateboard_NP_CW_Targets.set...\n",
      "Not setting metadata\n",
      "24 matching events found\n",
      "No baseline correction applied\n",
      "0 projection items activated\n",
      "Ready.\n",
      "Extracting parameters from C:\\Users\\jerem\\Downloads\\segments_test\\136_Skateboard_P_CCW_Standards.set...\n",
      "Not setting metadata\n",
      "161 matching events found\n",
      "No baseline correction applied\n",
      "0 projection items activated\n",
      "Ready.\n",
      "Extracting parameters from C:\\Users\\jerem\\Downloads\\segments_test\\136_Skateboard_P_CCW_Targets.set...\n",
      "Not setting metadata\n",
      "33 matching events found\n",
      "No baseline correction applied\n",
      "0 projection items activated\n",
      "Ready.\n",
      "Extracting parameters from C:\\Users\\jerem\\Downloads\\segments_test\\136_Skateboard_P_CW_Standards.set...\n",
      "Not setting metadata\n",
      "161 matching events found\n",
      "No baseline correction applied\n",
      "0 projection items activated\n",
      "Ready.\n",
      "Extracting parameters from C:\\Users\\jerem\\Downloads\\segments_test\\136_Skateboard_P_CW_Targets.set...\n",
      "Not setting metadata\n",
      "42 matching events found\n",
      "No baseline correction applied\n",
      "0 projection items activated\n",
      "Ready.\n",
      "Extracting parameters from C:\\Users\\jerem\\Downloads\\segments_test\\137_Skateboard_NP_CCW_Standards.set...\n",
      "Not setting metadata\n",
      "194 matching events found\n",
      "No baseline correction applied\n",
      "0 projection items activated\n",
      "Ready.\n",
      "Extracting parameters from C:\\Users\\jerem\\Downloads\\segments_test\\137_Skateboard_NP_CCW_Targets.set...\n",
      "Not setting metadata\n",
      "49 matching events found\n",
      "No baseline correction applied\n",
      "0 projection items activated\n",
      "Ready.\n",
      "Extracting parameters from C:\\Users\\jerem\\Downloads\\segments_test\\137_Skateboard_NP_CW_Standards.set...\n",
      "Not setting metadata\n",
      "194 matching events found\n",
      "No baseline correction applied\n",
      "0 projection items activated\n",
      "Ready.\n",
      "Extracting parameters from C:\\Users\\jerem\\Downloads\\segments_test\\137_Skateboard_NP_CW_Targets.set...\n",
      "Not setting metadata\n",
      "50 matching events found\n",
      "No baseline correction applied\n",
      "0 projection items activated\n",
      "Ready.\n",
      "Extracting parameters from C:\\Users\\jerem\\Downloads\\segments_test\\137_Skateboard_P_CCW_Standards.set...\n",
      "Not setting metadata\n",
      "176 matching events found\n",
      "No baseline correction applied\n",
      "0 projection items activated\n",
      "Ready.\n",
      "Extracting parameters from C:\\Users\\jerem\\Downloads\\segments_test\\137_Skateboard_P_CCW_Targets.set...\n",
      "Not setting metadata\n",
      "42 matching events found\n",
      "No baseline correction applied\n",
      "0 projection items activated\n",
      "Ready.\n",
      "Extracting parameters from C:\\Users\\jerem\\Downloads\\segments_test\\137_Skateboard_P_CW_Standards.set...\n",
      "Not setting metadata\n",
      "181 matching events found\n",
      "No baseline correction applied\n",
      "0 projection items activated\n",
      "Ready.\n",
      "Extracting parameters from C:\\Users\\jerem\\Downloads\\segments_test\\137_Skateboard_P_CW_Targets.set...\n",
      "Not setting metadata\n",
      "47 matching events found\n",
      "No baseline correction applied\n",
      "0 projection items activated\n",
      "Ready.\n"
     ]
    }
   ],
   "source": [
    "# preprocess training\n",
    "for i in range(232):\n",
    "    traindata = glob.glob(r'C:\\Users\\jerem\\Downloads\\segments_test\\*.set')\n",
    "    epochs = mne.io.read_epochs_eeglab(traindata[i])\n",
    "    traineeg = epochs.get_data()\n",
    "    #print(traineeg.shape)\n",
    "    split = traineeg.shape[0]//2\n",
    "    newtraineeg = np.array_split(traineeg,split)\n",
    "    for x in range(split):\n",
    "        if x == 0 and len(newtraineeg[x])%2 != 0:\n",
    "            newtraineeg[x]=np.delete(newtraineeg[x], 0, axis=0)\n",
    "        proeeg = newtraineeg[x][:,:,0:1200]\n",
    "        np.save('./train_set/i'+str(i)+'x'+str(x)+'_trainingset.npy',proeeg)\n",
    "        #print(proeeg.shape)"
   ]
  },
  {
   "cell_type": "code",
   "execution_count": 29,
   "metadata": {},
   "outputs": [
    {
     "name": "stdout",
     "output_type": "stream",
     "text": [
      "35\n"
     ]
    }
   ],
   "source": []
  },
  {
   "cell_type": "code",
   "execution_count": 28,
   "metadata": {
    "scrolled": true
   },
   "outputs": [
    {
     "name": "stdout",
     "output_type": "stream",
     "text": [
      "Extracting parameters from C:\\Users\\jerem\\Downloads\\segments\\100_Skateboard_NP_CCW_Corrected_Standard.set...\n",
      "Not setting metadata\n",
      "174 matching events found\n",
      "No baseline correction applied\n",
      "0 projection items activated\n",
      "Ready.\n",
      "(174, 18, 1200)\n",
      "(2, 18, 1200)\n",
      "Extracting parameters from C:\\Users\\jerem\\Downloads\\segments\\100_Skateboard_NP_CCW_Corrected_Target.set...\n",
      "Not setting metadata\n",
      "49 matching events found\n",
      "No baseline correction applied\n",
      "0 projection items activated\n",
      "Ready.\n",
      "(49, 18, 1200)\n",
      "(2, 18, 1200)\n",
      "Extracting parameters from C:\\Users\\jerem\\Downloads\\segments\\100_Skateboard_NP_CW_Corrected_Standard.set...\n",
      "Not setting metadata\n",
      "181 matching events found\n",
      "No baseline correction applied\n",
      "0 projection items activated\n",
      "Ready.\n",
      "(181, 18, 1200)\n",
      "(2, 18, 1200)\n",
      "Extracting parameters from C:\\Users\\jerem\\Downloads\\segments\\100_Skateboard_NP_CW_Corrected_Target.set...\n",
      "Not setting metadata\n",
      "46 matching events found\n",
      "No baseline correction applied\n",
      "0 projection items activated\n",
      "Ready.\n",
      "(46, 18, 1200)\n",
      "(2, 18, 1200)\n",
      "Extracting parameters from C:\\Users\\jerem\\Downloads\\segments\\100_Skateboard_P_CCW_Corrected_Standard.set...\n",
      "Not setting metadata\n",
      "163 matching events found\n",
      "No baseline correction applied\n",
      "0 projection items activated\n",
      "Ready.\n",
      "(163, 18, 1200)\n",
      "(2, 18, 1200)\n",
      "Extracting parameters from C:\\Users\\jerem\\Downloads\\segments\\100_Skateboard_P_CCW_Corrected_Target.set...\n",
      "Not setting metadata\n",
      "46 matching events found\n",
      "No baseline correction applied\n",
      "0 projection items activated\n",
      "Ready.\n",
      "(46, 18, 1200)\n",
      "(2, 18, 1200)\n",
      "Extracting parameters from C:\\Users\\jerem\\Downloads\\segments\\100_Skateboard_P_CW_Corrected_Standard.set...\n",
      "Not setting metadata\n",
      "183 matching events found\n",
      "No baseline correction applied\n",
      "0 projection items activated\n",
      "Ready.\n",
      "(183, 18, 1200)\n",
      "(2, 18, 1200)\n",
      "Extracting parameters from C:\\Users\\jerem\\Downloads\\segments\\100_Skateboard_P_CW_Corrected_Target.set...\n",
      "Not setting metadata\n",
      "44 matching events found\n",
      "No baseline correction applied\n",
      "0 projection items activated\n",
      "Ready.\n",
      "(44, 18, 1200)\n",
      "(2, 18, 1200)\n",
      "Extracting parameters from C:\\Users\\jerem\\Downloads\\segments\\101_Skateboard_NP_CCW_Corrected_Standard.set...\n",
      "Not setting metadata\n",
      "77 matching events found\n",
      "No baseline correction applied\n",
      "0 projection items activated\n",
      "Ready.\n",
      "(77, 18, 1200)\n",
      "(2, 18, 1200)\n",
      "Extracting parameters from C:\\Users\\jerem\\Downloads\\segments\\101_Skateboard_NP_CCW_Corrected_Target.set...\n",
      "Not setting metadata\n",
      "27 matching events found\n",
      "No baseline correction applied\n",
      "0 projection items activated\n",
      "Ready.\n",
      "(27, 18, 1200)\n",
      "(2, 18, 1200)\n",
      "Extracting parameters from C:\\Users\\jerem\\Downloads\\segments\\101_Skateboard_NP_CW_Corrected_Standard.set...\n",
      "Not setting metadata\n",
      "59 matching events found\n",
      "No baseline correction applied\n",
      "0 projection items activated\n",
      "Ready.\n",
      "(59, 18, 1200)\n",
      "(2, 18, 1200)\n",
      "Extracting parameters from C:\\Users\\jerem\\Downloads\\segments\\101_Skateboard_NP_CW_Corrected_Target.set...\n",
      "Not setting metadata\n",
      "18 matching events found\n",
      "No baseline correction applied\n",
      "0 projection items activated\n",
      "Ready.\n",
      "(18, 18, 1200)\n",
      "(2, 18, 1200)\n",
      "Extracting parameters from C:\\Users\\jerem\\Downloads\\segments\\101_Skateboard_P_CCW_Corrected_Standard.set...\n",
      "Not setting metadata\n",
      "43 matching events found\n",
      "No baseline correction applied\n",
      "0 projection items activated\n",
      "Ready.\n",
      "(43, 18, 1200)\n",
      "(2, 18, 1200)\n",
      "Extracting parameters from C:\\Users\\jerem\\Downloads\\segments\\101_Skateboard_P_CCW_Corrected_Target.set...\n",
      "Not setting metadata\n",
      "9 matching events found\n",
      "No baseline correction applied\n",
      "0 projection items activated\n",
      "Ready.\n",
      "(9, 18, 1200)\n",
      "(2, 18, 1200)\n",
      "Extracting parameters from C:\\Users\\jerem\\Downloads\\segments\\101_Skateboard_P_CW_Corrected_Standard.set...\n",
      "Not setting metadata\n",
      "51 matching events found\n",
      "No baseline correction applied\n",
      "0 projection items activated\n",
      "Ready.\n",
      "(51, 18, 1200)\n",
      "(2, 18, 1200)\n",
      "Extracting parameters from C:\\Users\\jerem\\Downloads\\segments\\101_Skateboard_P_CW_Corrected_Target.set...\n",
      "Not setting metadata\n",
      "15 matching events found\n",
      "No baseline correction applied\n",
      "0 projection items activated\n",
      "Ready.\n",
      "(15, 18, 1200)\n",
      "(2, 18, 1200)\n",
      "Extracting parameters from C:\\Users\\jerem\\Downloads\\segments\\102_Skateboard_NP_CCW_Corrected_Standard.set...\n",
      "Not setting metadata\n",
      "176 matching events found\n",
      "No baseline correction applied\n",
      "0 projection items activated\n",
      "Ready.\n",
      "(176, 18, 1200)\n",
      "(2, 18, 1200)\n",
      "Extracting parameters from C:\\Users\\jerem\\Downloads\\segments\\102_Skateboard_NP_CCW_Corrected_Target.set...\n",
      "Not setting metadata\n",
      "48 matching events found\n",
      "No baseline correction applied\n",
      "0 projection items activated\n",
      "Ready.\n",
      "(48, 18, 1200)\n",
      "(2, 18, 1200)\n",
      "Extracting parameters from C:\\Users\\jerem\\Downloads\\segments\\102_Skateboard_NP_CW_Corrected_Standard.set...\n",
      "Not setting metadata\n",
      "171 matching events found\n",
      "No baseline correction applied\n",
      "0 projection items activated\n",
      "Ready.\n",
      "(171, 18, 1200)\n",
      "(2, 18, 1200)\n",
      "Extracting parameters from C:\\Users\\jerem\\Downloads\\segments\\102_Skateboard_NP_CW_Corrected_Target.set...\n",
      "Not setting metadata\n",
      "45 matching events found\n",
      "No baseline correction applied\n",
      "0 projection items activated\n",
      "Ready.\n",
      "(45, 18, 1200)\n",
      "(2, 18, 1200)\n",
      "Extracting parameters from C:\\Users\\jerem\\Downloads\\segments\\102_Skateboard_P_CCW_Corrected_Standard.set...\n",
      "Not setting metadata\n",
      "188 matching events found\n",
      "No baseline correction applied\n",
      "0 projection items activated\n",
      "Ready.\n",
      "(188, 18, 1200)\n",
      "(2, 18, 1200)\n",
      "Extracting parameters from C:\\Users\\jerem\\Downloads\\segments\\102_Skateboard_P_CCW_Corrected_Target.set...\n",
      "Not setting metadata\n",
      "47 matching events found\n",
      "No baseline correction applied\n",
      "0 projection items activated\n",
      "Ready.\n",
      "(47, 18, 1200)\n",
      "(2, 18, 1200)\n",
      "Extracting parameters from C:\\Users\\jerem\\Downloads\\segments\\102_Skateboard_P_CW_Corrected_Standard.set...\n",
      "Not setting metadata\n",
      "186 matching events found\n",
      "No baseline correction applied\n",
      "0 projection items activated\n",
      "Ready.\n",
      "(186, 18, 1200)\n",
      "(2, 18, 1200)\n",
      "Extracting parameters from C:\\Users\\jerem\\Downloads\\segments\\102_Skateboard_P_CW_Corrected_Target.set...\n",
      "Not setting metadata\n",
      "39 matching events found\n",
      "No baseline correction applied\n",
      "0 projection items activated\n",
      "Ready.\n",
      "(39, 18, 1200)\n",
      "(2, 18, 1200)\n",
      "Extracting parameters from C:\\Users\\jerem\\Downloads\\segments\\103_Skateboard_NP_CCW_Corrected_Standard.set...\n",
      "Not setting metadata\n",
      "198 matching events found\n",
      "No baseline correction applied\n",
      "0 projection items activated\n",
      "Ready.\n",
      "(198, 18, 1200)\n",
      "(2, 18, 1200)\n",
      "Extracting parameters from C:\\Users\\jerem\\Downloads\\segments\\103_Skateboard_NP_CCW_Corrected_Target.set...\n",
      "Not setting metadata\n",
      "50 matching events found\n",
      "No baseline correction applied\n",
      "0 projection items activated\n",
      "Ready.\n",
      "(50, 18, 1200)\n",
      "(2, 18, 1200)\n",
      "Extracting parameters from C:\\Users\\jerem\\Downloads\\segments\\103_Skateboard_NP_CW_Corrected_Standard.set...\n",
      "Not setting metadata\n",
      "197 matching events found\n",
      "No baseline correction applied\n",
      "0 projection items activated\n",
      "Ready.\n",
      "(197, 18, 1200)\n",
      "(2, 18, 1200)\n",
      "Extracting parameters from C:\\Users\\jerem\\Downloads\\segments\\103_Skateboard_NP_CW_Corrected_Target.set...\n",
      "Not setting metadata\n",
      "48 matching events found\n",
      "No baseline correction applied\n",
      "0 projection items activated\n",
      "Ready.\n",
      "(48, 18, 1200)\n",
      "(2, 18, 1200)\n",
      "Extracting parameters from C:\\Users\\jerem\\Downloads\\segments\\103_Skateboard_P_CCW_Corrected_Standard.set...\n",
      "Not setting metadata\n",
      "195 matching events found\n",
      "No baseline correction applied\n",
      "0 projection items activated\n",
      "Ready.\n",
      "(195, 18, 1200)\n",
      "(2, 18, 1200)\n",
      "Extracting parameters from C:\\Users\\jerem\\Downloads\\segments\\103_Skateboard_P_CCW_Corrected_Target.set...\n",
      "Not setting metadata\n",
      "50 matching events found\n",
      "No baseline correction applied\n",
      "0 projection items activated\n",
      "Ready.\n",
      "(50, 18, 1200)\n",
      "(2, 18, 1200)\n",
      "Extracting parameters from C:\\Users\\jerem\\Downloads\\segments\\103_Skateboard_P_CW_Corrected_Standard.set...\n",
      "Not setting metadata\n",
      "178 matching events found\n",
      "No baseline correction applied\n",
      "0 projection items activated\n",
      "Ready.\n",
      "(178, 18, 1200)\n",
      "(2, 18, 1200)\n",
      "Extracting parameters from C:\\Users\\jerem\\Downloads\\segments\\103_Skateboard_P_CW_Corrected_Target.set...\n",
      "Not setting metadata\n",
      "45 matching events found\n",
      "No baseline correction applied\n",
      "0 projection items activated\n",
      "Ready.\n",
      "(45, 18, 1200)\n",
      "(2, 18, 1200)\n",
      "Extracting parameters from C:\\Users\\jerem\\Downloads\\segments\\104_Skateboard_NP_CCW_Corrected_Standard.set...\n",
      "Not setting metadata\n",
      "128 matching events found\n",
      "No baseline correction applied\n",
      "0 projection items activated\n",
      "Ready.\n",
      "(128, 18, 1200)\n",
      "(2, 18, 1200)\n",
      "Extracting parameters from C:\\Users\\jerem\\Downloads\\segments\\104_Skateboard_NP_CCW_Corrected_Target.set...\n",
      "Not setting metadata\n",
      "32 matching events found\n",
      "No baseline correction applied\n",
      "0 projection items activated\n",
      "Ready.\n",
      "(32, 18, 1200)\n",
      "(2, 18, 1200)\n",
      "Extracting parameters from C:\\Users\\jerem\\Downloads\\segments\\104_Skateboard_NP_CW_Corrected_Standard.set...\n",
      "Not setting metadata\n",
      "197 matching events found\n",
      "No baseline correction applied\n",
      "0 projection items activated\n",
      "Ready.\n",
      "(197, 18, 1200)\n",
      "(2, 18, 1200)\n",
      "Extracting parameters from C:\\Users\\jerem\\Downloads\\segments\\104_Skateboard_NP_CW_Corrected_Target.set...\n",
      "Not setting metadata\n",
      "49 matching events found\n",
      "No baseline correction applied\n",
      "0 projection items activated\n",
      "Ready.\n",
      "(49, 18, 1200)\n",
      "(2, 18, 1200)\n",
      "Extracting parameters from C:\\Users\\jerem\\Downloads\\segments\\104_Skateboard_P_CCW_Corrected_Standard.set...\n",
      "Not setting metadata\n",
      "192 matching events found\n",
      "No baseline correction applied\n",
      "0 projection items activated\n",
      "Ready.\n",
      "(192, 18, 1200)\n",
      "(2, 18, 1200)\n",
      "Extracting parameters from C:\\Users\\jerem\\Downloads\\segments\\104_Skateboard_P_CCW_Corrected_Target.set...\n",
      "Not setting metadata\n",
      "45 matching events found\n",
      "No baseline correction applied\n",
      "0 projection items activated\n",
      "Ready.\n",
      "(45, 18, 1200)\n",
      "(2, 18, 1200)\n",
      "Extracting parameters from C:\\Users\\jerem\\Downloads\\segments\\104_Skateboard_P_CW_Corrected_Standard.set...\n",
      "Not setting metadata\n",
      "160 matching events found\n",
      "No baseline correction applied\n",
      "0 projection items activated\n",
      "Ready.\n",
      "(160, 18, 1200)\n",
      "(2, 18, 1200)\n",
      "Extracting parameters from C:\\Users\\jerem\\Downloads\\segments\\104_Skateboard_P_CW_Corrected_Target.set...\n",
      "Not setting metadata\n",
      "40 matching events found\n",
      "No baseline correction applied\n",
      "0 projection items activated\n",
      "Ready.\n",
      "(40, 18, 1200)\n",
      "(2, 18, 1200)\n",
      "Extracting parameters from C:\\Users\\jerem\\Downloads\\segments\\106_Skateboard_NP_CCW_Corrected_Standard.set...\n",
      "Not setting metadata\n",
      "108 matching events found\n",
      "No baseline correction applied\n",
      "0 projection items activated\n",
      "Ready.\n",
      "(108, 18, 1200)\n",
      "(2, 18, 1200)\n",
      "Extracting parameters from C:\\Users\\jerem\\Downloads\\segments\\106_Skateboard_NP_CCW_Corrected_Target.set...\n",
      "Not setting metadata\n",
      "28 matching events found\n",
      "No baseline correction applied\n",
      "0 projection items activated\n",
      "Ready.\n",
      "(28, 18, 1200)\n",
      "(2, 18, 1200)\n",
      "Extracting parameters from C:\\Users\\jerem\\Downloads\\segments\\106_Skateboard_NP_CW_Corrected_Standard.set...\n",
      "Not setting metadata\n",
      "89 matching events found\n",
      "No baseline correction applied\n",
      "0 projection items activated\n",
      "Ready.\n",
      "(89, 18, 1200)\n",
      "(2, 18, 1200)\n",
      "Extracting parameters from C:\\Users\\jerem\\Downloads\\segments\\106_Skateboard_NP_CW_Corrected_Target.set...\n",
      "Not setting metadata\n",
      "21 matching events found\n",
      "No baseline correction applied\n",
      "0 projection items activated\n",
      "Ready.\n",
      "(21, 18, 1200)\n",
      "(2, 18, 1200)\n",
      "Extracting parameters from C:\\Users\\jerem\\Downloads\\segments\\106_Skateboard_P_CCW_Corrected_Standard.set...\n",
      "Not setting metadata\n",
      "93 matching events found\n",
      "No baseline correction applied\n",
      "0 projection items activated\n",
      "Ready.\n",
      "(93, 18, 1200)\n",
      "(2, 18, 1200)\n",
      "Extracting parameters from C:\\Users\\jerem\\Downloads\\segments\\106_Skateboard_P_CCW_Corrected_Target.set...\n",
      "Not setting metadata\n",
      "17 matching events found\n",
      "No baseline correction applied\n",
      "0 projection items activated\n",
      "Ready.\n",
      "(17, 18, 1200)\n",
      "(2, 18, 1200)\n",
      "Extracting parameters from C:\\Users\\jerem\\Downloads\\segments\\106_Skateboard_P_CW_Corrected_Standard.set...\n",
      "Not setting metadata\n",
      "146 matching events found\n",
      "No baseline correction applied\n",
      "0 projection items activated\n",
      "Ready.\n",
      "(146, 18, 1200)\n",
      "(2, 18, 1200)\n",
      "Extracting parameters from C:\\Users\\jerem\\Downloads\\segments\\106_Skateboard_P_CW_Corrected_Target.set...\n",
      "Not setting metadata\n",
      "32 matching events found\n",
      "No baseline correction applied\n",
      "0 projection items activated\n",
      "Ready.\n",
      "(32, 18, 1200)\n",
      "(2, 18, 1200)\n",
      "Extracting parameters from C:\\Users\\jerem\\Downloads\\segments\\107_Skateboard_NP_CCW_Corrected_Standard.set...\n",
      "Not setting metadata\n",
      "167 matching events found\n",
      "No baseline correction applied\n",
      "0 projection items activated\n",
      "Ready.\n",
      "(167, 18, 1200)\n",
      "(2, 18, 1200)\n",
      "Extracting parameters from C:\\Users\\jerem\\Downloads\\segments\\107_Skateboard_NP_CCW_Corrected_Target.set...\n",
      "Not setting metadata\n",
      "46 matching events found\n",
      "No baseline correction applied\n",
      "0 projection items activated\n",
      "Ready.\n",
      "(46, 18, 1200)\n",
      "(2, 18, 1200)\n",
      "Extracting parameters from C:\\Users\\jerem\\Downloads\\segments\\107_Skateboard_NP_CW_Corrected_Standard.set...\n",
      "Not setting metadata\n",
      "122 matching events found\n",
      "No baseline correction applied\n",
      "0 projection items activated\n",
      "Ready.\n",
      "(122, 18, 1200)\n",
      "(2, 18, 1200)\n",
      "Extracting parameters from C:\\Users\\jerem\\Downloads\\segments\\107_Skateboard_NP_CW_Corrected_Target.set...\n",
      "Not setting metadata\n",
      "28 matching events found\n",
      "No baseline correction applied\n",
      "0 projection items activated\n",
      "Ready.\n",
      "(28, 18, 1200)\n",
      "(2, 18, 1200)\n",
      "Extracting parameters from C:\\Users\\jerem\\Downloads\\segments\\107_Skateboard_P_CCW_Corrected_Standard.set...\n",
      "Not setting metadata\n",
      "167 matching events found\n",
      "No baseline correction applied\n",
      "0 projection items activated\n",
      "Ready.\n",
      "(167, 18, 1200)\n",
      "(2, 18, 1200)\n",
      "Extracting parameters from C:\\Users\\jerem\\Downloads\\segments\\107_Skateboard_P_CCW_Corrected_Target.set...\n",
      "Not setting metadata\n",
      "46 matching events found\n",
      "No baseline correction applied\n",
      "0 projection items activated\n",
      "Ready.\n",
      "(46, 18, 1200)\n",
      "(2, 18, 1200)\n",
      "Extracting parameters from C:\\Users\\jerem\\Downloads\\segments\\107_Skateboard_P_CW_Corrected_Standard.set...\n",
      "Not setting metadata\n",
      "162 matching events found\n",
      "No baseline correction applied\n",
      "0 projection items activated\n",
      "Ready.\n",
      "(162, 18, 1200)\n",
      "(2, 18, 1200)\n",
      "Extracting parameters from C:\\Users\\jerem\\Downloads\\segments\\107_Skateboard_P_CW_Corrected_Target.set...\n",
      "Not setting metadata\n",
      "39 matching events found\n",
      "No baseline correction applied\n",
      "0 projection items activated\n",
      "Ready.\n",
      "(39, 18, 1200)\n",
      "(2, 18, 1200)\n",
      "Extracting parameters from C:\\Users\\jerem\\Downloads\\segments\\108_Skateboard_NP_CCW_Corrected_Standard.set...\n",
      "Not setting metadata\n",
      "191 matching events found\n",
      "No baseline correction applied\n",
      "0 projection items activated\n",
      "Ready.\n",
      "(191, 18, 1200)\n",
      "(2, 18, 1200)\n",
      "Extracting parameters from C:\\Users\\jerem\\Downloads\\segments\\108_Skateboard_NP_CCW_Corrected_Target.set...\n",
      "Not setting metadata\n",
      "48 matching events found\n",
      "No baseline correction applied\n",
      "0 projection items activated\n",
      "Ready.\n",
      "(48, 18, 1200)\n",
      "(2, 18, 1200)\n",
      "Extracting parameters from C:\\Users\\jerem\\Downloads\\segments\\108_Skateboard_NP_CW_Corrected_Standard.set...\n",
      "Not setting metadata\n",
      "168 matching events found\n",
      "No baseline correction applied\n",
      "0 projection items activated\n",
      "Ready.\n",
      "(168, 18, 1200)\n",
      "(2, 18, 1200)\n",
      "Extracting parameters from C:\\Users\\jerem\\Downloads\\segments\\108_Skateboard_NP_CW_Corrected_Target.set...\n",
      "Not setting metadata\n",
      "39 matching events found\n",
      "No baseline correction applied\n",
      "0 projection items activated\n",
      "Ready.\n",
      "(39, 18, 1200)\n",
      "(2, 18, 1200)\n",
      "Extracting parameters from C:\\Users\\jerem\\Downloads\\segments\\108_Skateboard_P_CCW_Corrected_Standard.set...\n",
      "Not setting metadata\n",
      "126 matching events found\n",
      "No baseline correction applied\n",
      "0 projection items activated\n",
      "Ready.\n",
      "(126, 18, 1200)\n",
      "(2, 18, 1200)\n",
      "Extracting parameters from C:\\Users\\jerem\\Downloads\\segments\\108_Skateboard_P_CCW_Corrected_Target.set...\n",
      "Not setting metadata\n",
      "22 matching events found\n",
      "No baseline correction applied\n",
      "0 projection items activated\n",
      "Ready.\n",
      "(22, 18, 1200)\n",
      "(2, 18, 1200)\n",
      "Extracting parameters from C:\\Users\\jerem\\Downloads\\segments\\108_Skateboard_P_CW_Corrected_Standard.set...\n",
      "Not setting metadata\n",
      "200 matching events found\n",
      "No baseline correction applied\n",
      "0 projection items activated\n",
      "Ready.\n",
      "(200, 18, 1200)\n",
      "(2, 18, 1200)\n",
      "Extracting parameters from C:\\Users\\jerem\\Downloads\\segments\\108_Skateboard_P_CW_Corrected_Target.set...\n",
      "Not setting metadata\n",
      "49 matching events found\n",
      "No baseline correction applied\n",
      "0 projection items activated\n",
      "Ready.\n",
      "(49, 18, 1200)\n",
      "(2, 18, 1200)\n",
      "Extracting parameters from C:\\Users\\jerem\\Downloads\\segments\\109_Skateboard_NP_CCW_Corrected_Standard.set...\n",
      "Not setting metadata\n",
      "133 matching events found\n",
      "No baseline correction applied\n",
      "0 projection items activated\n",
      "Ready.\n",
      "(133, 18, 1200)\n",
      "(2, 18, 1200)\n",
      "Extracting parameters from C:\\Users\\jerem\\Downloads\\segments\\109_Skateboard_NP_CCW_Corrected_Target.set...\n",
      "Not setting metadata\n",
      "29 matching events found\n",
      "No baseline correction applied\n",
      "0 projection items activated\n",
      "Ready.\n",
      "(29, 18, 1200)\n",
      "(2, 18, 1200)\n",
      "Extracting parameters from C:\\Users\\jerem\\Downloads\\segments\\109_Skateboard_NP_CW_Corrected_Standard.set...\n",
      "Not setting metadata\n",
      "133 matching events found\n",
      "No baseline correction applied\n",
      "0 projection items activated\n",
      "Ready.\n",
      "(133, 18, 1200)\n",
      "(2, 18, 1200)\n",
      "Extracting parameters from C:\\Users\\jerem\\Downloads\\segments\\109_Skateboard_NP_CW_Corrected_Target.set...\n",
      "Not setting metadata\n",
      "29 matching events found\n",
      "No baseline correction applied\n",
      "0 projection items activated\n",
      "Ready.\n",
      "(29, 18, 1200)\n",
      "(2, 18, 1200)\n",
      "Extracting parameters from C:\\Users\\jerem\\Downloads\\segments\\109_Skateboard_P_CCW_Corrected_Standard.set...\n",
      "Not setting metadata\n",
      "182 matching events found\n",
      "No baseline correction applied\n",
      "0 projection items activated\n",
      "Ready.\n",
      "(182, 18, 1200)\n",
      "(2, 18, 1200)\n",
      "Extracting parameters from C:\\Users\\jerem\\Downloads\\segments\\109_Skateboard_P_CCW_Corrected_Target.set...\n",
      "Not setting metadata\n",
      "43 matching events found\n",
      "No baseline correction applied\n",
      "0 projection items activated\n",
      "Ready.\n",
      "(43, 18, 1200)\n",
      "(2, 18, 1200)\n",
      "Extracting parameters from C:\\Users\\jerem\\Downloads\\segments\\109_Skateboard_P_CW_Corrected_Standard.set...\n",
      "Not setting metadata\n",
      "130 matching events found\n",
      "No baseline correction applied\n",
      "0 projection items activated\n",
      "Ready.\n",
      "(130, 18, 1200)\n",
      "(2, 18, 1200)\n",
      "Extracting parameters from C:\\Users\\jerem\\Downloads\\segments\\109_Skateboard_P_CW_Corrected_Target.set...\n",
      "Not setting metadata\n",
      "31 matching events found\n",
      "No baseline correction applied\n",
      "0 projection items activated\n",
      "Ready.\n",
      "(31, 18, 1200)\n",
      "(2, 18, 1200)\n",
      "Extracting parameters from C:\\Users\\jerem\\Downloads\\segments\\110_Skateboard_NP_CCW_Corrected_Standard.set...\n",
      "Not setting metadata\n",
      "30 matching events found\n",
      "No baseline correction applied\n",
      "0 projection items activated\n",
      "Ready.\n",
      "(30, 18, 1200)\n",
      "(2, 18, 1200)\n",
      "Extracting parameters from C:\\Users\\jerem\\Downloads\\segments\\110_Skateboard_NP_CCW_Corrected_Target.set...\n",
      "Not setting metadata\n",
      "9 matching events found\n",
      "No baseline correction applied\n",
      "0 projection items activated\n",
      "Ready.\n",
      "(9, 18, 1200)\n",
      "(2, 18, 1200)\n",
      "Extracting parameters from C:\\Users\\jerem\\Downloads\\segments\\110_Skateboard_NP_CW_Corrected_Standard.set...\n",
      "Not setting metadata\n",
      "13 matching events found\n",
      "No baseline correction applied\n",
      "0 projection items activated\n",
      "Ready.\n",
      "(13, 18, 1200)\n",
      "(2, 18, 1200)\n",
      "Extracting parameters from C:\\Users\\jerem\\Downloads\\segments\\110_Skateboard_NP_CW_Corrected_Target.set...\n",
      "Not setting metadata\n",
      "6 matching events found\n",
      "No baseline correction applied\n",
      "0 projection items activated\n",
      "Ready.\n",
      "(6, 18, 1200)\n",
      "(2, 18, 1200)\n",
      "Extracting parameters from C:\\Users\\jerem\\Downloads\\segments\\110_Skateboard_P_CCW_Corrected_Standard.set...\n",
      "Not setting metadata\n",
      "16 matching events found\n",
      "No baseline correction applied\n",
      "0 projection items activated\n",
      "Ready.\n",
      "(16, 18, 1200)\n",
      "(2, 18, 1200)\n",
      "Extracting parameters from C:\\Users\\jerem\\Downloads\\segments\\110_Skateboard_P_CCW_Corrected_Target.set...\n",
      "Not setting metadata\n",
      "6 matching events found\n",
      "No baseline correction applied\n",
      "0 projection items activated\n",
      "Ready.\n",
      "(6, 18, 1200)\n",
      "(2, 18, 1200)\n",
      "Extracting parameters from C:\\Users\\jerem\\Downloads\\segments\\110_Skateboard_P_CW_Corrected_Standard.set...\n",
      "Not setting metadata\n",
      "61 matching events found\n",
      "No baseline correction applied\n",
      "0 projection items activated\n",
      "Ready.\n",
      "(61, 18, 1200)\n",
      "(2, 18, 1200)\n",
      "Extracting parameters from C:\\Users\\jerem\\Downloads\\segments\\110_Skateboard_P_CW_Corrected_Target.set...\n",
      "Not setting metadata\n",
      "19 matching events found\n",
      "No baseline correction applied\n",
      "0 projection items activated\n",
      "Ready.\n",
      "(19, 18, 1200)\n",
      "(2, 18, 1200)\n",
      "Extracting parameters from C:\\Users\\jerem\\Downloads\\segments\\111_Skateboard_NP_CCW_Corrected_Standard.set...\n",
      "Not setting metadata\n",
      "181 matching events found\n",
      "No baseline correction applied\n",
      "0 projection items activated\n",
      "Ready.\n",
      "(181, 18, 1200)\n",
      "(2, 18, 1200)\n",
      "Extracting parameters from C:\\Users\\jerem\\Downloads\\segments\\111_Skateboard_NP_CCW_Corrected_Target.set...\n",
      "Not setting metadata\n",
      "48 matching events found\n",
      "No baseline correction applied\n",
      "0 projection items activated\n",
      "Ready.\n",
      "(48, 18, 1200)\n",
      "(2, 18, 1200)\n",
      "Extracting parameters from C:\\Users\\jerem\\Downloads\\segments\\111_Skateboard_NP_CW_Corrected_Standard.set...\n",
      "Not setting metadata\n",
      "197 matching events found\n",
      "No baseline correction applied\n",
      "0 projection items activated\n",
      "Ready.\n",
      "(197, 18, 1200)\n",
      "(2, 18, 1200)\n",
      "Extracting parameters from C:\\Users\\jerem\\Downloads\\segments\\111_Skateboard_NP_CW_Corrected_Target.set...\n",
      "Not setting metadata\n",
      "50 matching events found\n",
      "No baseline correction applied\n",
      "0 projection items activated\n",
      "Ready.\n",
      "(50, 18, 1200)\n",
      "(2, 18, 1200)\n",
      "Extracting parameters from C:\\Users\\jerem\\Downloads\\segments\\111_Skateboard_P_CCW_Corrected_Standard.set...\n",
      "Not setting metadata\n",
      "143 matching events found\n",
      "No baseline correction applied\n",
      "0 projection items activated\n",
      "Ready.\n",
      "(143, 18, 1200)\n",
      "(2, 18, 1200)\n",
      "Extracting parameters from C:\\Users\\jerem\\Downloads\\segments\\111_Skateboard_P_CCW_Corrected_Target.set...\n",
      "Not setting metadata\n",
      "38 matching events found\n",
      "No baseline correction applied\n",
      "0 projection items activated\n",
      "Ready.\n",
      "(38, 18, 1200)\n",
      "(2, 18, 1200)\n",
      "Extracting parameters from C:\\Users\\jerem\\Downloads\\segments\\111_Skateboard_P_CW_Corrected_Standard.set...\n",
      "Not setting metadata\n",
      "196 matching events found\n",
      "No baseline correction applied\n",
      "0 projection items activated\n",
      "Ready.\n",
      "(196, 18, 1200)\n",
      "(2, 18, 1200)\n",
      "Extracting parameters from C:\\Users\\jerem\\Downloads\\segments\\111_Skateboard_P_CW_Corrected_Target.set...\n",
      "Not setting metadata\n",
      "50 matching events found\n",
      "No baseline correction applied\n",
      "0 projection items activated\n",
      "Ready.\n",
      "(50, 18, 1200)\n",
      "(2, 18, 1200)\n",
      "Extracting parameters from C:\\Users\\jerem\\Downloads\\segments\\112_Skateboard_NP_CCW_Corrected_Standard.set...\n",
      "Not setting metadata\n",
      "118 matching events found\n",
      "No baseline correction applied\n",
      "0 projection items activated\n",
      "Ready.\n",
      "(118, 18, 1200)\n",
      "(2, 18, 1200)\n",
      "Extracting parameters from C:\\Users\\jerem\\Downloads\\segments\\112_Skateboard_NP_CCW_Corrected_Target.set...\n",
      "Not setting metadata\n",
      "29 matching events found\n",
      "No baseline correction applied\n",
      "0 projection items activated\n",
      "Ready.\n",
      "(29, 18, 1200)\n",
      "(2, 18, 1200)\n",
      "Extracting parameters from C:\\Users\\jerem\\Downloads\\segments\\112_Skateboard_NP_CW_Corrected_Standard.set...\n",
      "Not setting metadata\n",
      "160 matching events found\n",
      "No baseline correction applied\n",
      "0 projection items activated\n",
      "Ready.\n",
      "(160, 18, 1200)\n",
      "(2, 18, 1200)\n",
      "Extracting parameters from C:\\Users\\jerem\\Downloads\\segments\\112_Skateboard_NP_CW_Corrected_Target.set...\n",
      "Not setting metadata\n",
      "34 matching events found\n",
      "No baseline correction applied\n",
      "0 projection items activated\n",
      "Ready.\n",
      "(34, 18, 1200)\n",
      "(2, 18, 1200)\n",
      "Extracting parameters from C:\\Users\\jerem\\Downloads\\segments\\112_Skateboard_P_CCW_Corrected_Standard.set...\n",
      "Not setting metadata\n",
      "104 matching events found\n",
      "No baseline correction applied\n",
      "0 projection items activated\n",
      "Ready.\n",
      "(104, 18, 1200)\n",
      "(2, 18, 1200)\n",
      "Extracting parameters from C:\\Users\\jerem\\Downloads\\segments\\112_Skateboard_P_CCW_Corrected_Target.set...\n",
      "Not setting metadata\n",
      "28 matching events found\n",
      "No baseline correction applied\n",
      "0 projection items activated\n",
      "Ready.\n",
      "(28, 18, 1200)\n",
      "(2, 18, 1200)\n",
      "Extracting parameters from C:\\Users\\jerem\\Downloads\\segments\\112_Skateboard_P_CW_Corrected_Standard.set...\n",
      "Not setting metadata\n",
      "120 matching events found\n",
      "No baseline correction applied\n",
      "0 projection items activated\n",
      "Ready.\n",
      "(120, 18, 1200)\n",
      "(2, 18, 1200)\n",
      "Extracting parameters from C:\\Users\\jerem\\Downloads\\segments\\112_Skateboard_P_CW_Corrected_Target.set...\n",
      "Not setting metadata\n",
      "19 matching events found\n",
      "No baseline correction applied\n",
      "0 projection items activated\n",
      "Ready.\n",
      "(19, 18, 1200)\n",
      "(2, 18, 1200)\n",
      "Extracting parameters from C:\\Users\\jerem\\Downloads\\segments\\113_Skateboard_NP_CCW_Corrected_Standard.set...\n",
      "Not setting metadata\n",
      "163 matching events found\n",
      "No baseline correction applied\n",
      "0 projection items activated\n",
      "Ready.\n",
      "(163, 18, 1200)\n",
      "(2, 18, 1200)\n",
      "Extracting parameters from C:\\Users\\jerem\\Downloads\\segments\\113_Skateboard_NP_CCW_Corrected_Target.set...\n",
      "Not setting metadata\n",
      "38 matching events found\n",
      "No baseline correction applied\n",
      "0 projection items activated\n",
      "Ready.\n",
      "(38, 18, 1200)\n",
      "(2, 18, 1200)\n",
      "Extracting parameters from C:\\Users\\jerem\\Downloads\\segments\\113_Skateboard_NP_CW_Corrected_Standard.set...\n",
      "Not setting metadata\n",
      "136 matching events found\n",
      "No baseline correction applied\n",
      "0 projection items activated\n",
      "Ready.\n",
      "(136, 18, 1200)\n",
      "(2, 18, 1200)\n",
      "Extracting parameters from C:\\Users\\jerem\\Downloads\\segments\\113_Skateboard_NP_CW_Corrected_Target.set...\n",
      "Not setting metadata\n",
      "36 matching events found\n",
      "No baseline correction applied\n",
      "0 projection items activated\n",
      "Ready.\n",
      "(36, 18, 1200)\n",
      "(2, 18, 1200)\n",
      "Extracting parameters from C:\\Users\\jerem\\Downloads\\segments\\113_Skateboard_P_CCW_Corrected_Standard.set...\n",
      "Not setting metadata\n",
      "138 matching events found\n",
      "No baseline correction applied\n",
      "0 projection items activated\n",
      "Ready.\n",
      "(138, 18, 1200)\n",
      "(2, 18, 1200)\n",
      "Extracting parameters from C:\\Users\\jerem\\Downloads\\segments\\113_Skateboard_P_CCW_Corrected_Target.set...\n",
      "Not setting metadata\n",
      "30 matching events found\n",
      "No baseline correction applied\n",
      "0 projection items activated\n",
      "Ready.\n",
      "(30, 18, 1200)\n",
      "(2, 18, 1200)\n",
      "Extracting parameters from C:\\Users\\jerem\\Downloads\\segments\\113_Skateboard_P_CW_Corrected_Standard.set...\n",
      "Not setting metadata\n",
      "104 matching events found\n",
      "No baseline correction applied\n",
      "0 projection items activated\n",
      "Ready.\n",
      "(104, 18, 1200)\n",
      "(2, 18, 1200)\n",
      "Extracting parameters from C:\\Users\\jerem\\Downloads\\segments\\113_Skateboard_P_CW_Corrected_Target.set...\n",
      "Not setting metadata\n",
      "25 matching events found\n",
      "No baseline correction applied\n",
      "0 projection items activated\n",
      "Ready.\n",
      "(25, 18, 1200)\n",
      "(2, 18, 1200)\n",
      "Extracting parameters from C:\\Users\\jerem\\Downloads\\segments\\114_Skateboard_NP_CCW_Corrected_Standard.set...\n",
      "Not setting metadata\n",
      "30 matching events found\n",
      "No baseline correction applied\n",
      "0 projection items activated\n",
      "Ready.\n",
      "(30, 18, 1200)\n",
      "(2, 18, 1200)\n",
      "Extracting parameters from C:\\Users\\jerem\\Downloads\\segments\\114_Skateboard_NP_CCW_Corrected_Target.set...\n",
      "Not setting metadata\n",
      "3 matching events found\n",
      "No baseline correction applied\n",
      "0 projection items activated\n",
      "Ready.\n",
      "(3, 18, 1200)\n",
      "(2, 18, 1200)\n",
      "Extracting parameters from C:\\Users\\jerem\\Downloads\\segments\\114_Skateboard_NP_CW_Corrected_Standard.set...\n",
      "Not setting metadata\n",
      "29 matching events found\n",
      "No baseline correction applied\n",
      "0 projection items activated\n",
      "Ready.\n",
      "(29, 18, 1200)\n",
      "(2, 18, 1200)\n",
      "Extracting parameters from C:\\Users\\jerem\\Downloads\\segments\\114_Skateboard_NP_CW_Corrected_Target.set...\n",
      "Not setting metadata\n",
      "4 matching events found\n",
      "No baseline correction applied\n",
      "0 projection items activated\n",
      "Ready.\n",
      "(4, 18, 1200)\n",
      "(2, 18, 1200)\n",
      "Extracting parameters from C:\\Users\\jerem\\Downloads\\segments\\114_Skateboard_P_CCW_Corrected_Standard.set...\n",
      "Not setting metadata\n",
      "12 matching events found\n",
      "No baseline correction applied\n",
      "0 projection items activated\n",
      "Ready.\n",
      "(12, 18, 1200)\n",
      "(2, 18, 1200)\n",
      "Extracting parameters from C:\\Users\\jerem\\Downloads\\segments\\114_Skateboard_P_CCW_Corrected_Target.set...\n",
      "Not setting metadata\n",
      "3 matching events found\n",
      "No baseline correction applied\n",
      "0 projection items activated\n",
      "Ready.\n",
      "(3, 18, 1200)\n",
      "(2, 18, 1200)\n",
      "Extracting parameters from C:\\Users\\jerem\\Downloads\\segments\\114_Skateboard_P_CW_Corrected_Standard.set...\n",
      "Not setting metadata\n",
      "9 matching events found\n",
      "No baseline correction applied\n",
      "0 projection items activated\n",
      "Ready.\n",
      "(9, 18, 1200)\n",
      "(2, 18, 1200)\n",
      "Extracting parameters from C:\\Users\\jerem\\Downloads\\segments\\114_Skateboard_P_CW_Corrected_Target.set...\n",
      "Not setting metadata\n",
      "2 matching events found\n",
      "No baseline correction applied\n",
      "0 projection items activated\n",
      "Ready.\n",
      "(2, 18, 1200)\n",
      "(2, 18, 1200)\n",
      "Extracting parameters from C:\\Users\\jerem\\Downloads\\segments\\115_Skateboard_NP_CCW_Corrected_Standard.set...\n",
      "Not setting metadata\n",
      "78 matching events found\n",
      "No baseline correction applied\n",
      "0 projection items activated\n",
      "Ready.\n",
      "(78, 18, 1200)\n",
      "(2, 18, 1200)\n",
      "Extracting parameters from C:\\Users\\jerem\\Downloads\\segments\\115_Skateboard_NP_CCW_Corrected_Target.set...\n",
      "Not setting metadata\n",
      "8 matching events found\n",
      "No baseline correction applied\n",
      "0 projection items activated\n",
      "Ready.\n",
      "(8, 18, 1200)\n",
      "(2, 18, 1200)\n",
      "Extracting parameters from C:\\Users\\jerem\\Downloads\\segments\\115_Skateboard_NP_CW_Corrected_Standard.set...\n",
      "Not setting metadata\n",
      "112 matching events found\n",
      "No baseline correction applied\n",
      "0 projection items activated\n",
      "Ready.\n",
      "(112, 18, 1200)\n",
      "(2, 18, 1200)\n",
      "Extracting parameters from C:\\Users\\jerem\\Downloads\\segments\\115_Skateboard_NP_CW_Corrected_Target.set...\n",
      "Not setting metadata\n",
      "25 matching events found\n",
      "No baseline correction applied\n",
      "0 projection items activated\n",
      "Ready.\n",
      "(25, 18, 1200)\n",
      "(2, 18, 1200)\n",
      "Extracting parameters from C:\\Users\\jerem\\Downloads\\segments\\115_Skateboard_P_CCW_Corrected_Standard.set...\n",
      "Not setting metadata\n",
      "88 matching events found\n",
      "No baseline correction applied\n",
      "0 projection items activated\n",
      "Ready.\n",
      "(88, 18, 1200)\n",
      "(2, 18, 1200)\n",
      "Extracting parameters from C:\\Users\\jerem\\Downloads\\segments\\115_Skateboard_P_CCW_Corrected_Target.set...\n",
      "Not setting metadata\n",
      "17 matching events found\n",
      "No baseline correction applied\n",
      "0 projection items activated\n",
      "Ready.\n",
      "(17, 18, 1200)\n",
      "(2, 18, 1200)\n",
      "Extracting parameters from C:\\Users\\jerem\\Downloads\\segments\\115_Skateboard_P_CW_Corrected_Standard.set...\n",
      "Not setting metadata\n",
      "84 matching events found\n",
      "No baseline correction applied\n",
      "0 projection items activated\n",
      "Ready.\n",
      "(84, 18, 1200)\n",
      "(2, 18, 1200)\n",
      "Extracting parameters from C:\\Users\\jerem\\Downloads\\segments\\115_Skateboard_P_CW_Corrected_Target.set...\n",
      "Not setting metadata\n",
      "12 matching events found\n",
      "No baseline correction applied\n",
      "0 projection items activated\n",
      "Ready.\n",
      "(12, 18, 1200)\n",
      "(2, 18, 1200)\n",
      "Extracting parameters from C:\\Users\\jerem\\Downloads\\segments\\116_Skateboard_NP_CCW_Corrected_Standard.set...\n",
      "Not setting metadata\n",
      "129 matching events found\n",
      "No baseline correction applied\n",
      "0 projection items activated\n",
      "Ready.\n",
      "(129, 18, 1200)\n",
      "(2, 18, 1200)\n",
      "Extracting parameters from C:\\Users\\jerem\\Downloads\\segments\\116_Skateboard_NP_CCW_Corrected_Target.set...\n",
      "Not setting metadata\n",
      "37 matching events found\n",
      "No baseline correction applied\n",
      "0 projection items activated\n",
      "Ready.\n",
      "(37, 18, 1200)\n",
      "(2, 18, 1200)\n",
      "Extracting parameters from C:\\Users\\jerem\\Downloads\\segments\\116_Skateboard_NP_CW_Corrected_Standard.set...\n",
      "Not setting metadata\n",
      "133 matching events found\n",
      "No baseline correction applied\n",
      "0 projection items activated\n",
      "Ready.\n",
      "(133, 18, 1200)\n",
      "(2, 18, 1200)\n",
      "Extracting parameters from C:\\Users\\jerem\\Downloads\\segments\\116_Skateboard_NP_CW_Corrected_Target.set...\n",
      "Not setting metadata\n",
      "32 matching events found\n",
      "No baseline correction applied\n",
      "0 projection items activated\n",
      "Ready.\n",
      "(32, 18, 1200)\n",
      "(2, 18, 1200)\n",
      "Extracting parameters from C:\\Users\\jerem\\Downloads\\segments\\116_Skateboard_P_CCW_Corrected_Standard.set...\n",
      "Not setting metadata\n",
      "128 matching events found\n",
      "No baseline correction applied\n",
      "0 projection items activated\n",
      "Ready.\n",
      "(128, 18, 1200)\n",
      "(2, 18, 1200)\n",
      "Extracting parameters from C:\\Users\\jerem\\Downloads\\segments\\116_Skateboard_P_CCW_Corrected_Target.set...\n",
      "Not setting metadata\n",
      "31 matching events found\n",
      "No baseline correction applied\n",
      "0 projection items activated\n",
      "Ready.\n",
      "(31, 18, 1200)\n",
      "(2, 18, 1200)\n",
      "Extracting parameters from C:\\Users\\jerem\\Downloads\\segments\\116_Skateboard_P_CW_Corrected_Standard.set...\n",
      "Not setting metadata\n",
      "60 matching events found\n",
      "No baseline correction applied\n",
      "0 projection items activated\n",
      "Ready.\n",
      "(60, 18, 1200)\n",
      "(2, 18, 1200)\n",
      "Extracting parameters from C:\\Users\\jerem\\Downloads\\segments\\116_Skateboard_P_CW_Corrected_Target.set...\n",
      "Not setting metadata\n",
      "15 matching events found\n",
      "No baseline correction applied\n",
      "0 projection items activated\n",
      "Ready.\n",
      "(15, 18, 1200)\n",
      "(2, 18, 1200)\n",
      "Extracting parameters from C:\\Users\\jerem\\Downloads\\segments\\117_Skateboard_NP_CCW_Corrected_Standard.set...\n",
      "Not setting metadata\n",
      "171 matching events found\n",
      "No baseline correction applied\n",
      "0 projection items activated\n",
      "Ready.\n",
      "(171, 18, 1200)\n",
      "(2, 18, 1200)\n",
      "Extracting parameters from C:\\Users\\jerem\\Downloads\\segments\\117_Skateboard_NP_CCW_Corrected_Target.set...\n",
      "Not setting metadata\n",
      "41 matching events found\n",
      "No baseline correction applied\n",
      "0 projection items activated\n",
      "Ready.\n",
      "(41, 18, 1200)\n",
      "(2, 18, 1200)\n",
      "Extracting parameters from C:\\Users\\jerem\\Downloads\\segments\\117_Skateboard_NP_CW_Corrected_Standard.set...\n",
      "Not setting metadata\n",
      "164 matching events found\n",
      "No baseline correction applied\n",
      "0 projection items activated\n",
      "Ready.\n",
      "(164, 18, 1200)\n",
      "(2, 18, 1200)\n",
      "Extracting parameters from C:\\Users\\jerem\\Downloads\\segments\\117_Skateboard_NP_CW_Corrected_Target.set...\n",
      "Not setting metadata\n",
      "37 matching events found\n",
      "No baseline correction applied\n",
      "0 projection items activated\n",
      "Ready.\n",
      "(37, 18, 1200)\n",
      "(2, 18, 1200)\n",
      "Extracting parameters from C:\\Users\\jerem\\Downloads\\segments\\117_Skateboard_P_CCW_Corrected_Standard.set...\n",
      "Not setting metadata\n",
      "157 matching events found\n",
      "No baseline correction applied\n",
      "0 projection items activated\n",
      "Ready.\n",
      "(157, 18, 1200)\n",
      "(2, 18, 1200)\n",
      "Extracting parameters from C:\\Users\\jerem\\Downloads\\segments\\117_Skateboard_P_CCW_Corrected_Target.set...\n",
      "Not setting metadata\n",
      "34 matching events found\n",
      "No baseline correction applied\n",
      "0 projection items activated\n",
      "Ready.\n",
      "(34, 18, 1200)\n",
      "(2, 18, 1200)\n",
      "Extracting parameters from C:\\Users\\jerem\\Downloads\\segments\\117_Skateboard_P_CW_Corrected_Standard.set...\n",
      "Not setting metadata\n",
      "155 matching events found\n",
      "No baseline correction applied\n",
      "0 projection items activated\n",
      "Ready.\n",
      "(155, 18, 1200)\n",
      "(2, 18, 1200)\n",
      "Extracting parameters from C:\\Users\\jerem\\Downloads\\segments\\117_Skateboard_P_CW_Corrected_Target.set...\n",
      "Not setting metadata\n",
      "29 matching events found\n",
      "No baseline correction applied\n",
      "0 projection items activated\n",
      "Ready.\n",
      "(29, 18, 1200)\n",
      "(2, 18, 1200)\n",
      "Extracting parameters from C:\\Users\\jerem\\Downloads\\segments\\118_Skateboard_NP_CCW_Corrected_Standard.set...\n",
      "Not setting metadata\n",
      "21 matching events found\n",
      "No baseline correction applied\n",
      "0 projection items activated\n",
      "Ready.\n",
      "(21, 18, 1200)\n",
      "(2, 18, 1200)\n",
      "Extracting parameters from C:\\Users\\jerem\\Downloads\\segments\\118_Skateboard_NP_CCW_Corrected_Target.set...\n",
      "Not setting metadata\n",
      "8 matching events found\n",
      "No baseline correction applied\n",
      "0 projection items activated\n",
      "Ready.\n",
      "(8, 18, 1200)\n",
      "(2, 18, 1200)\n",
      "Extracting parameters from C:\\Users\\jerem\\Downloads\\segments\\118_Skateboard_NP_CW_Corrected_Standard.set...\n",
      "Not setting metadata\n",
      "129 matching events found\n",
      "No baseline correction applied\n",
      "0 projection items activated\n",
      "Ready.\n",
      "(129, 18, 1200)\n",
      "(2, 18, 1200)\n",
      "Extracting parameters from C:\\Users\\jerem\\Downloads\\segments\\118_Skateboard_NP_CW_Corrected_Target.set...\n",
      "Not setting metadata\n",
      "29 matching events found\n",
      "No baseline correction applied\n",
      "0 projection items activated\n",
      "Ready.\n",
      "(29, 18, 1200)\n",
      "(2, 18, 1200)\n",
      "Extracting parameters from C:\\Users\\jerem\\Downloads\\segments\\118_Skateboard_P_CCW_Corrected_Standard.set...\n",
      "Not setting metadata\n",
      "179 matching events found\n",
      "No baseline correction applied\n",
      "0 projection items activated\n",
      "Ready.\n",
      "(179, 18, 1200)\n",
      "(2, 18, 1200)\n",
      "Extracting parameters from C:\\Users\\jerem\\Downloads\\segments\\118_Skateboard_P_CCW_Corrected_Target.set...\n",
      "Not setting metadata\n",
      "48 matching events found\n",
      "No baseline correction applied\n",
      "0 projection items activated\n",
      "Ready.\n",
      "(48, 18, 1200)\n",
      "(2, 18, 1200)\n",
      "Extracting parameters from C:\\Users\\jerem\\Downloads\\segments\\118_Skateboard_P_CW_Corrected_Standard.set...\n",
      "Not setting metadata\n",
      "174 matching events found\n",
      "No baseline correction applied\n",
      "0 projection items activated\n",
      "Ready.\n",
      "(174, 18, 1200)\n",
      "(2, 18, 1200)\n",
      "Extracting parameters from C:\\Users\\jerem\\Downloads\\segments\\118_Skateboard_P_CW_Corrected_Target.set...\n",
      "Not setting metadata\n",
      "46 matching events found\n",
      "No baseline correction applied\n",
      "0 projection items activated\n",
      "Ready.\n",
      "(46, 18, 1200)\n",
      "(2, 18, 1200)\n",
      "Extracting parameters from C:\\Users\\jerem\\Downloads\\segments\\119_Skateboard_NP_CCW_Corrected_Standard.set...\n",
      "Not setting metadata\n",
      "177 matching events found\n",
      "No baseline correction applied\n",
      "0 projection items activated\n",
      "Ready.\n",
      "(177, 18, 1200)\n",
      "(2, 18, 1200)\n",
      "Extracting parameters from C:\\Users\\jerem\\Downloads\\segments\\119_Skateboard_NP_CCW_Corrected_Target.set...\n",
      "Not setting metadata\n",
      "47 matching events found\n",
      "No baseline correction applied\n",
      "0 projection items activated\n",
      "Ready.\n",
      "(47, 18, 1200)\n",
      "(2, 18, 1200)\n",
      "Extracting parameters from C:\\Users\\jerem\\Downloads\\segments\\119_Skateboard_NP_CW_Corrected_Standard.set...\n",
      "Not setting metadata\n",
      "188 matching events found\n",
      "No baseline correction applied\n",
      "0 projection items activated\n",
      "Ready.\n",
      "(188, 18, 1200)\n",
      "(2, 18, 1200)\n",
      "Extracting parameters from C:\\Users\\jerem\\Downloads\\segments\\119_Skateboard_NP_CW_Corrected_Target.set...\n",
      "Not setting metadata\n",
      "49 matching events found\n",
      "No baseline correction applied\n",
      "0 projection items activated\n",
      "Ready.\n",
      "(49, 18, 1200)\n",
      "(2, 18, 1200)\n",
      "Extracting parameters from C:\\Users\\jerem\\Downloads\\segments\\119_Skateboard_P_CCW_Corrected_Standard.set...\n",
      "Not setting metadata\n",
      "171 matching events found\n",
      "No baseline correction applied\n",
      "0 projection items activated\n",
      "Ready.\n",
      "(171, 18, 1200)\n",
      "(2, 18, 1200)\n",
      "Extracting parameters from C:\\Users\\jerem\\Downloads\\segments\\119_Skateboard_P_CCW_Corrected_Target.set...\n",
      "Not setting metadata\n",
      "47 matching events found\n",
      "No baseline correction applied\n",
      "0 projection items activated\n",
      "Ready.\n",
      "(47, 18, 1200)\n",
      "(2, 18, 1200)\n",
      "Extracting parameters from C:\\Users\\jerem\\Downloads\\segments\\119_Skateboard_P_CW_Corrected_Standard.set...\n",
      "Not setting metadata\n",
      "187 matching events found\n",
      "No baseline correction applied\n",
      "0 projection items activated\n",
      "Ready.\n",
      "(187, 18, 1200)\n",
      "(2, 18, 1200)\n",
      "Extracting parameters from C:\\Users\\jerem\\Downloads\\segments\\119_Skateboard_P_CW_Corrected_Target.set...\n",
      "Not setting metadata\n",
      "48 matching events found\n",
      "No baseline correction applied\n",
      "0 projection items activated\n",
      "Ready.\n",
      "(48, 18, 1200)\n",
      "(2, 18, 1200)\n",
      "Extracting parameters from C:\\Users\\jerem\\Downloads\\segments\\120_Skateboard_NP_CCW_Corrected_Standard.set...\n",
      "Not setting metadata\n",
      "88 matching events found\n",
      "No baseline correction applied\n",
      "0 projection items activated\n",
      "Ready.\n",
      "(88, 18, 1200)\n",
      "(2, 18, 1200)\n",
      "Extracting parameters from C:\\Users\\jerem\\Downloads\\segments\\120_Skateboard_NP_CCW_Corrected_Target.set...\n",
      "Not setting metadata\n",
      "19 matching events found\n",
      "No baseline correction applied\n",
      "0 projection items activated\n",
      "Ready.\n",
      "(19, 18, 1200)\n",
      "(2, 18, 1200)\n",
      "Extracting parameters from C:\\Users\\jerem\\Downloads\\segments\\120_Skateboard_NP_CW_Corrected_Standard.set...\n",
      "Not setting metadata\n",
      "11 matching events found\n",
      "No baseline correction applied\n",
      "0 projection items activated\n",
      "Ready.\n",
      "(11, 18, 1200)\n",
      "(2, 18, 1200)\n",
      "Extracting parameters from C:\\Users\\jerem\\Downloads\\segments\\120_Skateboard_NP_CW_Corrected_Target.set...\n",
      "Not setting metadata\n",
      "2 matching events found\n",
      "No baseline correction applied\n",
      "0 projection items activated\n",
      "Ready.\n",
      "(2, 18, 1200)\n",
      "(2, 18, 1200)\n",
      "Extracting parameters from C:\\Users\\jerem\\Downloads\\segments\\120_Skateboard_P_CCW_Corrected_Standard.set...\n",
      "Not setting metadata\n",
      "78 matching events found\n",
      "No baseline correction applied\n",
      "0 projection items activated\n",
      "Ready.\n",
      "(78, 18, 1200)\n",
      "(2, 18, 1200)\n",
      "Extracting parameters from C:\\Users\\jerem\\Downloads\\segments\\120_Skateboard_P_CCW_Corrected_Target.set...\n",
      "Not setting metadata\n",
      "18 matching events found\n",
      "No baseline correction applied\n",
      "0 projection items activated\n",
      "Ready.\n",
      "(18, 18, 1200)\n",
      "(2, 18, 1200)\n",
      "Extracting parameters from C:\\Users\\jerem\\Downloads\\segments\\120_Skateboard_P_CW_Corrected_Standard.set...\n",
      "Not setting metadata\n",
      "27 matching events found\n",
      "No baseline correction applied\n",
      "0 projection items activated\n",
      "Ready.\n",
      "(27, 18, 1200)\n",
      "(2, 18, 1200)\n",
      "Extracting parameters from C:\\Users\\jerem\\Downloads\\segments\\120_Skateboard_P_CW_Corrected_Target.set...\n",
      "Not setting metadata\n",
      "3 matching events found\n",
      "No baseline correction applied\n",
      "0 projection items activated\n",
      "Ready.\n",
      "(3, 18, 1200)\n",
      "(2, 18, 1200)\n",
      "Extracting parameters from C:\\Users\\jerem\\Downloads\\segments\\121_Skateboard_NP_CCW_Corrected_Standard.set...\n",
      "Not setting metadata\n",
      "200 matching events found\n",
      "No baseline correction applied\n",
      "0 projection items activated\n",
      "Ready.\n",
      "(200, 18, 1200)\n",
      "(2, 18, 1200)\n",
      "Extracting parameters from C:\\Users\\jerem\\Downloads\\segments\\121_Skateboard_NP_CCW_Corrected_Target.set...\n",
      "Not setting metadata\n",
      "50 matching events found\n",
      "No baseline correction applied\n",
      "0 projection items activated\n",
      "Ready.\n",
      "(50, 18, 1200)\n",
      "(2, 18, 1200)\n",
      "Extracting parameters from C:\\Users\\jerem\\Downloads\\segments\\121_Skateboard_NP_CW_Corrected_Standard.set...\n",
      "Not setting metadata\n",
      "200 matching events found\n",
      "No baseline correction applied\n",
      "0 projection items activated\n",
      "Ready.\n",
      "(200, 18, 1200)\n",
      "(2, 18, 1200)\n",
      "Extracting parameters from C:\\Users\\jerem\\Downloads\\segments\\121_Skateboard_NP_CW_Corrected_Target.set...\n",
      "Not setting metadata\n",
      "50 matching events found\n",
      "No baseline correction applied\n",
      "0 projection items activated\n",
      "Ready.\n",
      "(50, 18, 1200)\n",
      "(2, 18, 1200)\n",
      "Extracting parameters from C:\\Users\\jerem\\Downloads\\segments\\121_Skateboard_P_CCW_Corrected_Standard.set...\n",
      "Not setting metadata\n",
      "200 matching events found\n",
      "No baseline correction applied\n",
      "0 projection items activated\n",
      "Ready.\n",
      "(200, 18, 1200)\n",
      "(2, 18, 1200)\n",
      "Extracting parameters from C:\\Users\\jerem\\Downloads\\segments\\121_Skateboard_P_CCW_Corrected_Target.set...\n",
      "Not setting metadata\n",
      "49 matching events found\n",
      "No baseline correction applied\n",
      "0 projection items activated\n",
      "Ready.\n",
      "(49, 18, 1200)\n",
      "(2, 18, 1200)\n",
      "Extracting parameters from C:\\Users\\jerem\\Downloads\\segments\\121_Skateboard_P_CW_Corrected_Standard.set...\n",
      "Not setting metadata\n",
      "200 matching events found\n",
      "No baseline correction applied\n",
      "0 projection items activated\n",
      "Ready.\n",
      "(200, 18, 1200)\n",
      "(2, 18, 1200)\n",
      "Extracting parameters from C:\\Users\\jerem\\Downloads\\segments\\121_Skateboard_P_CW_Corrected_Target.set...\n",
      "Not setting metadata\n",
      "50 matching events found\n",
      "No baseline correction applied\n",
      "0 projection items activated\n",
      "Ready.\n",
      "(50, 18, 1200)\n",
      "(2, 18, 1200)\n",
      "Extracting parameters from C:\\Users\\jerem\\Downloads\\segments\\122_Skateboard_NP_CCW_Corrected_Standard.set...\n",
      "Not setting metadata\n",
      "95 matching events found\n",
      "No baseline correction applied\n",
      "0 projection items activated\n",
      "Ready.\n",
      "(95, 18, 1200)\n",
      "(2, 18, 1200)\n",
      "Extracting parameters from C:\\Users\\jerem\\Downloads\\segments\\122_Skateboard_NP_CCW_Corrected_Target.set...\n",
      "Not setting metadata\n",
      "17 matching events found\n",
      "No baseline correction applied\n",
      "0 projection items activated\n",
      "Ready.\n",
      "(17, 18, 1200)\n",
      "(2, 18, 1200)\n",
      "Extracting parameters from C:\\Users\\jerem\\Downloads\\segments\\122_Skateboard_NP_CW_Corrected_Standard.set...\n",
      "Not setting metadata\n",
      "102 matching events found\n",
      "No baseline correction applied\n",
      "0 projection items activated\n",
      "Ready.\n",
      "(102, 18, 1200)\n",
      "(2, 18, 1200)\n",
      "Extracting parameters from C:\\Users\\jerem\\Downloads\\segments\\122_Skateboard_NP_CW_Corrected_Target.set...\n",
      "Not setting metadata\n",
      "31 matching events found\n",
      "No baseline correction applied\n",
      "0 projection items activated\n",
      "Ready.\n",
      "(31, 18, 1200)\n",
      "(2, 18, 1200)\n",
      "Extracting parameters from C:\\Users\\jerem\\Downloads\\segments\\122_Skateboard_P_CCW_Corrected_Standard.set...\n",
      "Not setting metadata\n",
      "61 matching events found\n",
      "No baseline correction applied\n",
      "0 projection items activated\n",
      "Ready.\n",
      "(61, 18, 1200)\n",
      "(2, 18, 1200)\n",
      "Extracting parameters from C:\\Users\\jerem\\Downloads\\segments\\122_Skateboard_P_CCW_Corrected_Target.set...\n",
      "Not setting metadata\n",
      "15 matching events found\n",
      "No baseline correction applied\n",
      "0 projection items activated\n",
      "Ready.\n",
      "(15, 18, 1200)\n",
      "(2, 18, 1200)\n",
      "Extracting parameters from C:\\Users\\jerem\\Downloads\\segments\\122_Skateboard_P_CW_Corrected_Standard.set...\n",
      "Not setting metadata\n",
      "103 matching events found\n",
      "No baseline correction applied\n",
      "0 projection items activated\n",
      "Ready.\n",
      "(103, 18, 1200)\n",
      "(2, 18, 1200)\n",
      "Extracting parameters from C:\\Users\\jerem\\Downloads\\segments\\122_Skateboard_P_CW_Corrected_Target.set...\n",
      "Not setting metadata\n",
      "31 matching events found\n",
      "No baseline correction applied\n",
      "0 projection items activated\n",
      "Ready.\n",
      "(31, 18, 1200)\n",
      "(2, 18, 1200)\n",
      "Extracting parameters from C:\\Users\\jerem\\Downloads\\segments\\123_Skateboard_NP_CCW_Corrected_Standard.set...\n",
      "Not setting metadata\n",
      "110 matching events found\n",
      "No baseline correction applied\n",
      "0 projection items activated\n",
      "Ready.\n",
      "(110, 18, 1200)\n",
      "(2, 18, 1200)\n",
      "Extracting parameters from C:\\Users\\jerem\\Downloads\\segments\\123_Skateboard_NP_CCW_Corrected_Target.set...\n",
      "Not setting metadata\n",
      "19 matching events found\n",
      "No baseline correction applied\n",
      "0 projection items activated\n",
      "Ready.\n",
      "(19, 18, 1200)\n",
      "(2, 18, 1200)\n",
      "Extracting parameters from C:\\Users\\jerem\\Downloads\\segments\\123_Skateboard_NP_CW_Corrected_Standard.set...\n",
      "Not setting metadata\n",
      "136 matching events found\n",
      "No baseline correction applied\n",
      "0 projection items activated\n",
      "Ready.\n",
      "(136, 18, 1200)\n",
      "(2, 18, 1200)\n",
      "Extracting parameters from C:\\Users\\jerem\\Downloads\\segments\\123_Skateboard_NP_CW_Corrected_Target.set...\n",
      "Not setting metadata\n",
      "36 matching events found\n",
      "No baseline correction applied\n",
      "0 projection items activated\n",
      "Ready.\n",
      "(36, 18, 1200)\n",
      "(2, 18, 1200)\n",
      "Extracting parameters from C:\\Users\\jerem\\Downloads\\segments\\123_Skateboard_P_CCW_Corrected_Standard.set...\n",
      "Not setting metadata\n",
      "58 matching events found\n",
      "No baseline correction applied\n",
      "0 projection items activated\n",
      "Ready.\n",
      "(58, 18, 1200)\n",
      "(2, 18, 1200)\n",
      "Extracting parameters from C:\\Users\\jerem\\Downloads\\segments\\123_Skateboard_P_CCW_Corrected_Target.set...\n",
      "Not setting metadata\n",
      "25 matching events found\n",
      "No baseline correction applied\n",
      "0 projection items activated\n",
      "Ready.\n",
      "(25, 18, 1200)\n",
      "(2, 18, 1200)\n",
      "Extracting parameters from C:\\Users\\jerem\\Downloads\\segments\\123_Skateboard_P_CW_Corrected_Standard.set...\n",
      "Not setting metadata\n",
      "86 matching events found\n",
      "No baseline correction applied\n",
      "0 projection items activated\n",
      "Ready.\n",
      "(86, 18, 1200)\n",
      "(2, 18, 1200)\n",
      "Extracting parameters from C:\\Users\\jerem\\Downloads\\segments\\123_Skateboard_P_CW_Corrected_Target.set...\n",
      "Not setting metadata\n",
      "20 matching events found\n",
      "No baseline correction applied\n",
      "0 projection items activated\n",
      "Ready.\n",
      "(20, 18, 1200)\n",
      "(2, 18, 1200)\n",
      "Extracting parameters from C:\\Users\\jerem\\Downloads\\segments\\124_Skateboard_NP_CCW_Corrected_Standard.set...\n",
      "Not setting metadata\n",
      "68 matching events found\n",
      "No baseline correction applied\n",
      "0 projection items activated\n",
      "Ready.\n",
      "(68, 18, 1200)\n",
      "(2, 18, 1200)\n",
      "Extracting parameters from C:\\Users\\jerem\\Downloads\\segments\\124_Skateboard_NP_CCW_Corrected_Target.set...\n",
      "Not setting metadata\n",
      "22 matching events found\n",
      "No baseline correction applied\n",
      "0 projection items activated\n",
      "Ready.\n",
      "(22, 18, 1200)\n",
      "(2, 18, 1200)\n",
      "Extracting parameters from C:\\Users\\jerem\\Downloads\\segments\\124_Skateboard_NP_CW_Corrected_Standard.set...\n",
      "Not setting metadata\n",
      "153 matching events found\n",
      "No baseline correction applied\n",
      "0 projection items activated\n",
      "Ready.\n",
      "(153, 18, 1200)\n",
      "(2, 18, 1200)\n",
      "Extracting parameters from C:\\Users\\jerem\\Downloads\\segments\\124_Skateboard_NP_CW_Corrected_Target.set...\n",
      "Not setting metadata\n",
      "38 matching events found\n",
      "No baseline correction applied\n",
      "0 projection items activated\n",
      "Ready.\n",
      "(38, 18, 1200)\n",
      "(2, 18, 1200)\n",
      "Extracting parameters from C:\\Users\\jerem\\Downloads\\segments\\124_Skateboard_P_CCW_Corrected_Standard.set...\n",
      "Not setting metadata\n",
      "100 matching events found\n",
      "No baseline correction applied\n",
      "0 projection items activated\n",
      "Ready.\n",
      "(100, 18, 1200)\n",
      "(2, 18, 1200)\n",
      "Extracting parameters from C:\\Users\\jerem\\Downloads\\segments\\124_Skateboard_P_CCW_Corrected_Target.set...\n",
      "Not setting metadata\n",
      "19 matching events found\n",
      "No baseline correction applied\n",
      "0 projection items activated\n",
      "Ready.\n",
      "(19, 18, 1200)\n",
      "(2, 18, 1200)\n",
      "Extracting parameters from C:\\Users\\jerem\\Downloads\\segments\\124_Skateboard_P_CW_Corrected_Standard.set...\n",
      "Not setting metadata\n",
      "159 matching events found\n",
      "No baseline correction applied\n",
      "0 projection items activated\n",
      "Ready.\n",
      "(159, 18, 1200)\n",
      "(2, 18, 1200)\n",
      "Extracting parameters from C:\\Users\\jerem\\Downloads\\segments\\124_Skateboard_P_CW_Corrected_Target.set...\n",
      "Not setting metadata\n",
      "24 matching events found\n",
      "No baseline correction applied\n",
      "0 projection items activated\n",
      "Ready.\n",
      "(24, 18, 1200)\n",
      "(2, 18, 1200)\n",
      "Extracting parameters from C:\\Users\\jerem\\Downloads\\segments\\125_Skateboard_NP_CCW_Corrected_Standard.set...\n",
      "Not setting metadata\n",
      "149 matching events found\n",
      "No baseline correction applied\n",
      "0 projection items activated\n",
      "Ready.\n",
      "(149, 18, 1200)\n",
      "(2, 18, 1200)\n",
      "Extracting parameters from C:\\Users\\jerem\\Downloads\\segments\\125_Skateboard_NP_CCW_Corrected_Target.set...\n",
      "Not setting metadata\n",
      "38 matching events found\n",
      "No baseline correction applied\n",
      "0 projection items activated\n",
      "Ready.\n",
      "(38, 18, 1200)\n",
      "(2, 18, 1200)\n",
      "Extracting parameters from C:\\Users\\jerem\\Downloads\\segments\\125_Skateboard_NP_CW_Corrected_Standard.set...\n",
      "Not setting metadata\n",
      "184 matching events found\n",
      "No baseline correction applied\n",
      "0 projection items activated\n",
      "Ready.\n",
      "(184, 18, 1200)\n",
      "(2, 18, 1200)\n",
      "Extracting parameters from C:\\Users\\jerem\\Downloads\\segments\\125_Skateboard_NP_CW_Corrected_Target.set...\n",
      "Not setting metadata\n",
      "46 matching events found\n",
      "No baseline correction applied\n",
      "0 projection items activated\n",
      "Ready.\n",
      "(46, 18, 1200)\n",
      "(2, 18, 1200)\n",
      "Extracting parameters from C:\\Users\\jerem\\Downloads\\segments\\125_Skateboard_P_CCW_Corrected_Standard.set...\n",
      "Not setting metadata\n",
      "171 matching events found\n",
      "No baseline correction applied\n",
      "0 projection items activated\n",
      "Ready.\n",
      "(171, 18, 1200)\n",
      "(2, 18, 1200)\n",
      "Extracting parameters from C:\\Users\\jerem\\Downloads\\segments\\125_Skateboard_P_CCW_Corrected_Target.set...\n",
      "Not setting metadata\n",
      "39 matching events found\n",
      "No baseline correction applied\n",
      "0 projection items activated\n",
      "Ready.\n",
      "(39, 18, 1200)\n",
      "(2, 18, 1200)\n",
      "Extracting parameters from C:\\Users\\jerem\\Downloads\\segments\\125_Skateboard_P_CW_Corrected_Standard.set...\n",
      "Not setting metadata\n",
      "157 matching events found\n",
      "No baseline correction applied\n",
      "0 projection items activated\n",
      "Ready.\n",
      "(157, 18, 1200)\n",
      "(2, 18, 1200)\n",
      "Extracting parameters from C:\\Users\\jerem\\Downloads\\segments\\125_Skateboard_P_CW_Corrected_Target.set...\n",
      "Not setting metadata\n",
      "27 matching events found\n",
      "No baseline correction applied\n",
      "0 projection items activated\n",
      "Ready.\n",
      "(27, 18, 1200)\n",
      "(2, 18, 1200)\n",
      "Extracting parameters from C:\\Users\\jerem\\Downloads\\segments\\126_Skateboard_NP_CCW_Corrected_Standard.set...\n",
      "Not setting metadata\n",
      "159 matching events found\n",
      "No baseline correction applied\n",
      "0 projection items activated\n",
      "Ready.\n",
      "(159, 18, 1200)\n",
      "(2, 18, 1200)\n",
      "Extracting parameters from C:\\Users\\jerem\\Downloads\\segments\\126_Skateboard_NP_CCW_Corrected_Target.set...\n",
      "Not setting metadata\n",
      "40 matching events found\n",
      "No baseline correction applied\n",
      "0 projection items activated\n",
      "Ready.\n",
      "(40, 18, 1200)\n",
      "(2, 18, 1200)\n",
      "Extracting parameters from C:\\Users\\jerem\\Downloads\\segments\\126_Skateboard_NP_CW_Corrected_Standard.set...\n",
      "Not setting metadata\n",
      "150 matching events found\n",
      "No baseline correction applied\n",
      "0 projection items activated\n",
      "Ready.\n",
      "(150, 18, 1200)\n",
      "(2, 18, 1200)\n",
      "Extracting parameters from C:\\Users\\jerem\\Downloads\\segments\\126_Skateboard_NP_CW_Corrected_Target.set...\n",
      "Not setting metadata\n",
      "37 matching events found\n",
      "No baseline correction applied\n",
      "0 projection items activated\n",
      "Ready.\n",
      "(37, 18, 1200)\n",
      "(2, 18, 1200)\n",
      "Extracting parameters from C:\\Users\\jerem\\Downloads\\segments\\126_Skateboard_P_CCW_Corrected_Standard.set...\n",
      "Not setting metadata\n",
      "138 matching events found\n",
      "No baseline correction applied\n",
      "0 projection items activated\n",
      "Ready.\n",
      "(138, 18, 1200)\n",
      "(2, 18, 1200)\n",
      "Extracting parameters from C:\\Users\\jerem\\Downloads\\segments\\126_Skateboard_P_CCW_Corrected_Target.set...\n",
      "Not setting metadata\n",
      "37 matching events found\n",
      "No baseline correction applied\n",
      "0 projection items activated\n",
      "Ready.\n",
      "(37, 18, 1200)\n",
      "(2, 18, 1200)\n",
      "Extracting parameters from C:\\Users\\jerem\\Downloads\\segments\\126_Skateboard_P_CW_Corrected_Standard.set...\n",
      "Not setting metadata\n",
      "146 matching events found\n",
      "No baseline correction applied\n",
      "0 projection items activated\n",
      "Ready.\n",
      "(146, 18, 1200)\n",
      "(2, 18, 1200)\n",
      "Extracting parameters from C:\\Users\\jerem\\Downloads\\segments\\126_Skateboard_P_CW_Corrected_Target.set...\n",
      "Not setting metadata\n",
      "36 matching events found\n",
      "No baseline correction applied\n",
      "0 projection items activated\n",
      "Ready.\n",
      "(36, 18, 1200)\n",
      "(2, 18, 1200)\n",
      "Extracting parameters from C:\\Users\\jerem\\Downloads\\segments\\127_Skateboard_NP_CCW_Corrected_Standard.set...\n",
      "Not setting metadata\n",
      "128 matching events found\n",
      "No baseline correction applied\n",
      "0 projection items activated\n",
      "Ready.\n",
      "(128, 18, 1200)\n",
      "(2, 18, 1200)\n",
      "Extracting parameters from C:\\Users\\jerem\\Downloads\\segments\\127_Skateboard_NP_CCW_Corrected_Target.set...\n",
      "Not setting metadata\n",
      "31 matching events found\n",
      "No baseline correction applied\n",
      "0 projection items activated\n",
      "Ready.\n",
      "(31, 18, 1200)\n",
      "(2, 18, 1200)\n",
      "Extracting parameters from C:\\Users\\jerem\\Downloads\\segments\\127_Skateboard_NP_CW_Corrected_Standard.set...\n",
      "Not setting metadata\n",
      "137 matching events found\n",
      "No baseline correction applied\n",
      "0 projection items activated\n",
      "Ready.\n",
      "(137, 18, 1200)\n",
      "(2, 18, 1200)\n",
      "Extracting parameters from C:\\Users\\jerem\\Downloads\\segments\\127_Skateboard_NP_CW_Corrected_Target.set...\n",
      "Not setting metadata\n",
      "43 matching events found\n",
      "No baseline correction applied\n",
      "0 projection items activated\n",
      "Ready.\n",
      "(43, 18, 1200)\n",
      "(2, 18, 1200)\n",
      "Extracting parameters from C:\\Users\\jerem\\Downloads\\segments\\127_Skateboard_P_CCW_Corrected_Standard.set...\n",
      "Not setting metadata\n",
      "93 matching events found\n",
      "No baseline correction applied\n",
      "0 projection items activated\n",
      "Ready.\n",
      "(93, 18, 1200)\n",
      "(2, 18, 1200)\n",
      "Extracting parameters from C:\\Users\\jerem\\Downloads\\segments\\127_Skateboard_P_CCW_Corrected_Target.set...\n",
      "Not setting metadata\n",
      "26 matching events found\n",
      "No baseline correction applied\n",
      "0 projection items activated\n",
      "Ready.\n",
      "(26, 18, 1200)\n",
      "(2, 18, 1200)\n",
      "Extracting parameters from C:\\Users\\jerem\\Downloads\\segments\\127_Skateboard_P_CW_Corrected_Standard.set...\n",
      "Not setting metadata\n",
      "93 matching events found\n",
      "No baseline correction applied\n",
      "0 projection items activated\n",
      "Ready.\n",
      "(93, 18, 1200)\n",
      "(2, 18, 1200)\n",
      "Extracting parameters from C:\\Users\\jerem\\Downloads\\segments\\127_Skateboard_P_CW_Corrected_Target.set...\n",
      "Not setting metadata\n",
      "19 matching events found\n",
      "No baseline correction applied\n",
      "0 projection items activated\n",
      "Ready.\n",
      "(19, 18, 1200)\n",
      "(2, 18, 1200)\n",
      "Extracting parameters from C:\\Users\\jerem\\Downloads\\segments\\128_Skateboard_NP_CCW_Corrected_Standard.set...\n",
      "Not setting metadata\n",
      "8 matching events found\n",
      "No baseline correction applied\n",
      "0 projection items activated\n",
      "Ready.\n",
      "(8, 18, 1200)\n",
      "(2, 18, 1200)\n",
      "Extracting parameters from C:\\Users\\jerem\\Downloads\\segments\\128_Skateboard_NP_CCW_Corrected_Target.set...\n",
      "Not setting metadata\n",
      "2 matching events found\n",
      "No baseline correction applied\n",
      "0 projection items activated\n",
      "Ready.\n",
      "(2, 18, 1200)\n",
      "(2, 18, 1200)\n",
      "Extracting parameters from C:\\Users\\jerem\\Downloads\\segments\\128_Skateboard_NP_CW_Corrected_Standard.set...\n",
      "Not setting metadata\n",
      "21 matching events found\n",
      "No baseline correction applied\n",
      "0 projection items activated\n",
      "Ready.\n",
      "(21, 18, 1200)\n",
      "(2, 18, 1200)\n",
      "Extracting parameters from C:\\Users\\jerem\\Downloads\\segments\\128_Skateboard_NP_CW_Corrected_Target.set...\n",
      "Not setting metadata\n",
      "2 matching events found\n",
      "No baseline correction applied\n",
      "0 projection items activated\n",
      "Ready.\n",
      "(2, 18, 1200)\n",
      "(2, 18, 1200)\n",
      "Extracting parameters from C:\\Users\\jerem\\Downloads\\segments\\128_Skateboard_P_CCW_Corrected_Standard.set...\n",
      "Not setting metadata\n",
      "198 matching events found\n",
      "No baseline correction applied\n",
      "0 projection items activated\n",
      "Ready.\n",
      "(198, 18, 1200)\n",
      "(2, 18, 1200)\n",
      "Extracting parameters from C:\\Users\\jerem\\Downloads\\segments\\128_Skateboard_P_CCW_Corrected_Target.set...\n",
      "Not setting metadata\n",
      "50 matching events found\n",
      "No baseline correction applied\n",
      "0 projection items activated\n",
      "Ready.\n",
      "(50, 18, 1200)\n",
      "(2, 18, 1200)\n",
      "Extracting parameters from C:\\Users\\jerem\\Downloads\\segments\\128_Skateboard_P_CW_Corrected_Standard.set...\n",
      "Not setting metadata\n",
      "3 matching events found\n",
      "No baseline correction applied\n",
      "0 projection items activated\n",
      "Ready.\n",
      "(3, 18, 1200)\n",
      "(2, 18, 1200)\n",
      "Extracting parameters from C:\\Users\\jerem\\Downloads\\segments\\128_Skateboard_P_CW_Corrected_Target.set...\n",
      "Not setting metadata\n",
      "2 matching events found\n",
      "No baseline correction applied\n",
      "0 projection items activated\n",
      "Ready.\n",
      "(2, 18, 1200)\n",
      "(2, 18, 1200)\n",
      "Extracting parameters from C:\\Users\\jerem\\Downloads\\segments\\129_Skateboard_NP_CCW_Corrected_Standard.set...\n",
      "Not setting metadata\n",
      "33 matching events found\n",
      "No baseline correction applied\n",
      "0 projection items activated\n",
      "Ready.\n",
      "(33, 18, 1200)\n",
      "(2, 18, 1200)\n",
      "Extracting parameters from C:\\Users\\jerem\\Downloads\\segments\\129_Skateboard_NP_CCW_Corrected_Target.set...\n",
      "Not setting metadata\n",
      "6 matching events found\n",
      "No baseline correction applied\n",
      "0 projection items activated\n",
      "Ready.\n",
      "(6, 18, 1200)\n",
      "(2, 18, 1200)\n",
      "Extracting parameters from C:\\Users\\jerem\\Downloads\\segments\\129_Skateboard_NP_CW_Corrected_Standard.set...\n",
      "Not setting metadata\n",
      "19 matching events found\n",
      "No baseline correction applied\n",
      "0 projection items activated\n",
      "Ready.\n",
      "(19, 18, 1200)\n",
      "(2, 18, 1200)\n",
      "Extracting parameters from C:\\Users\\jerem\\Downloads\\segments\\129_Skateboard_P_CCW_Corrected_Standard.set...\n",
      "Not setting metadata\n",
      "74 matching events found\n",
      "No baseline correction applied\n",
      "0 projection items activated\n",
      "Ready.\n",
      "(74, 18, 1200)\n",
      "(2, 18, 1200)\n",
      "Extracting parameters from C:\\Users\\jerem\\Downloads\\segments\\129_Skateboard_P_CCW_Corrected_Target.set...\n",
      "Not setting metadata\n",
      "22 matching events found\n",
      "No baseline correction applied\n",
      "0 projection items activated\n",
      "Ready.\n",
      "(22, 18, 1200)\n",
      "(2, 18, 1200)\n",
      "Extracting parameters from C:\\Users\\jerem\\Downloads\\segments\\129_Skateboard_P_CW_Corrected_Standard.set...\n",
      "Not setting metadata\n",
      "32 matching events found\n",
      "No baseline correction applied\n",
      "0 projection items activated\n",
      "Ready.\n",
      "(32, 18, 1200)\n",
      "(2, 18, 1200)\n",
      "Extracting parameters from C:\\Users\\jerem\\Downloads\\segments\\129_Skateboard_P_CW_Corrected_Target.set...\n",
      "Not setting metadata\n",
      "6 matching events found\n",
      "No baseline correction applied\n",
      "0 projection items activated\n",
      "Ready.\n",
      "(6, 18, 1200)\n",
      "(2, 18, 1200)\n",
      "Extracting parameters from C:\\Users\\jerem\\Downloads\\segments\\130_Skateboard_NP_CCW_Corrected_Standard.set...\n",
      "Not setting metadata\n",
      "193 matching events found\n",
      "No baseline correction applied\n",
      "0 projection items activated\n",
      "Ready.\n",
      "(193, 18, 1200)\n",
      "(2, 18, 1200)\n",
      "Extracting parameters from C:\\Users\\jerem\\Downloads\\segments\\130_Skateboard_NP_CCW_Corrected_Target.set...\n",
      "Not setting metadata\n",
      "48 matching events found\n",
      "No baseline correction applied\n",
      "0 projection items activated\n",
      "Ready.\n",
      "(48, 18, 1200)\n",
      "(2, 18, 1200)\n",
      "Extracting parameters from C:\\Users\\jerem\\Downloads\\segments\\130_Skateboard_NP_CW_Corrected_Standard.set...\n",
      "Not setting metadata\n",
      "171 matching events found\n",
      "No baseline correction applied\n",
      "0 projection items activated\n",
      "Ready.\n",
      "(171, 18, 1200)\n",
      "(2, 18, 1200)\n",
      "Extracting parameters from C:\\Users\\jerem\\Downloads\\segments\\130_Skateboard_NP_CW_Corrected_Target.set...\n",
      "Not setting metadata\n",
      "41 matching events found\n",
      "No baseline correction applied\n",
      "0 projection items activated\n",
      "Ready.\n",
      "(41, 18, 1200)\n",
      "(2, 18, 1200)\n",
      "Extracting parameters from C:\\Users\\jerem\\Downloads\\segments\\130_Skateboard_P_CCW_Corrected_Standard.set...\n",
      "Not setting metadata\n",
      "73 matching events found\n",
      "No baseline correction applied\n",
      "0 projection items activated\n",
      "Ready.\n",
      "(73, 18, 1200)\n",
      "(2, 18, 1200)\n",
      "Extracting parameters from C:\\Users\\jerem\\Downloads\\segments\\130_Skateboard_P_CCW_Corrected_Target.set...\n",
      "Not setting metadata\n",
      "22 matching events found\n",
      "No baseline correction applied\n",
      "0 projection items activated\n",
      "Ready.\n",
      "(22, 18, 1200)\n",
      "(2, 18, 1200)\n",
      "Extracting parameters from C:\\Users\\jerem\\Downloads\\segments\\130_Skateboard_P_CW_Corrected_Standard.set...\n",
      "Not setting metadata\n",
      "180 matching events found\n",
      "No baseline correction applied\n",
      "0 projection items activated\n",
      "Ready.\n",
      "(180, 18, 1200)\n",
      "(2, 18, 1200)\n",
      "Extracting parameters from C:\\Users\\jerem\\Downloads\\segments\\130_Skateboard_P_CW_Corrected_Target.set...\n",
      "Not setting metadata\n",
      "47 matching events found\n",
      "No baseline correction applied\n",
      "0 projection items activated\n",
      "Ready.\n",
      "(47, 18, 1200)\n",
      "(2, 18, 1200)\n",
      "Extracting parameters from C:\\Users\\jerem\\Downloads\\segments\\131_Skateboard_NP_CCW_Corrected_Standard.set...\n",
      "Not setting metadata\n",
      "198 matching events found\n",
      "No baseline correction applied\n",
      "0 projection items activated\n",
      "Ready.\n",
      "(198, 18, 1200)\n",
      "(2, 18, 1200)\n",
      "Extracting parameters from C:\\Users\\jerem\\Downloads\\segments\\131_Skateboard_NP_CCW_Corrected_Target.set...\n",
      "Not setting metadata\n",
      "50 matching events found\n",
      "No baseline correction applied\n",
      "0 projection items activated\n",
      "Ready.\n",
      "(50, 18, 1200)\n",
      "(2, 18, 1200)\n",
      "Extracting parameters from C:\\Users\\jerem\\Downloads\\segments\\131_Skateboard_NP_CW_Corrected_Standard.set...\n",
      "Not setting metadata\n",
      "194 matching events found\n",
      "No baseline correction applied\n",
      "0 projection items activated\n",
      "Ready.\n",
      "(194, 18, 1200)\n",
      "(2, 18, 1200)\n",
      "Extracting parameters from C:\\Users\\jerem\\Downloads\\segments\\131_Skateboard_NP_CW_Corrected_Target.set...\n",
      "Not setting metadata\n",
      "49 matching events found\n",
      "No baseline correction applied\n",
      "0 projection items activated\n",
      "Ready.\n",
      "(49, 18, 1200)\n",
      "(2, 18, 1200)\n",
      "Extracting parameters from C:\\Users\\jerem\\Downloads\\segments\\131_Skateboard_P_CCW_Corrected_Standard.set...\n",
      "Not setting metadata\n",
      "199 matching events found\n",
      "No baseline correction applied\n",
      "0 projection items activated\n",
      "Ready.\n",
      "(199, 18, 1200)\n",
      "(2, 18, 1200)\n",
      "Extracting parameters from C:\\Users\\jerem\\Downloads\\segments\\131_Skateboard_P_CCW_Corrected_Target.set...\n",
      "Not setting metadata\n",
      "50 matching events found\n",
      "No baseline correction applied\n",
      "0 projection items activated\n",
      "Ready.\n",
      "(50, 18, 1200)\n",
      "(2, 18, 1200)\n",
      "Extracting parameters from C:\\Users\\jerem\\Downloads\\segments\\131_Skateboard_P_CW_Corrected_Standard.set...\n",
      "Not setting metadata\n",
      "198 matching events found\n",
      "No baseline correction applied\n",
      "0 projection items activated\n",
      "Ready.\n",
      "(198, 18, 1200)\n",
      "(2, 18, 1200)\n",
      "Extracting parameters from C:\\Users\\jerem\\Downloads\\segments\\131_Skateboard_P_CW_Corrected_Target.set...\n",
      "Not setting metadata\n",
      "46 matching events found\n",
      "No baseline correction applied\n",
      "0 projection items activated\n",
      "Ready.\n",
      "(46, 18, 1200)\n",
      "(2, 18, 1200)\n",
      "Extracting parameters from C:\\Users\\jerem\\Downloads\\segments\\132_Skateboard_NP_CCW_Corrected_Standard.set...\n",
      "Not setting metadata\n",
      "97 matching events found\n",
      "No baseline correction applied\n",
      "0 projection items activated\n",
      "Ready.\n",
      "(97, 18, 1200)\n",
      "(2, 18, 1200)\n",
      "Extracting parameters from C:\\Users\\jerem\\Downloads\\segments\\132_Skateboard_NP_CCW_Corrected_Target.set...\n",
      "Not setting metadata\n",
      "21 matching events found\n",
      "No baseline correction applied\n",
      "0 projection items activated\n",
      "Ready.\n",
      "(21, 18, 1200)\n",
      "(2, 18, 1200)\n",
      "Extracting parameters from C:\\Users\\jerem\\Downloads\\segments\\132_Skateboard_NP_CW_Corrected_Standard.set...\n",
      "Not setting metadata\n",
      "121 matching events found\n",
      "No baseline correction applied\n",
      "0 projection items activated\n",
      "Ready.\n",
      "(121, 18, 1200)\n",
      "(2, 18, 1200)\n",
      "Extracting parameters from C:\\Users\\jerem\\Downloads\\segments\\132_Skateboard_NP_CW_Corrected_Target.set...\n",
      "Not setting metadata\n",
      "28 matching events found\n",
      "No baseline correction applied\n",
      "0 projection items activated\n",
      "Ready.\n",
      "(28, 18, 1200)\n",
      "(2, 18, 1200)\n",
      "Extracting parameters from C:\\Users\\jerem\\Downloads\\segments\\132_Skateboard_P_CCW_Corrected_Standard.set...\n",
      "Not setting metadata\n",
      "167 matching events found\n",
      "No baseline correction applied\n",
      "0 projection items activated\n",
      "Ready.\n",
      "(167, 18, 1200)\n",
      "(2, 18, 1200)\n",
      "Extracting parameters from C:\\Users\\jerem\\Downloads\\segments\\132_Skateboard_P_CCW_Corrected_Target.set...\n",
      "Not setting metadata\n",
      "40 matching events found\n",
      "No baseline correction applied\n",
      "0 projection items activated\n",
      "Ready.\n",
      "(40, 18, 1200)\n",
      "(2, 18, 1200)\n",
      "Extracting parameters from C:\\Users\\jerem\\Downloads\\segments\\132_Skateboard_P_CW_Corrected_Standard.set...\n",
      "Not setting metadata\n",
      "72 matching events found\n",
      "No baseline correction applied\n",
      "0 projection items activated\n",
      "Ready.\n",
      "(72, 18, 1200)\n",
      "(2, 18, 1200)\n",
      "Extracting parameters from C:\\Users\\jerem\\Downloads\\segments\\132_Skateboard_P_CW_Corrected_Target.set...\n",
      "Not setting metadata\n",
      "13 matching events found\n",
      "No baseline correction applied\n",
      "0 projection items activated\n",
      "Ready.\n",
      "(13, 18, 1200)\n",
      "(2, 18, 1200)\n",
      "Extracting parameters from C:\\Users\\jerem\\Downloads\\segments\\133_Skateboard_NP_CCW_Corrected_Standard.set...\n",
      "Not setting metadata\n",
      "197 matching events found\n",
      "No baseline correction applied\n",
      "0 projection items activated\n",
      "Ready.\n",
      "(197, 18, 1200)\n",
      "(2, 18, 1200)\n",
      "Extracting parameters from C:\\Users\\jerem\\Downloads\\segments\\133_Skateboard_NP_CCW_Corrected_Target.set...\n",
      "Not setting metadata\n",
      "49 matching events found\n",
      "No baseline correction applied\n",
      "0 projection items activated\n",
      "Ready.\n",
      "(49, 18, 1200)\n",
      "(2, 18, 1200)\n",
      "Extracting parameters from C:\\Users\\jerem\\Downloads\\segments\\133_Skateboard_NP_CW_Corrected_Standard.set...\n",
      "Not setting metadata\n",
      "168 matching events found\n",
      "No baseline correction applied\n",
      "0 projection items activated\n",
      "Ready.\n",
      "(168, 18, 1200)\n",
      "(2, 18, 1200)\n",
      "Extracting parameters from C:\\Users\\jerem\\Downloads\\segments\\133_Skateboard_NP_CW_Corrected_Target.set...\n",
      "Not setting metadata\n",
      "39 matching events found\n",
      "No baseline correction applied\n",
      "0 projection items activated\n",
      "Ready.\n",
      "(39, 18, 1200)\n",
      "(2, 18, 1200)\n",
      "Extracting parameters from C:\\Users\\jerem\\Downloads\\segments\\133_Skateboard_P_CCW_Corrected_Standard.set...\n",
      "Not setting metadata\n",
      "133 matching events found\n",
      "No baseline correction applied\n",
      "0 projection items activated\n",
      "Ready.\n",
      "(133, 18, 1200)\n",
      "(2, 18, 1200)\n",
      "Extracting parameters from C:\\Users\\jerem\\Downloads\\segments\\133_Skateboard_P_CCW_Corrected_Target.set...\n",
      "Not setting metadata\n",
      "35 matching events found\n",
      "No baseline correction applied\n",
      "0 projection items activated\n",
      "Ready.\n",
      "(35, 18, 1200)\n",
      "(2, 18, 1200)\n",
      "Extracting parameters from C:\\Users\\jerem\\Downloads\\segments\\133_Skateboard_P_CW_Corrected_Standard.set...\n",
      "Not setting metadata\n",
      "77 matching events found\n",
      "No baseline correction applied\n",
      "0 projection items activated\n",
      "Ready.\n",
      "(77, 18, 1200)\n",
      "(2, 18, 1200)\n",
      "Extracting parameters from C:\\Users\\jerem\\Downloads\\segments\\133_Skateboard_P_CW_Corrected_Target.set...\n",
      "Not setting metadata\n",
      "24 matching events found\n",
      "No baseline correction applied\n",
      "0 projection items activated\n",
      "Ready.\n",
      "(24, 18, 1200)\n",
      "(2, 18, 1200)\n",
      "Extracting parameters from C:\\Users\\jerem\\Downloads\\segments\\134_Skateboard_NP_CCW_Corrected_Standard.set...\n",
      "Not setting metadata\n",
      "117 matching events found\n",
      "No baseline correction applied\n",
      "0 projection items activated\n",
      "Ready.\n",
      "(117, 18, 1200)\n",
      "(2, 18, 1200)\n",
      "Extracting parameters from C:\\Users\\jerem\\Downloads\\segments\\134_Skateboard_NP_CCW_Corrected_Target.set...\n",
      "Not setting metadata\n",
      "33 matching events found\n",
      "No baseline correction applied\n",
      "0 projection items activated\n",
      "Ready.\n",
      "(33, 18, 1200)\n",
      "(2, 18, 1200)\n",
      "Extracting parameters from C:\\Users\\jerem\\Downloads\\segments\\134_Skateboard_NP_CW_Corrected_Standard.set...\n",
      "Not setting metadata\n",
      "103 matching events found\n",
      "No baseline correction applied\n",
      "0 projection items activated\n",
      "Ready.\n",
      "(103, 18, 1200)\n",
      "(2, 18, 1200)\n",
      "Extracting parameters from C:\\Users\\jerem\\Downloads\\segments\\134_Skateboard_NP_CW_Corrected_Target.set...\n",
      "Not setting metadata\n",
      "37 matching events found\n",
      "No baseline correction applied\n",
      "0 projection items activated\n",
      "Ready.\n",
      "(37, 18, 1200)\n",
      "(2, 18, 1200)\n",
      "Extracting parameters from C:\\Users\\jerem\\Downloads\\segments\\134_Skateboard_P_CCW_Corrected_Standard.set...\n",
      "Not setting metadata\n",
      "109 matching events found\n",
      "No baseline correction applied\n",
      "0 projection items activated\n",
      "Ready.\n",
      "(109, 18, 1200)\n",
      "(2, 18, 1200)\n",
      "Extracting parameters from C:\\Users\\jerem\\Downloads\\segments\\134_Skateboard_P_CCW_Corrected_Target.set...\n",
      "Not setting metadata\n",
      "36 matching events found\n",
      "No baseline correction applied\n",
      "0 projection items activated\n",
      "Ready.\n",
      "(36, 18, 1200)\n",
      "(2, 18, 1200)\n",
      "Extracting parameters from C:\\Users\\jerem\\Downloads\\segments\\134_Skateboard_P_CW_Corrected_Standard.set...\n",
      "Not setting metadata\n",
      "150 matching events found\n",
      "No baseline correction applied\n",
      "0 projection items activated\n",
      "Ready.\n",
      "(150, 18, 1200)\n",
      "(2, 18, 1200)\n",
      "Extracting parameters from C:\\Users\\jerem\\Downloads\\segments\\134_Skateboard_P_CW_Corrected_Target.set...\n",
      "Not setting metadata\n",
      "38 matching events found\n",
      "No baseline correction applied\n",
      "0 projection items activated\n",
      "Ready.\n",
      "(38, 18, 1200)\n",
      "(2, 18, 1200)\n"
     ]
    }
   ],
   "source": [
    "# preprcess testing\n",
    "for j in range(272):\n",
    "    testdata = glob.glob(r'C:\\Users\\jerem\\Downloads\\segments\\*.set')\n",
    "    if j != 227:\n",
    "        epochs = mne.io.read_epochs_eeglab(testdata[j])\n",
    "        testeeg = epochs.get_data()\n",
    "        print(testeeg.shape)\n",
    "        split = testeeg.shape[0]//2\n",
    "        newtesteeg = np.array_split(testeeg,split)\n",
    "        for y in range(split):\n",
    "            if y == 0 and len(newtesteeg[y])%2 != 0:\n",
    "                newtesteeg[y]=np.delete(newtesteeg[y], 0, axis=0)\n",
    "            proeeg = newtesteeg[y][:,:,0:1200]\n",
    "            np.save('./test_set/j'+str(j)+'y'+str(y)+'_testingset.npy',proeeg)\n",
    "        print(proeeg.shape)\n"
   ]
  },
  {
   "cell_type": "code",
   "execution_count": 6,
   "metadata": {},
   "outputs": [],
   "source": [
    "img_dir='./test_set'\n",
    "filename='j0y0_testingset.npy'"
   ]
  },
  {
   "cell_type": "code",
   "execution_count": 7,
   "metadata": {},
   "outputs": [],
   "source": [
    "#EEGDataset(['j0y0_testingset.npy'])"
   ]
  },
  {
   "cell_type": "code",
   "execution_count": 8,
   "metadata": {},
   "outputs": [
    {
     "data": {
      "text/plain": [
       "(2, 18, 1200)"
      ]
     },
     "execution_count": 8,
     "metadata": {},
     "output_type": "execute_result"
    }
   ],
   "source": [
    "np.load('./test_set/j0y0_testingset.npy').shape"
   ]
  },
  {
   "cell_type": "code",
   "execution_count": 9,
   "metadata": {},
   "outputs": [],
   "source": [
    "#np.load(img_dir+file_names)"
   ]
  },
  {
   "cell_type": "code",
   "execution_count": 10,
   "metadata": {},
   "outputs": [],
   "source": [
    "from torch.utils.data import Dataset\n",
    "\n",
    "class EEGDataset(Dataset):\n",
    "    def __init__(self, file_names, img_dir='./test_set/', transform=None, target_transform=None):\n",
    "        self.file_names = file_names\n",
    "        self.img_dir = img_dir\n",
    "        self.transform = transform\n",
    "        self.target_transform = target_transform\n",
    "\n",
    "    def __len__(self):\n",
    "        return len(self.file_names)\n",
    "\n",
    "    def __getitem__(self, idx):\n",
    "#         path = r'C:\\Users\\jerem\\eeg_proj\\eeg_env\\test_set\\*'\n",
    "        traineeg = np.load(self.img_dir+self.file_names[idx])\n",
    "        return traineeg, traineeg"
   ]
  },
  {
   "cell_type": "code",
   "execution_count": 20,
   "metadata": {},
   "outputs": [
    {
     "name": "stdout",
     "output_type": "stream",
     "text": [
      "16743\n",
      "torch.Size([256, 2, 18, 1200]) torch.Size([256, 2, 18, 1200])\n",
      "<class 'torch.Tensor'> <class 'torch.Tensor'>\n"
     ]
    }
   ],
   "source": [
    "filenames = glob.glob('./train_set/*.npy')\n",
    "print(len(filenames))\n",
    "training_generator = DataLoader(EEGDataset(filenames, img_dir=''),  batch_size=256)\n",
    "for x,y in training_generator:\n",
    "    print (x.shape, y.shape)\n",
    "    print(type(x),type(y))\n",
    "    break"
   ]
  },
  {
   "cell_type": "code",
   "execution_count": 21,
   "metadata": {
    "scrolled": false
   },
   "outputs": [
    {
     "name": "stdout",
     "output_type": "stream",
     "text": [
      "10807\n",
      "torch.Size([256, 2, 18, 1200]) torch.Size([256, 2, 18, 1200])\n",
      "<class 'torch.Tensor'> <class 'torch.Tensor'>\n"
     ]
    }
   ],
   "source": [
    "filenames = glob.glob('./test_set/*.npy')\n",
    "print(len(filenames))\n",
    "testing_generator = DataLoader(EEGDataset(filenames, img_dir=''),  batch_size=256)\n",
    "for x,y in testing_generator:\n",
    "    print (x.shape, y.shape)\n",
    "    print(type(x),type(y))\n",
    "    break"
   ]
  },
  {
   "cell_type": "code",
   "execution_count": 36,
   "metadata": {},
   "outputs": [],
   "source": [
    "class Encoder(nn.Module):\n",
    "    \n",
    "    def __init__(self, encoded_space_dim,fc2_input_dim):\n",
    "        super().__init__()\n",
    "        \n",
    "        ### Convolutional section\n",
    "        self.encoder_cnn = nn.Sequential( #three convolutional layers\n",
    "            nn.Conv2d(2, 8, 3, stride=2, padding=1),\n",
    "            nn.ReLU(True),\n",
    "            nn.Conv2d(8, 16, 3, stride=2, padding=1),\n",
    "            nn.BatchNorm2d(16),\n",
    "            nn.ReLU(True),\n",
    "            nn.Conv2d(16, 32, 3, stride=2, padding=0),\n",
    "            nn.ReLU(True)\n",
    "        )\n",
    "        \n",
    "        ### Flatten layer\n",
    "        self.flatten = nn.Flatten(start_dim=1)\n",
    "        ### Linear section\n",
    "        self.encoder_lin = nn.Sequential( #two fully connected layers\n",
    "            nn.Linear(9536, 128),\n",
    "            nn.ReLU(True),\n",
    "            nn.Linear(128, encoded_space_dim)\n",
    "        )\n",
    "        \n",
    "    def forward(self, x):\n",
    "        x = x.float()\n",
    "        x = self.encoder_cnn(x)\n",
    "        x = self.flatten(x)\n",
    "        #x = x.view(-1,3 * 3 * 32)\n",
    "        x = self.encoder_lin(x)\n",
    "        \n",
    "        return x"
   ]
  },
  {
   "cell_type": "code",
   "execution_count": 55,
   "metadata": {
    "scrolled": false
   },
   "outputs": [],
   "source": [
    "class Decoder(nn.Module): #decoder has the same architecture with the encoder but in inverse order\n",
    "    \n",
    "    def __init__(self, encoded_space_dim,fc2_input_dim):\n",
    "        super().__init__()\n",
    "        self.decoder_lin = nn.Sequential(\n",
    "            nn.Linear(encoded_space_dim, 128),\n",
    "            nn.ReLU(True),\n",
    "            nn.Linear(128, 3 * 3 * 32),\n",
    "            nn.ReLU(True)\n",
    "        )\n",
    "\n",
    "        self.unflatten = nn.Unflatten(dim=1, \n",
    "        unflattened_size=(32, 3, 3))\n",
    "\n",
    "        self.decoder_conv = nn.Sequential(\n",
    "            nn.ConvTranspose2d(32, 16, 3, \n",
    "            stride=2, output_padding=0),\n",
    "            nn.BatchNorm2d(16),\n",
    "            nn.ReLU(True),\n",
    "            nn.ConvTranspose2d(16, 8, 3, stride=2, \n",
    "            padding=1, output_padding=1),\n",
    "            nn.BatchNorm2d(8),\n",
    "            nn.ReLU(True),\n",
    "            nn.ConvTranspose2d(8, 1, 3, stride=2, \n",
    "            padding=1, output_padding=1)\n",
    "        )\n",
    "        \n",
    "    def forward(self, x):\n",
    "        x = self.decoder_lin(x)\n",
    "        x = self.unflatten(x)\n",
    "        x = self.decoder_conv(x)\n",
    "        x = torch.sigmoid(x)\n",
    "        return x"
   ]
  },
  {
   "cell_type": "code",
   "execution_count": 56,
   "metadata": {},
   "outputs": [
    {
     "data": {
      "text/plain": [
       "tensor([[-0.0056, -0.1922],\n",
       "        [-0.0056, -0.1922],\n",
       "        [-0.0057, -0.1922],\n",
       "        [-0.0056, -0.1922],\n",
       "        [-0.0057, -0.1922],\n",
       "        [-0.0056, -0.1922],\n",
       "        [-0.0056, -0.1922],\n",
       "        [-0.0056, -0.1922],\n",
       "        [-0.0056, -0.1922],\n",
       "        [-0.0056, -0.1922],\n",
       "        [-0.0056, -0.1922],\n",
       "        [-0.0056, -0.1922],\n",
       "        [-0.0057, -0.1922],\n",
       "        [-0.0056, -0.1922],\n",
       "        [-0.0056, -0.1922],\n",
       "        [-0.0056, -0.1922],\n",
       "        [-0.0056, -0.1922],\n",
       "        [-0.0056, -0.1922],\n",
       "        [-0.0056, -0.1922],\n",
       "        [-0.0056, -0.1922],\n",
       "        [-0.0056, -0.1922],\n",
       "        [-0.0056, -0.1922],\n",
       "        [-0.0057, -0.1922],\n",
       "        [-0.0056, -0.1922],\n",
       "        [-0.0056, -0.1922],\n",
       "        [-0.0056, -0.1922],\n",
       "        [-0.0056, -0.1923],\n",
       "        [-0.0056, -0.1922],\n",
       "        [-0.0056, -0.1922],\n",
       "        [-0.0056, -0.1922],\n",
       "        [-0.0056, -0.1922],\n",
       "        [-0.0056, -0.1922],\n",
       "        [-0.0056, -0.1922],\n",
       "        [-0.0056, -0.1922],\n",
       "        [-0.0056, -0.1922],\n",
       "        [-0.0056, -0.1922],\n",
       "        [-0.0056, -0.1922],\n",
       "        [-0.0056, -0.1922],\n",
       "        [-0.0056, -0.1922],\n",
       "        [-0.0056, -0.1922],\n",
       "        [-0.0056, -0.1922],\n",
       "        [-0.0056, -0.1922],\n",
       "        [-0.0056, -0.1922],\n",
       "        [-0.0056, -0.1922],\n",
       "        [-0.0056, -0.1922],\n",
       "        [-0.0056, -0.1922],\n",
       "        [-0.0056, -0.1922],\n",
       "        [-0.0057, -0.1922],\n",
       "        [-0.0057, -0.1922],\n",
       "        [-0.0056, -0.1922],\n",
       "        [-0.0056, -0.1922],\n",
       "        [-0.0056, -0.1922],\n",
       "        [-0.0056, -0.1922],\n",
       "        [-0.0056, -0.1922],\n",
       "        [-0.0056, -0.1922],\n",
       "        [-0.0056, -0.1922],\n",
       "        [-0.0056, -0.1922],\n",
       "        [-0.0056, -0.1922],\n",
       "        [-0.0056, -0.1922],\n",
       "        [-0.0056, -0.1922],\n",
       "        [-0.0057, -0.1922],\n",
       "        [-0.0056, -0.1922],\n",
       "        [-0.0056, -0.1922],\n",
       "        [-0.0056, -0.1922],\n",
       "        [-0.0056, -0.1922],\n",
       "        [-0.0057, -0.1922],\n",
       "        [-0.0056, -0.1922],\n",
       "        [-0.0056, -0.1922],\n",
       "        [-0.0056, -0.1922],\n",
       "        [-0.0056, -0.1922],\n",
       "        [-0.0056, -0.1922],\n",
       "        [-0.0056, -0.1922],\n",
       "        [-0.0056, -0.1922],\n",
       "        [-0.0057, -0.1922],\n",
       "        [-0.0056, -0.1922],\n",
       "        [-0.0057, -0.1923],\n",
       "        [-0.0056, -0.1922],\n",
       "        [-0.0056, -0.1922],\n",
       "        [-0.0056, -0.1922],\n",
       "        [-0.0056, -0.1922],\n",
       "        [-0.0056, -0.1922],\n",
       "        [-0.0056, -0.1922],\n",
       "        [-0.0057, -0.1922],\n",
       "        [-0.0056, -0.1922],\n",
       "        [-0.0057, -0.1922],\n",
       "        [-0.0057, -0.1922],\n",
       "        [-0.0056, -0.1922],\n",
       "        [-0.0056, -0.1922],\n",
       "        [-0.0056, -0.1922],\n",
       "        [-0.0056, -0.1922],\n",
       "        [-0.0056, -0.1921],\n",
       "        [-0.0056, -0.1922],\n",
       "        [-0.0056, -0.1922],\n",
       "        [-0.0056, -0.1922],\n",
       "        [-0.0056, -0.1922],\n",
       "        [-0.0056, -0.1922],\n",
       "        [-0.0056, -0.1922],\n",
       "        [-0.0056, -0.1922],\n",
       "        [-0.0056, -0.1922],\n",
       "        [-0.0056, -0.1922],\n",
       "        [-0.0057, -0.1922],\n",
       "        [-0.0057, -0.1922],\n",
       "        [-0.0056, -0.1922],\n",
       "        [-0.0056, -0.1922],\n",
       "        [-0.0056, -0.1922],\n",
       "        [-0.0057, -0.1922],\n",
       "        [-0.0057, -0.1922],\n",
       "        [-0.0056, -0.1922],\n",
       "        [-0.0056, -0.1922],\n",
       "        [-0.0056, -0.1922],\n",
       "        [-0.0056, -0.1921],\n",
       "        [-0.0056, -0.1922],\n",
       "        [-0.0056, -0.1922],\n",
       "        [-0.0057, -0.1922],\n",
       "        [-0.0057, -0.1923],\n",
       "        [-0.0057, -0.1923],\n",
       "        [-0.0056, -0.1922],\n",
       "        [-0.0057, -0.1922],\n",
       "        [-0.0056, -0.1922],\n",
       "        [-0.0056, -0.1922],\n",
       "        [-0.0056, -0.1922],\n",
       "        [-0.0056, -0.1923],\n",
       "        [-0.0056, -0.1922],\n",
       "        [-0.0056, -0.1922],\n",
       "        [-0.0057, -0.1923],\n",
       "        [-0.0057, -0.1922],\n",
       "        [-0.0056, -0.1922],\n",
       "        [-0.0057, -0.1922],\n",
       "        [-0.0056, -0.1922],\n",
       "        [-0.0056, -0.1922],\n",
       "        [-0.0056, -0.1922],\n",
       "        [-0.0056, -0.1922],\n",
       "        [-0.0056, -0.1922],\n",
       "        [-0.0056, -0.1922],\n",
       "        [-0.0056, -0.1921],\n",
       "        [-0.0056, -0.1922],\n",
       "        [-0.0056, -0.1922],\n",
       "        [-0.0056, -0.1922],\n",
       "        [-0.0056, -0.1922],\n",
       "        [-0.0056, -0.1922],\n",
       "        [-0.0057, -0.1922],\n",
       "        [-0.0056, -0.1922],\n",
       "        [-0.0056, -0.1922],\n",
       "        [-0.0056, -0.1922],\n",
       "        [-0.0056, -0.1922],\n",
       "        [-0.0056, -0.1922],\n",
       "        [-0.0056, -0.1922],\n",
       "        [-0.0056, -0.1922],\n",
       "        [-0.0057, -0.1922],\n",
       "        [-0.0056, -0.1922],\n",
       "        [-0.0057, -0.1923],\n",
       "        [-0.0056, -0.1922],\n",
       "        [-0.0056, -0.1922],\n",
       "        [-0.0056, -0.1922],\n",
       "        [-0.0057, -0.1922],\n",
       "        [-0.0057, -0.1922],\n",
       "        [-0.0057, -0.1923],\n",
       "        [-0.0056, -0.1922],\n",
       "        [-0.0057, -0.1922],\n",
       "        [-0.0056, -0.1922],\n",
       "        [-0.0056, -0.1922],\n",
       "        [-0.0057, -0.1922],\n",
       "        [-0.0056, -0.1922],\n",
       "        [-0.0057, -0.1923],\n",
       "        [-0.0057, -0.1923],\n",
       "        [-0.0056, -0.1922],\n",
       "        [-0.0056, -0.1922],\n",
       "        [-0.0056, -0.1922],\n",
       "        [-0.0056, -0.1922],\n",
       "        [-0.0056, -0.1922],\n",
       "        [-0.0056, -0.1922],\n",
       "        [-0.0057, -0.1922],\n",
       "        [-0.0056, -0.1922],\n",
       "        [-0.0057, -0.1922],\n",
       "        [-0.0056, -0.1923],\n",
       "        [-0.0056, -0.1922],\n",
       "        [-0.0056, -0.1922],\n",
       "        [-0.0056, -0.1922],\n",
       "        [-0.0056, -0.1922],\n",
       "        [-0.0056, -0.1922],\n",
       "        [-0.0056, -0.1921],\n",
       "        [-0.0056, -0.1922],\n",
       "        [-0.0056, -0.1922],\n",
       "        [-0.0056, -0.1922],\n",
       "        [-0.0056, -0.1922],\n",
       "        [-0.0056, -0.1922],\n",
       "        [-0.0057, -0.1922],\n",
       "        [-0.0057, -0.1922],\n",
       "        [-0.0057, -0.1922],\n",
       "        [-0.0057, -0.1922],\n",
       "        [-0.0056, -0.1922],\n",
       "        [-0.0056, -0.1922],\n",
       "        [-0.0056, -0.1922],\n",
       "        [-0.0056, -0.1922],\n",
       "        [-0.0056, -0.1922],\n",
       "        [-0.0057, -0.1923],\n",
       "        [-0.0056, -0.1922],\n",
       "        [-0.0057, -0.1923],\n",
       "        [-0.0056, -0.1923],\n",
       "        [-0.0056, -0.1922],\n",
       "        [-0.0056, -0.1922],\n",
       "        [-0.0057, -0.1922],\n",
       "        [-0.0056, -0.1922],\n",
       "        [-0.0057, -0.1922],\n",
       "        [-0.0056, -0.1922],\n",
       "        [-0.0056, -0.1923],\n",
       "        [-0.0057, -0.1922],\n",
       "        [-0.0057, -0.1922],\n",
       "        [-0.0057, -0.1922],\n",
       "        [-0.0057, -0.1923],\n",
       "        [-0.0056, -0.1922],\n",
       "        [-0.0056, -0.1922],\n",
       "        [-0.0056, -0.1922],\n",
       "        [-0.0056, -0.1922],\n",
       "        [-0.0057, -0.1922],\n",
       "        [-0.0056, -0.1922],\n",
       "        [-0.0056, -0.1922],\n",
       "        [-0.0056, -0.1922],\n",
       "        [-0.0057, -0.1922],\n",
       "        [-0.0056, -0.1923],\n",
       "        [-0.0056, -0.1922],\n",
       "        [-0.0057, -0.1922],\n",
       "        [-0.0057, -0.1923],\n",
       "        [-0.0057, -0.1922],\n",
       "        [-0.0056, -0.1922],\n",
       "        [-0.0057, -0.1922],\n",
       "        [-0.0056, -0.1922],\n",
       "        [-0.0057, -0.1922],\n",
       "        [-0.0056, -0.1922],\n",
       "        [-0.0056, -0.1922],\n",
       "        [-0.0056, -0.1922],\n",
       "        [-0.0056, -0.1922],\n",
       "        [-0.0057, -0.1922],\n",
       "        [-0.0056, -0.1922],\n",
       "        [-0.0056, -0.1922],\n",
       "        [-0.0056, -0.1922],\n",
       "        [-0.0056, -0.1922],\n",
       "        [-0.0056, -0.1922],\n",
       "        [-0.0056, -0.1922],\n",
       "        [-0.0057, -0.1922],\n",
       "        [-0.0056, -0.1922],\n",
       "        [-0.0056, -0.1922],\n",
       "        [-0.0057, -0.1922],\n",
       "        [-0.0056, -0.1923],\n",
       "        [-0.0056, -0.1922],\n",
       "        [-0.0057, -0.1922],\n",
       "        [-0.0056, -0.1922],\n",
       "        [-0.0057, -0.1922],\n",
       "        [-0.0057, -0.1922],\n",
       "        [-0.0057, -0.1922],\n",
       "        [-0.0057, -0.1922],\n",
       "        [-0.0056, -0.1922],\n",
       "        [-0.0057, -0.1922],\n",
       "        [-0.0057, -0.1922],\n",
       "        [-0.0056, -0.1923],\n",
       "        [-0.0056, -0.1922]], grad_fn=<AddmmBackward0>)"
      ]
     },
     "execution_count": 56,
     "metadata": {},
     "output_type": "execute_result"
    }
   ],
   "source": [
    "encoder = Encoder(encoded_space_dim=2,fc2_input_dim=128)\n",
    "encoder(x.float())"
   ]
  },
  {
   "cell_type": "code",
   "execution_count": 57,
   "metadata": {},
   "outputs": [
    {
     "data": {
      "text/plain": [
       "tensor([[[[0.0417, 0.0185, 0.0185,  ..., 0.0185, 0.0185, 0.0184],\n",
       "          [0.0000, 0.0000, 0.0000,  ..., 0.0000, 0.0000, 0.0000]],\n",
       "\n",
       "         [[0.0898, 0.0889, 0.0889,  ..., 0.0889, 0.0889, 0.0889],\n",
       "          [0.0723, 0.0698, 0.0698,  ..., 0.0698, 0.0698, 0.0698]],\n",
       "\n",
       "         [[0.0000, 0.0000, 0.0000,  ..., 0.0000, 0.0000, 0.0000],\n",
       "          [0.0000, 0.0000, 0.0000,  ..., 0.0000, 0.0000, 0.0000]],\n",
       "\n",
       "         ...,\n",
       "\n",
       "         [[0.0634, 0.0722, 0.0722,  ..., 0.0722, 0.0722, 0.0722],\n",
       "          [0.0965, 0.1032, 0.1032,  ..., 0.1032, 0.1032, 0.1032]],\n",
       "\n",
       "         [[0.0492, 0.0745, 0.0745,  ..., 0.0745, 0.0745, 0.0744],\n",
       "          [0.0811, 0.0864, 0.0864,  ..., 0.0864, 0.0864, 0.0864]],\n",
       "\n",
       "         [[0.0631, 0.0589, 0.0589,  ..., 0.0589, 0.0589, 0.0589],\n",
       "          [0.0641, 0.0712, 0.0711,  ..., 0.0713, 0.0712, 0.0712]]],\n",
       "\n",
       "\n",
       "        [[[0.0417, 0.0184, 0.0184,  ..., 0.0184, 0.0185, 0.0185],\n",
       "          [0.0000, 0.0000, 0.0000,  ..., 0.0000, 0.0000, 0.0000]],\n",
       "\n",
       "         [[0.0898, 0.0889, 0.0889,  ..., 0.0889, 0.0889, 0.0889],\n",
       "          [0.0723, 0.0698, 0.0698,  ..., 0.0698, 0.0698, 0.0698]],\n",
       "\n",
       "         [[0.0000, 0.0000, 0.0000,  ..., 0.0000, 0.0000, 0.0000],\n",
       "          [0.0000, 0.0000, 0.0000,  ..., 0.0000, 0.0000, 0.0000]],\n",
       "\n",
       "         ...,\n",
       "\n",
       "         [[0.0634, 0.0722, 0.0722,  ..., 0.0722, 0.0722, 0.0723],\n",
       "          [0.0964, 0.1032, 0.1032,  ..., 0.1031, 0.1031, 0.1032]],\n",
       "\n",
       "         [[0.0493, 0.0744, 0.0745,  ..., 0.0745, 0.0745, 0.0745],\n",
       "          [0.0811, 0.0863, 0.0863,  ..., 0.0863, 0.0863, 0.0864]],\n",
       "\n",
       "         [[0.0631, 0.0589, 0.0589,  ..., 0.0588, 0.0588, 0.0588],\n",
       "          [0.0641, 0.0712, 0.0712,  ..., 0.0712, 0.0713, 0.0712]]],\n",
       "\n",
       "\n",
       "        [[[0.0418, 0.0184, 0.0184,  ..., 0.0185, 0.0185, 0.0185],\n",
       "          [0.0000, 0.0000, 0.0000,  ..., 0.0000, 0.0000, 0.0000]],\n",
       "\n",
       "         [[0.0898, 0.0889, 0.0888,  ..., 0.0889, 0.0889, 0.0889],\n",
       "          [0.0722, 0.0698, 0.0698,  ..., 0.0698, 0.0698, 0.0698]],\n",
       "\n",
       "         [[0.0000, 0.0000, 0.0000,  ..., 0.0000, 0.0000, 0.0000],\n",
       "          [0.0000, 0.0000, 0.0000,  ..., 0.0000, 0.0000, 0.0000]],\n",
       "\n",
       "         ...,\n",
       "\n",
       "         [[0.0635, 0.0722, 0.0722,  ..., 0.0723, 0.0723, 0.0723],\n",
       "          [0.0965, 0.1032, 0.1032,  ..., 0.1032, 0.1032, 0.1032]],\n",
       "\n",
       "         [[0.0493, 0.0745, 0.0745,  ..., 0.0745, 0.0745, 0.0745],\n",
       "          [0.0811, 0.0863, 0.0863,  ..., 0.0864, 0.0863, 0.0863]],\n",
       "\n",
       "         [[0.0631, 0.0588, 0.0588,  ..., 0.0589, 0.0589, 0.0589],\n",
       "          [0.0641, 0.0712, 0.0712,  ..., 0.0711, 0.0711, 0.0712]]],\n",
       "\n",
       "\n",
       "        ...,\n",
       "\n",
       "\n",
       "        [[[0.0417, 0.0185, 0.0185,  ..., 0.0185, 0.0185, 0.0185],\n",
       "          [0.0000, 0.0000, 0.0000,  ..., 0.0000, 0.0000, 0.0000]],\n",
       "\n",
       "         [[0.0898, 0.0889, 0.0889,  ..., 0.0888, 0.0888, 0.0888],\n",
       "          [0.0726, 0.0699, 0.0698,  ..., 0.0697, 0.0697, 0.0697]],\n",
       "\n",
       "         [[0.0000, 0.0000, 0.0000,  ..., 0.0000, 0.0000, 0.0000],\n",
       "          [0.0000, 0.0000, 0.0000,  ..., 0.0000, 0.0000, 0.0000]],\n",
       "\n",
       "         ...,\n",
       "\n",
       "         [[0.0635, 0.0722, 0.0722,  ..., 0.0724, 0.0724, 0.0724],\n",
       "          [0.0964, 0.1032, 0.1032,  ..., 0.1032, 0.1032, 0.1031]],\n",
       "\n",
       "         [[0.0493, 0.0745, 0.0745,  ..., 0.0746, 0.0746, 0.0746],\n",
       "          [0.0817, 0.0864, 0.0864,  ..., 0.0864, 0.0863, 0.0863]],\n",
       "\n",
       "         [[0.0631, 0.0589, 0.0588,  ..., 0.0589, 0.0589, 0.0588],\n",
       "          [0.0637, 0.0711, 0.0711,  ..., 0.0710, 0.0710, 0.0710]]],\n",
       "\n",
       "\n",
       "        [[[0.0417, 0.0184, 0.0184,  ..., 0.0186, 0.0186, 0.0186],\n",
       "          [0.0000, 0.0000, 0.0000,  ..., 0.0000, 0.0000, 0.0000]],\n",
       "\n",
       "         [[0.0898, 0.0889, 0.0889,  ..., 0.0888, 0.0887, 0.0887],\n",
       "          [0.0723, 0.0698, 0.0698,  ..., 0.0697, 0.0697, 0.0697]],\n",
       "\n",
       "         [[0.0000, 0.0000, 0.0000,  ..., 0.0000, 0.0000, 0.0000],\n",
       "          [0.0000, 0.0000, 0.0000,  ..., 0.0000, 0.0000, 0.0000]],\n",
       "\n",
       "         ...,\n",
       "\n",
       "         [[0.0634, 0.0721, 0.0721,  ..., 0.0728, 0.0728, 0.0729],\n",
       "          [0.0965, 0.1032, 0.1032,  ..., 0.1031, 0.1031, 0.1031]],\n",
       "\n",
       "         [[0.0492, 0.0744, 0.0744,  ..., 0.0750, 0.0751, 0.0751],\n",
       "          [0.0811, 0.0863, 0.0863,  ..., 0.0862, 0.0862, 0.0862]],\n",
       "\n",
       "         [[0.0631, 0.0589, 0.0589,  ..., 0.0586, 0.0585, 0.0585],\n",
       "          [0.0642, 0.0713, 0.0712,  ..., 0.0713, 0.0714, 0.0714]]],\n",
       "\n",
       "\n",
       "        [[[0.0417, 0.0185, 0.0185,  ..., 0.0185, 0.0185, 0.0185],\n",
       "          [0.0000, 0.0000, 0.0000,  ..., 0.0000, 0.0000, 0.0000]],\n",
       "\n",
       "         [[0.0898, 0.0889, 0.0889,  ..., 0.0889, 0.0889, 0.0889],\n",
       "          [0.0722, 0.0698, 0.0699,  ..., 0.0698, 0.0699, 0.0699]],\n",
       "\n",
       "         [[0.0000, 0.0000, 0.0000,  ..., 0.0000, 0.0000, 0.0000],\n",
       "          [0.0000, 0.0000, 0.0000,  ..., 0.0000, 0.0000, 0.0000]],\n",
       "\n",
       "         ...,\n",
       "\n",
       "         [[0.0635, 0.0722, 0.0722,  ..., 0.0722, 0.0722, 0.0722],\n",
       "          [0.0965, 0.1032, 0.1032,  ..., 0.1033, 0.1032, 0.1033]],\n",
       "\n",
       "         [[0.0492, 0.0744, 0.0745,  ..., 0.0744, 0.0745, 0.0745],\n",
       "          [0.0811, 0.0864, 0.0864,  ..., 0.0864, 0.0864, 0.0864]],\n",
       "\n",
       "         [[0.0631, 0.0589, 0.0589,  ..., 0.0588, 0.0588, 0.0588],\n",
       "          [0.0642, 0.0712, 0.0712,  ..., 0.0710, 0.0710, 0.0710]]]],\n",
       "       grad_fn=<ReluBackward0>)"
      ]
     },
     "execution_count": 57,
     "metadata": {},
     "output_type": "execute_result"
    }
   ],
   "source": [
    "#input_test = torch.rand(1, 18, 1199000)\n",
    "\n",
    "# model = nn.Conv1d(18, 8, 3, stride=2, padding=1)\n",
    "# model(input_test)\n",
    "\n",
    "model = nn.Sequential( #three convolutional layers \n",
    "            nn.Conv2d(2, 8, 3, stride=2, padding=1),\n",
    "            nn.ReLU(True),\n",
    "            nn.Conv2d(8, 16, 3, stride=2, padding=1),\n",
    "            nn.BatchNorm2d(16),\n",
    "            nn.ReLU(True),\n",
    "            nn.Conv2d(16, 32, 3, stride=2, padding=0),\n",
    "            nn.ReLU(True)\n",
    "        )\n",
    "\n",
    "model(x.float())\n",
    "# self.encoder_cnn = nn.Sequential( #three convolutional layers \n",
    "#     nn.Conv2d(18, 8, 3, stride=2, padding=1),\n",
    "#     nn.ReLU(True),\n",
    "#     nn.Conv2d(18, 16, 3, stride=2, padding=1),\n",
    "#     nn.BatchNorm2d(16),\n",
    "#     nn.ReLU(True),\n",
    "#     nn.Conv2d(16, 32, 3, stride=2, padding=0),\n",
    "#     nn.ReLU(True)\n",
    "# )\n"
   ]
  },
  {
   "cell_type": "code",
   "execution_count": 58,
   "metadata": {},
   "outputs": [
    {
     "name": "stdout",
     "output_type": "stream",
     "text": [
      "Selected device: cuda\n"
     ]
    },
    {
     "data": {
      "text/plain": [
       "Decoder(\n",
       "  (decoder_lin): Sequential(\n",
       "    (0): Linear(in_features=4, out_features=128, bias=True)\n",
       "    (1): ReLU(inplace=True)\n",
       "    (2): Linear(in_features=128, out_features=288, bias=True)\n",
       "    (3): ReLU(inplace=True)\n",
       "  )\n",
       "  (unflatten): Unflatten(dim=1, unflattened_size=(32, 3, 3))\n",
       "  (decoder_conv): Sequential(\n",
       "    (0): ConvTranspose2d(32, 16, kernel_size=(3, 3), stride=(2, 2))\n",
       "    (1): BatchNorm2d(16, eps=1e-05, momentum=0.1, affine=True, track_running_stats=True)\n",
       "    (2): ReLU(inplace=True)\n",
       "    (3): ConvTranspose2d(16, 8, kernel_size=(3, 3), stride=(2, 2), padding=(1, 1), output_padding=(1, 1))\n",
       "    (4): BatchNorm2d(8, eps=1e-05, momentum=0.1, affine=True, track_running_stats=True)\n",
       "    (5): ReLU(inplace=True)\n",
       "    (6): ConvTranspose2d(8, 1, kernel_size=(3, 3), stride=(2, 2), padding=(1, 1), output_padding=(1, 1))\n",
       "  )\n",
       ")"
      ]
     },
     "execution_count": 58,
     "metadata": {},
     "output_type": "execute_result"
    }
   ],
   "source": [
    "### Define the loss function\n",
    "loss_fn = torch.nn.MSELoss()\n",
    "\n",
    "### Define an optimizer (both for the encoder and the decoder!)\n",
    "lr= 0.001\n",
    "\n",
    "### Set the random seed for reproducible results\n",
    "torch.manual_seed(0)\n",
    "\n",
    "### Initialize the two networks\n",
    "d = 4\n",
    "\n",
    "#model = Autoencoder(encoded_space_dim=encoded_space_dim)\n",
    "encoder = Encoder(encoded_space_dim=d,fc2_input_dim=128)\n",
    "decoder = Decoder(encoded_space_dim=d,fc2_input_dim=128)\n",
    "params_to_optimize = [\n",
    "    {'params': encoder.parameters()},\n",
    "    {'params': decoder.parameters()}\n",
    "]\n",
    "\n",
    "optim = torch.optim.Adam(params_to_optimize, lr=lr, weight_decay=1e-05)\n",
    "\n",
    "# Check if the GPU is available\n",
    "device = torch.device(\"cuda\") if torch.cuda.is_available() else torch.device(\"cpu\")\n",
    "print(f'Selected device: {device}')\n",
    "\n",
    "# Move both the encoder and the decoder to the selected device\n",
    "encoder.to(device)\n",
    "decoder.to(device)\n",
    "\n"
   ]
  },
  {
   "cell_type": "code",
   "execution_count": 59,
   "metadata": {},
   "outputs": [],
   "source": [
    "### Training function\n",
    "def train_epoch(encoder, decoder, loss_fn, dataloader, optimizer):\n",
    "    # Set train mode for both the encoder and the decoder\n",
    "    encoder.train()\n",
    "    decoder.train()\n",
    "    train_loss = []\n",
    "    #sklearn.model_selection.train_test_split(*arrays, test_size=1, train_size=136, random_state=None, shuffle=True, stratify=None)\n",
    "    # Iterate the dataloader (we do not need the label values, this is unsupervised learning)\n",
    "    for eeg, _ in dataloader: # with \"_\" we just ignore the labels (the second element of the dataloader tuple)\n",
    "        for i in tqdm(range(256)): #show the process of training\n",
    "        # Move tensor to the proper device\n",
    "            eeg = eeg.to(device)\n",
    "        # Encode data\n",
    "            encoded_data = encoder(eeg)\n",
    "        # Decode data\n",
    "            decoded_data = decoder(encoded_data)\n",
    "        # Evaluate loss\n",
    "            loss = loss_fn(decoded_data, eeg)\n",
    "        # Backward pass\n",
    "            optimizer.zero_grad()\n",
    "            loss.backward()\n",
    "            optimizer.step()\n",
    "        # Print batch loss\n",
    "            print('\\t training {}/{}'.format(i + 1, len(dataset)))\n",
    "            print('\\t partial train loss (single batch): %f' % (loss.data))\n",
    "            train_loss.append(loss.detach().cpu().numpy())\n",
    "    return np.mean(train_loss)"
   ]
  },
  {
   "cell_type": "code",
   "execution_count": 60,
   "metadata": {},
   "outputs": [],
   "source": [
    "### Testing function\n",
    "def test_epoch(encoder, decoder, dataloader, loss_fn):\n",
    "    # Set evaluation mode for encoder and decoder\n",
    "    encoder.eval()\n",
    "    decoder.eval()\n",
    "    with torch.no_grad(): # No need to track the gradients\n",
    "        # Define the lists to store the outputs for each batch\n",
    "        conc_out = []\n",
    "        conc_label = []\n",
    "        for eeg, _ in dataloader:\n",
    "            '''for epoch in range(30):\n",
    "                for i in tqdm(range(272)):'''\n",
    "            # Move tensor to the proper device\n",
    "            eeg = eeg.to(device)\n",
    "            # Encode data\n",
    "            encoded_data = encoder(eeg)\n",
    "            # Decode data\n",
    "            decoded_data = decoder(encoded_data)\n",
    "            # Append the network output and the original image to the lists\n",
    "            conc_out.append(decoded_data.cpu())\n",
    "            conc_label.append(eeg.cpu())\n",
    "            #print('\\t EPOCH {}/{}'.format(epoch + 1, num_epochs))\n",
    "        # Create a single tensor with all the values in the lists\n",
    "        conc_out = torch.cat(conc_out)\n",
    "        conc_label = torch.cat(conc_label) \n",
    "        # Evaluate global loss\n",
    "        val_loss = loss_fn(conc_out, conc_label)\n",
    "        print('\\t val_loss{}'.format(val_loss))\n",
    "    return val_loss.data"
   ]
  },
  {
   "cell_type": "code",
   "execution_count": 61,
   "metadata": {},
   "outputs": [
    {
     "data": {
      "text/plain": [
       "\"def plot_ae_outputs(encoder,decoder,n=10):\\n    plt.figure(figsize=(16,4.5))\\n    targets = test_dataset.targets.numpy()\\n    t_idx = {i:np.where(targets==i)[0][0] for i in range(n)}\\n    for i in range(n):\\n      ax = plt.subplot(2,n,i+1)\\n      img = test_dataset[t_idx[i]][0].unsqueeze(0).to(device)\\n      encoder.eval()\\n      decoder.eval()\\n      with torch.no_grad():\\n         rec_img  = decoder(encoder(img))\\n      plt.imshow(img.cpu().squeeze().numpy(), cmap='gist_gray')\\n      ax.get_xaxis().set_visible(False)\\n      ax.get_yaxis().set_visible(False)  \\n      if i == n//2:\\n        ax.set_title('Original images')\\n      ax = plt.subplot(2, n, i + 1 + n)\\n      plt.imshow(rec_img.cpu().squeeze().numpy(), cmap='gist_gray')  \\n      ax.get_xaxis().set_visible(False)\\n      ax.get_yaxis().set_visible(False)  \\n      if i == n//2:\\n         ax.set_title('Reconstructed images')\\n    plt.show()\""
      ]
     },
     "execution_count": 61,
     "metadata": {},
     "output_type": "execute_result"
    }
   ],
   "source": [
    "'''def plot_ae_outputs(encoder,decoder,n=10):\n",
    "    plt.figure(figsize=(16,4.5))\n",
    "    targets = test_dataset.targets.numpy()\n",
    "    t_idx = {i:np.where(targets==i)[0][0] for i in range(n)}\n",
    "    for i in range(n):\n",
    "      ax = plt.subplot(2,n,i+1)\n",
    "      img = test_dataset[t_idx[i]][0].unsqueeze(0).to(device)\n",
    "      encoder.eval()\n",
    "      decoder.eval()\n",
    "      with torch.no_grad():\n",
    "         rec_img  = decoder(encoder(img))\n",
    "      plt.imshow(img.cpu().squeeze().numpy(), cmap='gist_gray')\n",
    "      ax.get_xaxis().set_visible(False)\n",
    "      ax.get_yaxis().set_visible(False)  \n",
    "      if i == n//2:\n",
    "        ax.set_title('Original images')\n",
    "      ax = plt.subplot(2, n, i + 1 + n)\n",
    "      plt.imshow(rec_img.cpu().squeeze().numpy(), cmap='gist_gray')  \n",
    "      ax.get_xaxis().set_visible(False)\n",
    "      ax.get_yaxis().set_visible(False)  \n",
    "      if i == n//2:\n",
    "         ax.set_title('Reconstructed images')\n",
    "    plt.show()'''"
   ]
  },
  {
   "cell_type": "code",
   "execution_count": 62,
   "metadata": {},
   "outputs": [],
   "source": [
    "def plot_EEG(encoder,decoder,n=272): \n",
    "    from random import choice\n",
    "    plot = choice([i for i in range(1,272) if i not in [227]])\n",
    "    print(plot)\n",
    "    testdata = glob.glob(r'C:\\Users\\jerem\\Downloads\\segments\\*.set')\n",
    "    for i in range(n):\n",
    "        if i == plot:\n",
    "            epochs = mne.io.read_epochs_eeglab(testdata[i])\n",
    "            epochs.plot(block=True) \n",
    "            plt.show()"
   ]
  },
  {
   "cell_type": "code",
   "execution_count": 63,
   "metadata": {},
   "outputs": [
    {
     "name": "stderr",
     "output_type": "stream",
     "text": [
      "  0%|                                                                                                                                                                                   | 0/16743 [00:00<?, ?it/s]C:\\Users\\jerem\\eeg_proj\\eeg_env\\lib\\site-packages\\torch\\nn\\modules\\loss.py:536: UserWarning: Using a target size (torch.Size([256, 2, 18, 1200])) that is different to the input size (torch.Size([256, 1, 28, 28])). This will likely lead to incorrect results due to broadcasting. Please ensure they have the same size.\n",
      "  return F.mse_loss(input, target, reduction=self.reduction)\n",
      "  0%|                                                                                                                                                                                   | 0/16743 [00:02<?, ?it/s]\n"
     ]
    },
    {
     "ename": "RuntimeError",
     "evalue": "The size of tensor a (28) must match the size of tensor b (1200) at non-singleton dimension 3",
     "output_type": "error",
     "traceback": [
      "\u001b[1;31m---------------------------------------------------------------------------\u001b[0m",
      "\u001b[1;31mRuntimeError\u001b[0m                              Traceback (most recent call last)",
      "Cell \u001b[1;32mIn [63], line 4\u001b[0m\n\u001b[0;32m      2\u001b[0m diz_loss \u001b[38;5;241m=\u001b[39m {\u001b[38;5;124m'\u001b[39m\u001b[38;5;124mtrain_loss\u001b[39m\u001b[38;5;124m'\u001b[39m:[],\u001b[38;5;124m'\u001b[39m\u001b[38;5;124mval_loss\u001b[39m\u001b[38;5;124m'\u001b[39m:[]}\n\u001b[0;32m      3\u001b[0m \u001b[38;5;28;01mfor\u001b[39;00m epoch \u001b[38;5;129;01min\u001b[39;00m \u001b[38;5;28mrange\u001b[39m(num_epochs):\n\u001b[1;32m----> 4\u001b[0m     train_loss \u001b[38;5;241m=\u001b[39m\u001b[43mtrain_epoch\u001b[49m\u001b[43m(\u001b[49m\u001b[43mencoder\u001b[49m\u001b[43m,\u001b[49m\u001b[43m \u001b[49m\u001b[43mdecoder\u001b[49m\u001b[43m,\u001b[49m\u001b[43m \u001b[49m\u001b[43mloss_fn\u001b[49m\u001b[43m,\u001b[49m\u001b[43m \u001b[49m\u001b[43mtraining_generator\u001b[49m\u001b[43m,\u001b[49m\u001b[43m \u001b[49m\u001b[43moptim\u001b[49m\u001b[43m)\u001b[49m\n\u001b[0;32m      5\u001b[0m     val_loss \u001b[38;5;241m=\u001b[39m test_epoch(encoder,decoder,testing_generator,loss_fn)\n\u001b[0;32m      6\u001b[0m     \u001b[38;5;28mprint\u001b[39m(\u001b[38;5;124m'\u001b[39m\u001b[38;5;130;01m\\n\u001b[39;00m\u001b[38;5;124m EPOCH \u001b[39m\u001b[38;5;132;01m{}\u001b[39;00m\u001b[38;5;124m/\u001b[39m\u001b[38;5;132;01m{}\u001b[39;00m\u001b[38;5;124m \u001b[39m\u001b[38;5;130;01m\\t\u001b[39;00m\u001b[38;5;124m train loss \u001b[39m\u001b[38;5;132;01m{}\u001b[39;00m\u001b[38;5;124m \u001b[39m\u001b[38;5;130;01m\\t\u001b[39;00m\u001b[38;5;124m val loss \u001b[39m\u001b[38;5;132;01m{}\u001b[39;00m\u001b[38;5;124m'\u001b[39m\u001b[38;5;241m.\u001b[39mformat(epoch \u001b[38;5;241m+\u001b[39m \u001b[38;5;241m1\u001b[39m, num_epochs,train_loss,val_loss))\n",
      "Cell \u001b[1;32mIn [59], line 18\u001b[0m, in \u001b[0;36mtrain_epoch\u001b[1;34m(encoder, decoder, loss_fn, dataloader, optimizer)\u001b[0m\n\u001b[0;32m     16\u001b[0m     decoded_data \u001b[38;5;241m=\u001b[39m decoder(encoded_data)\n\u001b[0;32m     17\u001b[0m \u001b[38;5;66;03m# Evaluate loss\u001b[39;00m\n\u001b[1;32m---> 18\u001b[0m     loss \u001b[38;5;241m=\u001b[39m \u001b[43mloss_fn\u001b[49m\u001b[43m(\u001b[49m\u001b[43mdecoded_data\u001b[49m\u001b[43m,\u001b[49m\u001b[43m \u001b[49m\u001b[43meeg\u001b[49m\u001b[43m)\u001b[49m\n\u001b[0;32m     19\u001b[0m \u001b[38;5;66;03m# Backward pass\u001b[39;00m\n\u001b[0;32m     20\u001b[0m     optimizer\u001b[38;5;241m.\u001b[39mzero_grad()\n",
      "File \u001b[1;32m~\\eeg_proj\\eeg_env\\lib\\site-packages\\torch\\nn\\modules\\module.py:1190\u001b[0m, in \u001b[0;36mModule._call_impl\u001b[1;34m(self, *input, **kwargs)\u001b[0m\n\u001b[0;32m   1186\u001b[0m \u001b[38;5;66;03m# If we don't have any hooks, we want to skip the rest of the logic in\u001b[39;00m\n\u001b[0;32m   1187\u001b[0m \u001b[38;5;66;03m# this function, and just call forward.\u001b[39;00m\n\u001b[0;32m   1188\u001b[0m \u001b[38;5;28;01mif\u001b[39;00m \u001b[38;5;129;01mnot\u001b[39;00m (\u001b[38;5;28mself\u001b[39m\u001b[38;5;241m.\u001b[39m_backward_hooks \u001b[38;5;129;01mor\u001b[39;00m \u001b[38;5;28mself\u001b[39m\u001b[38;5;241m.\u001b[39m_forward_hooks \u001b[38;5;129;01mor\u001b[39;00m \u001b[38;5;28mself\u001b[39m\u001b[38;5;241m.\u001b[39m_forward_pre_hooks \u001b[38;5;129;01mor\u001b[39;00m _global_backward_hooks\n\u001b[0;32m   1189\u001b[0m         \u001b[38;5;129;01mor\u001b[39;00m _global_forward_hooks \u001b[38;5;129;01mor\u001b[39;00m _global_forward_pre_hooks):\n\u001b[1;32m-> 1190\u001b[0m     \u001b[38;5;28;01mreturn\u001b[39;00m forward_call(\u001b[38;5;241m*\u001b[39m\u001b[38;5;28minput\u001b[39m, \u001b[38;5;241m*\u001b[39m\u001b[38;5;241m*\u001b[39mkwargs)\n\u001b[0;32m   1191\u001b[0m \u001b[38;5;66;03m# Do not call functions when jit is used\u001b[39;00m\n\u001b[0;32m   1192\u001b[0m full_backward_hooks, non_full_backward_hooks \u001b[38;5;241m=\u001b[39m [], []\n",
      "File \u001b[1;32m~\\eeg_proj\\eeg_env\\lib\\site-packages\\torch\\nn\\modules\\loss.py:536\u001b[0m, in \u001b[0;36mMSELoss.forward\u001b[1;34m(self, input, target)\u001b[0m\n\u001b[0;32m    535\u001b[0m \u001b[38;5;28;01mdef\u001b[39;00m \u001b[38;5;21mforward\u001b[39m(\u001b[38;5;28mself\u001b[39m, \u001b[38;5;28minput\u001b[39m: Tensor, target: Tensor) \u001b[38;5;241m-\u001b[39m\u001b[38;5;241m>\u001b[39m Tensor:\n\u001b[1;32m--> 536\u001b[0m     \u001b[38;5;28;01mreturn\u001b[39;00m \u001b[43mF\u001b[49m\u001b[38;5;241;43m.\u001b[39;49m\u001b[43mmse_loss\u001b[49m\u001b[43m(\u001b[49m\u001b[38;5;28;43minput\u001b[39;49m\u001b[43m,\u001b[49m\u001b[43m \u001b[49m\u001b[43mtarget\u001b[49m\u001b[43m,\u001b[49m\u001b[43m \u001b[49m\u001b[43mreduction\u001b[49m\u001b[38;5;241;43m=\u001b[39;49m\u001b[38;5;28;43mself\u001b[39;49m\u001b[38;5;241;43m.\u001b[39;49m\u001b[43mreduction\u001b[49m\u001b[43m)\u001b[49m\n",
      "File \u001b[1;32m~\\eeg_proj\\eeg_env\\lib\\site-packages\\torch\\nn\\functional.py:3291\u001b[0m, in \u001b[0;36mmse_loss\u001b[1;34m(input, target, size_average, reduce, reduction)\u001b[0m\n\u001b[0;32m   3288\u001b[0m \u001b[38;5;28;01mif\u001b[39;00m size_average \u001b[38;5;129;01mis\u001b[39;00m \u001b[38;5;129;01mnot\u001b[39;00m \u001b[38;5;28;01mNone\u001b[39;00m \u001b[38;5;129;01mor\u001b[39;00m reduce \u001b[38;5;129;01mis\u001b[39;00m \u001b[38;5;129;01mnot\u001b[39;00m \u001b[38;5;28;01mNone\u001b[39;00m:\n\u001b[0;32m   3289\u001b[0m     reduction \u001b[38;5;241m=\u001b[39m _Reduction\u001b[38;5;241m.\u001b[39mlegacy_get_string(size_average, reduce)\n\u001b[1;32m-> 3291\u001b[0m expanded_input, expanded_target \u001b[38;5;241m=\u001b[39m \u001b[43mtorch\u001b[49m\u001b[38;5;241;43m.\u001b[39;49m\u001b[43mbroadcast_tensors\u001b[49m\u001b[43m(\u001b[49m\u001b[38;5;28;43minput\u001b[39;49m\u001b[43m,\u001b[49m\u001b[43m \u001b[49m\u001b[43mtarget\u001b[49m\u001b[43m)\u001b[49m\n\u001b[0;32m   3292\u001b[0m \u001b[38;5;28;01mreturn\u001b[39;00m torch\u001b[38;5;241m.\u001b[39m_C\u001b[38;5;241m.\u001b[39m_nn\u001b[38;5;241m.\u001b[39mmse_loss(expanded_input, expanded_target, _Reduction\u001b[38;5;241m.\u001b[39mget_enum(reduction))\n",
      "File \u001b[1;32m~\\eeg_proj\\eeg_env\\lib\\site-packages\\torch\\functional.py:74\u001b[0m, in \u001b[0;36mbroadcast_tensors\u001b[1;34m(*tensors)\u001b[0m\n\u001b[0;32m     72\u001b[0m \u001b[38;5;28;01mif\u001b[39;00m has_torch_function(tensors):\n\u001b[0;32m     73\u001b[0m     \u001b[38;5;28;01mreturn\u001b[39;00m handle_torch_function(broadcast_tensors, tensors, \u001b[38;5;241m*\u001b[39mtensors)\n\u001b[1;32m---> 74\u001b[0m \u001b[38;5;28;01mreturn\u001b[39;00m \u001b[43m_VF\u001b[49m\u001b[38;5;241;43m.\u001b[39;49m\u001b[43mbroadcast_tensors\u001b[49m\u001b[43m(\u001b[49m\u001b[43mtensors\u001b[49m\u001b[43m)\u001b[49m\n",
      "\u001b[1;31mRuntimeError\u001b[0m: The size of tensor a (28) must match the size of tensor b (1200) at non-singleton dimension 3"
     ]
    }
   ],
   "source": [
    "num_epochs = 30\n",
    "diz_loss = {'train_loss':[],'val_loss':[]}\n",
    "for epoch in range(num_epochs):\n",
    "    train_loss =train_epoch(encoder, decoder, loss_fn, training_generator, optim)\n",
    "    val_loss = test_epoch(encoder,decoder,testing_generator,loss_fn)\n",
    "    print('\\n EPOCH {}/{} \\t train loss {} \\t val loss {}'.format(epoch + 1, num_epochs,train_loss,val_loss))\n",
    "    diz_loss['train_loss'].append(train_loss)\n",
    "    diz_loss['val_loss'].append(val_loss)\n",
    "    #plot_ae_outputs(encoder,decoder,n=10)\n",
    "    plot_EEG(encoder,decoder,n=272)"
   ]
  },
  {
   "cell_type": "code",
   "execution_count": null,
   "metadata": {},
   "outputs": [],
   "source": [
    "test_epoch(encoder,decoder,test_loader,loss_fn).item()"
   ]
  },
  {
   "cell_type": "code",
   "execution_count": null,
   "metadata": {},
   "outputs": [],
   "source": [
    "#plot how the reconstruction losses decrease over the epochs\n",
    "plt.figure(figsize=(10,8))\n",
    "plt.semilogy(diz_loss['train_loss'], label='Train')\n",
    "plt.semilogy(diz_loss['val_loss'], label='Valid')\n",
    "plt.xlabel('Epoch')\n",
    "plt.ylabel('Average Loss')\n",
    "#plt.grid()\n",
    "plt.legend()\n",
    "#plt.title('loss')\n",
    "plt.show()"
   ]
  },
  {
   "cell_type": "code",
   "execution_count": null,
   "metadata": {},
   "outputs": [],
   "source": [
    "# Generate new samples from the random latent code\n",
    "def show_image(img):\n",
    "    npimg = img.numpy()\n",
    "    plt.imshow(np.transpose(npimg, (1, 2, 0)))\n",
    "\n",
    "encoder.eval()\n",
    "decoder.eval()\n",
    "\n",
    "with torch.no_grad():\n",
    "    # calculate mean and std of latent code, generated takining in test images as inputs \n",
    "    images, labels = iter(test_loader).next()\n",
    "    images = images.to(device)\n",
    "    latent = encoder(images)\n",
    "    latent = latent.cpu()\n",
    "\n",
    "    mean = latent.mean(dim=0)\n",
    "    print(mean)\n",
    "    std = (latent - mean).pow(2).mean(dim=0).sqrt()\n",
    "    print(std)\n",
    "\n",
    "    # sample latent vectors from the normal distribution\n",
    "    latent = torch.randn(128, d)*std + mean\n",
    "\n",
    "    # reconstruct images from the random latent vectors\n",
    "    latent = latent.to(device)\n",
    "    img_recon = decoder(latent)\n",
    "    img_recon = img_recon.cpu()\n",
    "\n",
    "    fig, ax = plt.subplots(figsize=(20, 8.5))\n",
    "    show_image(torchvision.utils.make_grid(img_recon[:100],10,5))\n",
    "    plt.show()"
   ]
  },
  {
   "cell_type": "code",
   "execution_count": null,
   "metadata": {},
   "outputs": [],
   "source": [
    "#observe dynamic visualization to see the latent space learned by the autoencoder:\n",
    "\n",
    "#create the encoded samples using the test set\n",
    "encoded_samples = []\n",
    "for sample in tqdm(test_dataset):\n",
    "    img = sample[0].unsqueeze(0).to(device)\n",
    "    label = sample[1]\n",
    "    # Encode image\n",
    "    encoder.eval()\n",
    "    with torch.no_grad():\n",
    "        encoded_img  = encoder(img)\n",
    "    # Append to list\n",
    "    encoded_img = encoded_img.flatten().cpu().numpy()\n",
    "    encoded_sample = {f\"Enc. Variable {i}\": enc for i, enc in enumerate(encoded_img)}\n",
    "    encoded_sample['label'] = label\n",
    "    encoded_samples.append(encoded_sample)\n",
    "encoded_samples = pd.DataFrame(encoded_samples)\n",
    "encoded_samples"
   ]
  },
  {
   "cell_type": "code",
   "execution_count": null,
   "metadata": {},
   "outputs": [],
   "source": [
    "#plot the latent space representation using plotly express library\n",
    "import plotly.express as px\n",
    "\n",
    "px.scatter(encoded_samples, x='Enc. Variable 0', y='Enc. Variable 1', \n",
    "           color=encoded_samples.label.astype(str), opacity=0.7)"
   ]
  },
  {
   "cell_type": "code",
   "execution_count": null,
   "metadata": {},
   "outputs": [],
   "source": [
    "# visualize the latent code in a 2d space\n",
    "from sklearn.manifold import TSNE\n",
    "\n",
    "tsne = TSNE(n_components=2)\n",
    "tsne_results = tsne.fit_transform(encoded_samples.drop(['label'],axis=1))\n",
    "fig = px.scatter(tsne_results, x=0, y=1,\n",
    "                 color=encoded_samples.label.astype(str),\n",
    "                 labels={'0': 'tsne-2d-one', '1': 'tsne-2d-two'})\n",
    "fig.show()"
   ]
  },
  {
   "cell_type": "code",
   "execution_count": null,
   "metadata": {},
   "outputs": [],
   "source": []
  },
  {
   "cell_type": "code",
   "execution_count": null,
   "metadata": {},
   "outputs": [],
   "source": []
  },
  {
   "cell_type": "code",
   "execution_count": null,
   "metadata": {},
   "outputs": [],
   "source": []
  }
 ],
 "metadata": {
  "kernelspec": {
   "display_name": "Python 3 (ipykernel)",
   "language": "python",
   "name": "python3"
  },
  "language_info": {
   "codemirror_mode": {
    "name": "ipython",
    "version": 3
   },
   "file_extension": ".py",
   "mimetype": "text/x-python",
   "name": "python",
   "nbconvert_exporter": "python",
   "pygments_lexer": "ipython3",
   "version": "3.10.8"
  }
 },
 "nbformat": 4,
 "nbformat_minor": 2
}
